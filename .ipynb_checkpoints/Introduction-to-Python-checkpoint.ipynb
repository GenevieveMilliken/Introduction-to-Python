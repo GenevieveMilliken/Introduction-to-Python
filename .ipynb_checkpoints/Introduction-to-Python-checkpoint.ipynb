{
 "cells": [
  {
   "cell_type": "markdown",
   "metadata": {},
   "source": [
    "# Introduction to Python\n",
    "## NYU Health Sciences Library\n"
   ]
  },
  {
   "cell_type": "markdown",
   "metadata": {},
   "source": [
    "# Why Python?\n",
    "Python is an incredibly efficient programming language and allows us to do some impressive things with only a few lines of code! Thanks to Python’s syntax, we can write “clean” code that is easier to debug and allows for overall readability. Further, code written in Python is easily extendable and reusable, allowing you and others to build upon existing code. Python is used in a variety of contexts from game design to data analysis. It is also used a lot in academic research, especially in the sciences, and can be used for data collection (e.g., web scraping), data cleaning, and visualization.\n"
   ]
  },
  {
   "cell_type": "markdown",
   "metadata": {},
   "source": [
    "## Why Python for Scientific Computing?\n",
    "\n",
    "Since it is relatively easy to use compared to other programming languages, Python has been widely adopted by researchers who don't want to spend a whole lot of time learning computer programming before they can start their actual project. Additionally, over the years an entire ecosystem of helper libraries (or \"packages\") has been developed to make scientific tasks even easier in Python. \n",
    "\n",
    "You may have already heard of some of these libraries, such as [PANDAS](https://pandas.pydata.org/) (which contains functions for data analysis), [SciPy](https://www.scipy.org/) (science and engineering), [NumPy](https://www.numpy.org/) (multi-dimensional data structures and high-level mathematics), [BioPython](https://biopython.org/) (biological computing), etc. There is some overlap between these libraries, and typically you will combine features from several different libraries to accomplish your research tasks.\n"
   ]
  },
  {
   "cell_type": "markdown",
   "metadata": {},
   "source": [
    "## Python Environment\n",
    "\n",
    "If Python is installed on your computer, you can interact with it on the command line, sometimes referred to as the \"terminal\", \"console\", \"Python shell\" or \"REPL\" (Read, Eval, Print and Loop). More often, people use a text editor, such as [Sublime](https://www.sublimetext.com/), or more sophisticated IDEs such as [PyCharm](https://www.jetbrains.com/pycharm/) to write and run code. With a lot of setups available, you have many options to choose from!\n",
    "\n",
    "Today, we are using a browser-based Jupyter Notebook and Anaconda, which allows users to selectively run code cells and add rich text elements (paragraph, equations, figures, notes, links) in Markdown. With code, notes, instructions, and comments all in one place, it serves as a powerful resource and learning tool for you!\n",
    "\n",
    "Try running each of the code blocks below using **`Shift-Enter` (Windows) or `Control-Return`** (Mac). Any text after the # symbol is a comment for humans, and will be ignored by Python. You can also try editing the code blocks and seeing the new results."
   ]
  },
  {
   "cell_type": "code",
   "execution_count": null,
   "metadata": {},
   "outputs": [],
   "source": [
    "3 + 4   # addition"
   ]
  },
  {
   "cell_type": "code",
   "execution_count": null,
   "metadata": {},
   "outputs": [],
   "source": [
    "5 * 2   # multiplication"
   ]
  },
  {
   "cell_type": "code",
   "execution_count": null,
   "metadata": {},
   "outputs": [],
   "source": [
    "5 ** 2  # exponentiation"
   ]
  },
  {
   "cell_type": "code",
   "execution_count": null,
   "metadata": {},
   "outputs": [],
   "source": [
    "True    # boolean: \"True\" and \"False\" are reserved keywords in Python, meaning you can't use them yourself as e.g. variable names"
   ]
  },
  {
   "cell_type": "code",
   "execution_count": null,
   "metadata": {},
   "outputs": [],
   "source": [
    "not True # negating a boolean"
   ]
  },
  {
   "cell_type": "code",
   "execution_count": null,
   "metadata": {},
   "outputs": [],
   "source": [
    "not true     # booleans are case-sensitive, so this will throw an error"
   ]
  },
  {
   "cell_type": "markdown",
   "metadata": {},
   "source": [
    "## Python Syntax \n",
    "Python is sometimes loosely referred to as 'executable pseudocode' since it often uses easily recognizable words, which can be used to infer what is happening or what will happen. Take for example, the simple line of code below. What do you think will happen when we run it? \n"
   ]
  },
  {
   "cell_type": "code",
   "execution_count": 2,
   "metadata": {},
   "outputs": [
    {
     "name": "stdout",
     "output_type": "stream",
     "text": [
      "Hello World\n"
     ]
    }
   ],
   "source": [
    "print(\"Hello World\")"
   ]
  },
  {
   "cell_type": "markdown",
   "metadata": {},
   "source": [
    "Our inputs to Python can roughly be categorized as either commands (i.e., requests to do something), or definitions"
   ]
  },
  {
   "cell_type": "code",
   "execution_count": null,
   "metadata": {},
   "outputs": [],
   "source": [
    "# Two commands\n",
    "print(4 + 7)"
   ]
  },
  {
   "cell_type": "code",
   "execution_count": null,
   "metadata": {},
   "outputs": [],
   "source": [
    "# Defining a variable (this produces no output)\n",
    "my_location = \"New York University\""
   ]
  },
  {
   "cell_type": "code",
   "execution_count": null,
   "metadata": {},
   "outputs": [],
   "source": [
    "# Commanding Python to print the variable you just defined\n",
    "print(my_location)"
   ]
  },
  {
   "cell_type": "markdown",
   "metadata": {},
   "source": [
    "## What does this lesson cover? \n",
    "\n",
    "* Variables\n",
    "* Basic Data Types\n",
    "* Lists \n",
    "* Dictionaries\n",
    "* Loops\n",
    "* Conditional Statements\n",
    "* Functions and Arguments\n",
    "* Python Libraries"
   ]
  },
  {
   "cell_type": "markdown",
   "metadata": {},
   "source": [
    "# A Note About This Class\n",
    "\n",
    "Programming is a huge topic, and you can spend an entire lifetime learning and improving. So it's impossible for me to teach you everything you need to know in this one class. Therefore, I don't want you to get too bogged down in the details. It's OK if you leave this class without knowing the proper command for reversing a Python list. You may never have to use that command, and if you ever do, there is no shame in Googling it.\n",
    "\n",
    "It's much more important that you leave this class knowing how and where to find help when you need it. In fact, learning to search the internet for help is a very important part of programming. No matter what you're trying to do with Python, someone else has already done it before, and has probably posted about it online to help others. You just need to Google the right words to find it!\n",
    "\n",
    "Basically, the best way to learn Python is to find a problem that interests you, and that you need Python to solve. Once you are working towards a specific goal like this, the problems you face will become much smaller, and you'll know what questions you need to ask to accomplish your goal. For example, instead of your task being \"Learn Python\" (which can take an entire lifetime) your task will be, \"how to get standard deviation of all numbers in a list in Python.\" That is much easier!"
   ]
  },
  {
   "cell_type": "markdown",
   "metadata": {},
   "source": [
    "# Storing Data in Variables\n",
    "A variable is assigned a *value*. Once assigned, the variable holds the information associated with that value. \n",
    "Variables are important in programming languages. In Python, the convention is to use descriptive variables to help make clear what you are trying to do in your code. Using clear variables can help you maintain your code and can help others read and understand your code."
   ]
  },
  {
   "cell_type": "code",
   "execution_count": 1,
   "metadata": {},
   "outputs": [
    {
     "name": "stdout",
     "output_type": "stream",
     "text": [
      "A1C test\n"
     ]
    }
   ],
   "source": [
    "diabetes_test = \"A1C test\"\n",
    "print(diabetes_test)"
   ]
  },
  {
   "cell_type": "markdown",
   "metadata": {},
   "source": [
    "You can think about it as:\n",
    "> \"The variable 'diabetes_tests' *gets* the value(s) \"'A1C', 'Fasting Plasma Glucose', 'Oral Glucose Tolerance Test'.\""
   ]
  },
  {
   "cell_type": "markdown",
   "metadata": {},
   "source": [
    "# Lists \n",
    "Lists are mutable ordered containers of other objects, meaning they can be modified and elements can be added and taken away. The elements in the list maintain their order (until modified). "
   ]
  },
  {
   "cell_type": "code",
   "execution_count": 33,
   "metadata": {},
   "outputs": [],
   "source": [
    "diabetes_tests = [\"Fasting plasma glucose (FPG) test\", \"A1C test\", \"Random plasma glucos (RPG) test\"]"
   ]
  },
  {
   "cell_type": "code",
   "execution_count": 34,
   "metadata": {},
   "outputs": [
    {
     "name": "stdout",
     "output_type": "stream",
     "text": [
      "['Fasting plasma glucose (FPG) test', 'A1C test', 'Random plasma glucos (RPG) test']\n"
     ]
    }
   ],
   "source": [
    "print(diabetes_tests)"
   ]
  },
  {
   "cell_type": "markdown",
   "metadata": {},
   "source": [
    "## Add to a list\n"
   ]
  },
  {
   "cell_type": "code",
   "execution_count": 39,
   "metadata": {
    "scrolled": true
   },
   "outputs": [
    {
     "name": "stdout",
     "output_type": "stream",
     "text": [
      "['Fasting plasma glucose (FPG) test', 'Random plasma glucos (RPG) test', 'Glucose challenge test', 'Glucose challenge test']\n"
     ]
    }
   ],
   "source": [
    "diabetes_tests = diabetes_tests + [\"Glucose challenge test\"]\n",
    "print(diabetes_tests)"
   ]
  },
  {
   "cell_type": "markdown",
   "metadata": {},
   "source": [
    "## Remove item by index"
   ]
  },
  {
   "cell_type": "code",
   "execution_count": 40,
   "metadata": {},
   "outputs": [
    {
     "name": "stdout",
     "output_type": "stream",
     "text": [
      "['Fasting plasma glucose (FPG) test', 'Glucose challenge test', 'Glucose challenge test']\n"
     ]
    }
   ],
   "source": [
    " diabetes_tests.pop(1)\n",
    "print(diabetes_tests)"
   ]
  },
  {
   "cell_type": "code",
   "execution_count": null,
   "metadata": {},
   "outputs": [],
   "source": []
  }
 ],
 "metadata": {
  "kernelspec": {
   "display_name": "Python 3",
   "language": "python",
   "name": "python3"
  },
  "language_info": {
   "codemirror_mode": {
    "name": "ipython",
    "version": 3
   },
   "file_extension": ".py",
   "mimetype": "text/x-python",
   "name": "python",
   "nbconvert_exporter": "python",
   "pygments_lexer": "ipython3",
   "version": "3.8.8"
  }
 },
 "nbformat": 4,
 "nbformat_minor": 4
}
