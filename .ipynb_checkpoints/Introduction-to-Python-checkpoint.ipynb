{
 "cells": [
  {
   "cell_type": "markdown",
   "metadata": {},
   "source": [
    "# Introduction to Python\n",
    "## NYU Health Sciences Library\n"
   ]
  },
  {
   "cell_type": "markdown",
   "metadata": {},
   "source": [
    "# Why Python?\n",
    "Python is an incredibly efficient programming language and allows us to do some impressive things with only a few lines of code! Thanks to Python’s syntax, we can write “clean” code that is easier to debug and allows for overall readability. Further, code written in Python is easily extendable and reusable, allowing you and others to build upon existing code. Python is used in a variety of contexts from game design to data analysis. It is also used a lot in academic research, especially in the sciences. Yet, it has utility regardless what discipline you come from or are currently working in.\n"
   ]
  },
  {
   "cell_type": "markdown",
   "metadata": {},
   "source": [
    "## Why Python for Scientific Computing?\n",
    "\n",
    "Since it is relatively easy to use compared to other programming languages, Python has been widely adopted by researchers who don't want to spend a whole lot of time learning computer programming before they can start their actual project. Additionally, over the years an entire ecosystem of helper libraries (or \"packages\") has been developed to make scientific tasks even easier in Python. \n",
    "\n",
    "You may have already heard of some of these libraries, such as [PANDAS](https://pandas.pydata.org/) (which contains functions for data analysis), [SciPy](https://www.scipy.org/) (science and engineering), [NumPy](https://www.numpy.org/) (multi-dimensional data structures and high-level mathematics), [BioPython](https://biopython.org/) (biological computing), etc. There is some overlap between these libraries, and typically you will combine features from several different libraries to accomplish your research tasks.\n"
   ]
  },
  {
   "cell_type": "markdown",
   "metadata": {},
   "source": [
    "## Python Environment\n",
    "\n",
    "If Python is installed on your computer, you can interact with it on the command line, sometimes referred to as the \"terminal\", \"console\", \"Python shell\" or \"REPL\" (Read, Eval, Print and Loop). More often, people use a text editor, such as [Sublime](https://www.sublimetext.com/), or more sophisticated IDEs such as [PyCharm](https://www.jetbrains.com/pycharm/) to write and run code. With a lot of setups available, you have many options to choose from!\n",
    "\n",
    "Today, we are using a browser-based Jupyter Notebook and Anaconda, which allows users to selectively run code cells and add rich text elements (paragraph, equations, figures, notes, links) in Markdown. With code, notes, instructions, and comments all in one place, it serves as a powerful resource and learning tool for you!"
   ]
  },
  {
   "cell_type": "markdown",
   "metadata": {},
   "source": [
    "## What does this lesson cover? \n",
    "\n",
    "* Variables\n",
    "* Basic Data Types\n",
    "* Lists \n",
    "* Dictionaries\n",
    "* Loops\n",
    "* Conditional Statements\n",
    "* Functions and Arguments\n",
    "* Python Libraries"
   ]
  },
  {
   "cell_type": "markdown",
   "metadata": {},
   "source": [
    "## Basic Syntax\n",
    "Python is sometimes loosely referred to as 'executable pseudocode' since it often uses easily recognizable words, which can be used to infer what is happening or what will happen. Take for example, the simple line of code below. What do you think will happen when we run it? \n",
    "\n",
    "**to run press `Shift-Enter` (Windows) or `Control-Return`** (Mac)"
   ]
  },
  {
   "cell_type": "code",
   "execution_count": 2,
   "metadata": {},
   "outputs": [
    {
     "name": "stdout",
     "output_type": "stream",
     "text": [
      "Hello World\n"
     ]
    }
   ],
   "source": [
    "print(\"Hello World\")"
   ]
  }
 ],
 "metadata": {
  "kernelspec": {
   "display_name": "Python 3",
   "language": "python",
   "name": "python3"
  },
  "language_info": {
   "codemirror_mode": {
    "name": "ipython",
    "version": 3
   },
   "file_extension": ".py",
   "mimetype": "text/x-python",
   "name": "python",
   "nbconvert_exporter": "python",
   "pygments_lexer": "ipython3",
   "version": "3.7.6"
  }
 },
 "nbformat": 4,
 "nbformat_minor": 4
}
