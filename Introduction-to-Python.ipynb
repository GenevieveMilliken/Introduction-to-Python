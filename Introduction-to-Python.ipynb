{
 "cells": [
  {
   "cell_type": "markdown",
   "metadata": {},
   "source": [
    "# Introduction to Python\n",
    "## NYU Health Sciences Library\n"
   ]
  },
  {
   "cell_type": "markdown",
   "metadata": {},
   "source": [
    "# Why Python?\n",
    "Python is an incredibly efficient programming language and allows you to do some impressive things with only a few lines of code! Thanks to Python’s syntax, we can write “clean” code that is easier to debug and allows for overall readability. Further, code written in Python is easily extendable and reusable, allowing you and others to build upon existing code. Python is used in a variety of contexts from game design to data analysis. It is also used a lot in academic research, especially in the sciences, and can be used for data collection (e.g., web scraping), data cleaning, data analysis, and visualization.\n"
   ]
  },
  {
   "cell_type": "markdown",
   "metadata": {},
   "source": [
    "## Why Python for Scientific Computing?\n",
    "\n",
    "Since it is relatively easy to use compared to other programming languages, Python has been widely adopted by researchers who don't want to spend a whole lot of time learning computer programming before they can start their actual project. Additionally, over the years an entire ecosystem of helper libraries (or \"packages\") has been developed to make scientific tasks even easier in Python. \n",
    "\n",
    "You may have already heard of some of these libraries, such as [PANDAS](https://pandas.pydata.org/) (which contains functions for data analysis), [SciPy](https://www.scipy.org/) (science and engineering), [NumPy](https://www.numpy.org/) (multi-dimensional data structures and high-level mathematics), [BioPython](https://biopython.org/) (biological computing), etc. There is some overlap between these libraries, and typically you will combine features from several different libraries to accomplish your research tasks.\n"
   ]
  },
  {
   "cell_type": "markdown",
   "metadata": {},
   "source": [
    "## Python Environment\n",
    "\n",
    "If Python is installed on your computer, you can interact with it on the command line, sometimes referred to as the \"terminal\", \"console\", \"Python shell\" or \"REPL\" (Read, Eval, Print and Loop). More often, people use a text editor, such as [Sublime](https://www.sublimetext.com/), or more sophisticated IDEs such as [PyCharm](https://www.jetbrains.com/pycharm/) to write and run code. With a lot of setups available, you have many options to choose from!\n",
    "\n",
    "Today, we are using a browser-based Jupyter Notebook and Anaconda, which allows users to selectively run code cells and add rich text elements (paragraph, equations, figures, notes, links) in Markdown. With code, notes, instructions, and comments all in one place, it serves as a powerful resource and learning tool for you!\n",
    "\n",
    "Try running each of the code blocks below using **`Shift-Enter` (Windows) or `Control-Return`** (Mac). Any text after the # symbol is a comment for humans, and will be ignored by Python. You can also try editing the code blocks and seeing the new results."
   ]
  },
  {
   "cell_type": "code",
   "execution_count": null,
   "metadata": {},
   "outputs": [],
   "source": [
    "3 + 4   # addition"
   ]
  },
  {
   "cell_type": "code",
   "execution_count": null,
   "metadata": {},
   "outputs": [],
   "source": [
    "5 * 2   # multiplication"
   ]
  },
  {
   "cell_type": "code",
   "execution_count": null,
   "metadata": {},
   "outputs": [],
   "source": [
    "5 / 2 # division"
   ]
  },
  {
   "cell_type": "code",
   "execution_count": null,
   "metadata": {
    "scrolled": true
   },
   "outputs": [],
   "source": [
    "5 ** 2  # exponentiation"
   ]
  },
  {
   "cell_type": "code",
   "execution_count": null,
   "metadata": {},
   "outputs": [],
   "source": [
    "True    # boolean: \"True\" and \"False\" are reserved keywords in Python, meaning you can't use them yourself as e.g. variable names"
   ]
  },
  {
   "cell_type": "code",
   "execution_count": null,
   "metadata": {},
   "outputs": [],
   "source": [
    "not True # negating a boolean"
   ]
  },
  {
   "cell_type": "code",
   "execution_count": null,
   "metadata": {},
   "outputs": [],
   "source": [
    "not true # booleans are case-sensitive, so this will throw an error"
   ]
  },
  {
   "cell_type": "code",
   "execution_count": null,
   "metadata": {},
   "outputs": [],
   "source": [
    "#Give it a try! \n",
    "\n",
    "\n"
   ]
  },
  {
   "cell_type": "markdown",
   "metadata": {},
   "source": [
    "## Python Syntax \n",
    "Python is sometimes loosely referred to as 'executable pseudocode' since it often uses easily recognizable words, which can be used to infer what is happening or what will happen. Take for example, the simple line of code below. What do you think will happen when we run it? \n"
   ]
  },
  {
   "cell_type": "code",
   "execution_count": null,
   "metadata": {},
   "outputs": [],
   "source": [
    "print(\"Hello World\")"
   ]
  },
  {
   "cell_type": "markdown",
   "metadata": {},
   "source": [
    "Our inputs to Python can roughly be categorized as either commands (i.e., requests to do something), or definitions"
   ]
  },
  {
   "cell_type": "code",
   "execution_count": null,
   "metadata": {},
   "outputs": [],
   "source": [
    "# Two commands\n",
    "print(4 + 7)"
   ]
  },
  {
   "cell_type": "code",
   "execution_count": null,
   "metadata": {},
   "outputs": [],
   "source": [
    "# Defining a variable (this produces no output)\n",
    "my_location = \"Health Sciences Library\""
   ]
  },
  {
   "cell_type": "code",
   "execution_count": null,
   "metadata": {},
   "outputs": [],
   "source": [
    "# Commanding Python to print the variable you just defined\n",
    "print(my_location)"
   ]
  },
  {
   "cell_type": "markdown",
   "metadata": {},
   "source": [
    "## What does this lesson cover? \n",
    "\n",
    "* Variables\n",
    "* Basic Data Types\n",
    "* Lists \n",
    "* Loops\n",
    "* Dictionaries\n",
    "* Conditional Statements\n",
    "* Functions and Arguments\n",
    "* Python Libraries"
   ]
  },
  {
   "cell_type": "markdown",
   "metadata": {},
   "source": [
    "# A Note About This Class\n",
    "\n",
    "Programming is a huge topic, and you can spend an entire lifetime learning and improving. So it's impossible for me to teach you everything you need to know in this one class. Therefore, I don't want you to get too bogged down in the details. It's OK if you leave this class without knowing the proper command for reversing a Python list. You may never have to use that command, and if you ever do, there is no shame in Googling it.\n",
    "\n",
    "It's much more important that you leave this class knowing how and where to find help when you need it. In fact, learning to search the internet for help is a very important part of programming. No matter what you're trying to do with Python, someone else has already done it before, and has probably posted about it online to help others. You just need to Google the right words to find it!\n",
    "\n",
    "Basically, the best way to learn Python is to find a problem that interests you, and that you need Python to solve. Once you are working towards a specific goal like this, the problems you face will become much smaller, and you'll know what questions you need to ask to accomplish your goal. For example, instead of your task being \"Learn Python\" (which can take an entire lifetime) your task will be, \"how to get standard deviation of all numbers in a list in Python.\" That is much easier!"
   ]
  },
  {
   "cell_type": "markdown",
   "metadata": {},
   "source": [
    "# Storing Data in Variables\n",
    "A variable is assigned a *value*. Once assigned, the variable holds the information associated with that value. \n",
    "Variables are important in programming languages. In Python, the convention is to use descriptive variables to help make clear what you are trying to do in your code. Using clear variables can help you maintain your code and can help others read and understand your code.\n",
    "\n",
    "In Python, we can assign a value to a variable, using the equals sign ```=```. "
   ]
  },
  {
   "cell_type": "code",
   "execution_count": null,
   "metadata": {},
   "outputs": [],
   "source": [
    "diabetes_test = \"A1C test\"\n",
    "print(diabetes_test)"
   ]
  },
  {
   "cell_type": "markdown",
   "metadata": {},
   "source": [
    "You can think about it as:\n",
    "> \"The variable 'diabetes_tests' *gets* the value \"'A1C test\""
   ]
  },
  {
   "cell_type": "markdown",
   "metadata": {},
   "source": [
    "## Example\n",
    "If we wanted to track the weight of a patient who weighs 60 kilograms, we could by assigning the value 60 to a variable weight_kg:"
   ]
  },
  {
   "cell_type": "code",
   "execution_count": null,
   "metadata": {},
   "outputs": [],
   "source": [
    "weight_kg = 60"
   ]
  },
  {
   "cell_type": "code",
   "execution_count": null,
   "metadata": {},
   "outputs": [],
   "source": [
    "patient_id = \"001\""
   ]
  },
  {
   "cell_type": "code",
   "execution_count": null,
   "metadata": {},
   "outputs": [],
   "source": [
    "weight_lb = 2.2 * weight_kg"
   ]
  },
  {
   "cell_type": "code",
   "execution_count": null,
   "metadata": {},
   "outputs": [],
   "source": [
    "weight_lb = 2.2 * weight_kg\n",
    "print(weight_lb, \"lbs.\")"
   ]
  },
  {
   "cell_type": "code",
   "execution_count": null,
   "metadata": {},
   "outputs": [],
   "source": [
    "patient_id = 'inflam_' + patient_id"
   ]
  },
  {
   "cell_type": "markdown",
   "metadata": {},
   "source": [
    "The value assigned to a variable will remain the same until you alter it. The value can be changed or reassigned within the program."
   ]
  },
  {
   "cell_type": "markdown",
   "metadata": {},
   "source": [
    "\n",
    "Why can we do this? Because Python interprets one line at a time! Be careful, once a variable has been changed, it will hold that new value. When in doubt, don't re-use variable names unless you are absolutely sure that you don't need the old value any longer.\n",
    "Rules for naming variables\n",
    "\n",
    "- can only contain letters, numbers, and underscores\n",
    "- can start with an underscore, but not a number\n",
    "- no spaces, but an underscore can be used to separate words or you can use CamelCase\n",
    "- cannot use the names of Python built-in functions or keywords\n",
    "- should be short, but descriptive (glucose_level is better than gl or g_l)\n",
    "- be consistent. If you start with CamelCase or snake_case, try to use it throughout\n"
   ]
  },
  {
   "cell_type": "markdown",
   "metadata": {},
   "source": [
    "# Examples of acceptable variable names\n",
    "\n",
    "```Patient_numbers = \n",
    "_supply_list = \n",
    "experiment_001_lab = \n",
    "glucose_level = ``` \n",
    "\n",
    "# Less helpful variable names\n",
    "\n",
    "```t_1 = \n",
    "gl = \n",
    "_hom_grad = \n",
    "inventlist = \n",
    "bknr =```"
   ]
  },
  {
   "cell_type": "markdown",
   "metadata": {},
   "source": [
    "# Data Types\n",
    "You may have noticed that Jupyter Notebooks is highlighting the text values in red, and the integers in green. The colors correspond to the different data types of these values. There are four basic data types in Python (though many more are available).\n",
    "\n",
    "*   string : `\"Hello there\"`\n",
    "*   boolean (true/false) : `True`\n",
    "*   integer : `4`\n",
    "*   decimal (float) : `4.0`\n",
    "\n",
    "You can check the type of any data using the `type()` function:"
   ]
  },
  {
   "cell_type": "code",
   "execution_count": null,
   "metadata": {},
   "outputs": [],
   "source": [
    "print(type(4))\n",
    "print(type(\"Hello\"))\n",
    "print(type(3.14))"
   ]
  },
  {
   "cell_type": "markdown",
   "metadata": {},
   "source": [
    "## Exercise"
   ]
  },
  {
   "cell_type": "code",
   "execution_count": null,
   "metadata": {},
   "outputs": [],
   "source": [
    "# Create a few helpful variable names relevent to your work\n",
    "# Assign them numeric values or text values  \n",
    "# Do a simple calculation and/or concatenate with strings\n",
    "# Check the data type for each variable \n",
    "\n",
    "\n",
    "\n",
    "\n"
   ]
  },
  {
   "cell_type": "markdown",
   "metadata": {},
   "source": [
    "# Lists \n",
    "Lists are mutable ordered containers of other objects, meaning they can be modified and elements can be added and taken away. The elements in the list maintain their order (until modified). In Python, square brackets ([]) indicate a list, and individual elements are seperated by a comma. "
   ]
  },
  {
   "cell_type": "code",
   "execution_count": 80,
   "metadata": {},
   "outputs": [],
   "source": [
    "diabetes_tests = [\"Fasting plasma glucose (FPG) test\", \"A1C test\", \"Random plasma glucos (RPG) test\"]"
   ]
  },
  {
   "cell_type": "code",
   "execution_count": 81,
   "metadata": {
    "scrolled": true
   },
   "outputs": [
    {
     "name": "stdout",
     "output_type": "stream",
     "text": [
      "3\n",
      "Fasting plasma glucose (FPG) test\n",
      "A1C Test\n",
      "['Fasting plasma glucose (FPG) test', 'A1C test']\n",
      "Random plasma glucos (RPG) test\n"
     ]
    }
   ],
   "source": [
    "print(len(diabetes_tests))\n",
    "\n",
    "# Note: Python indexes start at 0, not 1\n",
    "print(diabetes_tests[0])\n",
    "print(diabetes_tests[1].title())\n",
    "\n",
    "#Selecting a range\n",
    "#Note: \"2\" indicates \"to, but not including\"\n",
    "print(diabetes_tests[0:2])\n",
    "\n",
    "#Selecting the last value \n",
    "print(diabetes_tests[-1])"
   ]
  },
  {
   "cell_type": "markdown",
   "metadata": {},
   "source": [
    "## Add to a list\n"
   ]
  },
  {
   "cell_type": "code",
   "execution_count": 82,
   "metadata": {
    "scrolled": true
   },
   "outputs": [
    {
     "name": "stdout",
     "output_type": "stream",
     "text": [
      "['Fasting plasma glucose (FPG) test', 'A1C test', 'Random plasma glucos (RPG) test', 'Glucose challenge test']\n"
     ]
    },
    {
     "data": {
      "text/plain": [
       "4"
      ]
     },
     "execution_count": 82,
     "metadata": {},
     "output_type": "execute_result"
    }
   ],
   "source": [
    "# Adding using \"plus\" and string\n",
    "diabetes_tests = diabetes_tests + [\"Glucose challenge test\"]\n",
    "print(diabetes_tests)\n",
    "len(diabetes_tests)"
   ]
  },
  {
   "cell_type": "code",
   "execution_count": 83,
   "metadata": {},
   "outputs": [
    {
     "data": {
      "text/plain": [
       "5"
      ]
     },
     "execution_count": 83,
     "metadata": {},
     "output_type": "execute_result"
    }
   ],
   "source": [
    "#Adding using the append method\n",
    "diabetes_tests.append(\"Gestational Diabetes\")\n",
    "len(diabetes_tests)"
   ]
  },
  {
   "cell_type": "code",
   "execution_count": null,
   "metadata": {
    "scrolled": true
   },
   "outputs": [],
   "source": [
    "print(diabetes_tests[0:6])"
   ]
  },
  {
   "cell_type": "code",
   "execution_count": null,
   "metadata": {},
   "outputs": [],
   "source": [
    "# Insert at a specific position\n",
    "\n",
    "Data_Services = [\"Fred\", \"Genevieve\", \"Nicole\"] \n",
    "Data_Services.insert(0, \"Michelle\")\n",
    "print(Data_Services)"
   ]
  },
  {
   "cell_type": "markdown",
   "metadata": {},
   "source": [
    "## Remove item by index"
   ]
  },
  {
   "cell_type": "code",
   "execution_count": 84,
   "metadata": {},
   "outputs": [
    {
     "data": {
      "text/plain": [
       "4"
      ]
     },
     "execution_count": 84,
     "metadata": {},
     "output_type": "execute_result"
    }
   ],
   "source": [
    "# Remove using the pop method \n",
    "\n",
    "diabetes_tests.pop(1)\n",
    "len(diabetes_tests)\n",
    "\n"
   ]
  },
  {
   "cell_type": "code",
   "execution_count": 85,
   "metadata": {},
   "outputs": [
    {
     "data": {
      "text/plain": [
       "3"
      ]
     },
     "execution_count": 85,
     "metadata": {},
     "output_type": "execute_result"
    }
   ],
   "source": [
    "# Remove by value\n",
    "# Note: this only removes the first value; to remote all values you will need to use a loop\n",
    "\n",
    "diabetes_tests.remove(\"Gestational Diabetes\")\n",
    "len(diabetes_tests)"
   ]
  },
  {
   "cell_type": "markdown",
   "metadata": {},
   "source": [
    "## Testing if Something is In a List "
   ]
  },
  {
   "cell_type": "code",
   "execution_count": null,
   "metadata": {},
   "outputs": [],
   "source": [
    "if 'Glucose challenge test' in diabetes_tests:\n",
    "    print(\"Yes, it's in the list!\")\n",
    "else:\n",
    "    print(\"Nope, it's not included\")"
   ]
  },
  {
   "cell_type": "markdown",
   "metadata": {},
   "source": [
    "## Exercise"
   ]
  },
  {
   "cell_type": "code",
   "execution_count": null,
   "metadata": {},
   "outputs": [],
   "source": [
    "# Create a list of objects (e.g., names, values, equipment, etc)\n",
    "# Use insert()to add somthing to the beginning of your list\n",
    "# Use insert()to add somthing to the middle of your list\n",
    "# Use append to add something to the end of your list \n",
    "# use pop() to remove an item \n",
    "\n",
    "\n",
    "\n",
    "\n",
    "\n"
   ]
  },
  {
   "cell_type": "markdown",
   "metadata": {},
   "source": [
    "# For Loops"
   ]
  },
  {
   "cell_type": "markdown",
   "metadata": {},
   "source": [
    "# Dictionaries"
   ]
  },
  {
   "cell_type": "markdown",
   "metadata": {},
   "source": [
    "# Conditional Statements"
   ]
  },
  {
   "cell_type": "markdown",
   "metadata": {},
   "source": [
    "# Functions and Arguments"
   ]
  },
  {
   "cell_type": "markdown",
   "metadata": {},
   "source": [
    "# Python Libraries"
   ]
  },
  {
   "cell_type": "markdown",
   "metadata": {},
   "source": [
    "### Example 1: Plotting the Linear Regression of a Set of Random Numbers"
   ]
  },
  {
   "cell_type": "markdown",
   "metadata": {},
   "source": [
    "### Example 2: Downloading a CSV into a Pandas DataFrame, and Exploring the Data"
   ]
  },
  {
   "cell_type": "markdown",
   "metadata": {},
   "source": [
    "# Parting Thoughts\n",
    "\n",
    "\n",
    "It's important to be able to read official documentation, but it's often not enough to help you understand how to accomplish your goal. For solutions to real-world problems, **look for Stack Overflow questions, tutorials from blogs and/or coding schools, and especially \"cookbooks.\"**\n",
    "\n",
    "And again: the best way to learn Python is to **find your problem first**, then use Python as the solution. Starting with a goal will help focus your efforts.\n",
    "\n",
    "### Important science and math libraries\n",
    "- https://pandas.pydata.org/\n",
    "- https://www.scipy.org/\n",
    "- https://www.numpy.org/\n",
    "- https://biopython.org/\n",
    "- https://bokeh.pydata.org/en/latest/ (very nice visualizations)\n",
    "- https://www.tensorflow.org/ (machine learning)\n",
    "\n",
    "### Python Operators\n",
    "- https://www.programiz.com/python-programming/operators\n",
    "\n",
    "### Lists\n",
    "- https://stackoverflow.com/a/509295\n",
    "- https://realpython.com/python-lists-tuples/\n",
    "- https://docs.python.org/3/tutorial/datastructures.html\n",
    "\n",
    "### Dictionaries\n",
    "- https://realpython.com/python-dicts/\n",
    "\n",
    "### Specialized Scientific Data Structures\n",
    "- https://docs.scipy.org/doc/numpy/reference/arrays.ndarray.html\n",
    "- https://biopython.org/wiki/Seq\n",
    "- https://www.datacamp.com/community/tutorials/pandas-tutorial-dataframe-python\n",
    "\n",
    "### Loops\n",
    "- https://www.learnpython.org/en/Loops\n",
    "- https://www.datacamp.com/community/tutorials/for-loops-in-python\n",
    "- https://realpython.com/python-while-loop/\n",
    "\n",
    "### Functions\n",
    "- https://www.datacamp.com/community/tutorials/functions-python-tutorial\n",
    "- https://realpython.com/python-main-function/ (useful when you're writing a standalone script)\n",
    "\n",
    "### MatplotLib Tutorial and Gallery\n",
    "- https://matplotlib.org/3.1.0/tutorials/introductory/pyplot.html\n",
    "- https://matplotlib.org/3.1.0/gallery/index.html\n",
    "\n",
    "### Pandas\n",
    "- https://pandas.pydata.org/pandas-docs/stable/getting_started/10min.html\n",
    "- https://pandas.pydata.org/pandas-docs/stable/user_guide/cookbook.html\n",
    "- https://www.datacamp.com/community/tutorials/pandas-tutorial-dataframe-python\n",
    "- https://stackoverflow.com/questions/17071871/select-rows-from-a-dataframe-based-on-values-in-a-column-in-pandas?rq=1\n",
    "- https://www.datacamp.com/community/tutorials/joining-dataframes-pandas\n",
    "\n",
    "### More Resources and Online Courses\n",
    "- https://www.datacamp.com\n",
    "- https://realpython.com/\n",
    "- https://docs.python-guide.org/intro/learning/\n",
    "- https://www.coursera.org/learn/python\n",
    "- https://www.codecademy.com/learn/learn-python-3\n",
    "\n",
    "### Easily-Downloadable Datasets to Play With\n",
    "Note: when downloading datasets from GitHub, be sure to click on the \"raw\" button near the top to get the unformatted data, which is the only kind Python can accept. This URL (which usually starts with https://raw.githubusercontent.com) can be used directly in the Pandas `read_csv()` function\n",
    "- https://github.com/fivethirtyeight/data\n",
    "- https://github.com/mwaskom/seaborn-data"
   ]
  }
 ],
 "metadata": {
  "kernelspec": {
   "display_name": "Python 3",
   "language": "python",
   "name": "python3"
  },
  "language_info": {
   "codemirror_mode": {
    "name": "ipython",
    "version": 3
   },
   "file_extension": ".py",
   "mimetype": "text/x-python",
   "name": "python",
   "nbconvert_exporter": "python",
   "pygments_lexer": "ipython3",
   "version": "3.8.8"
  }
 },
 "nbformat": 4,
 "nbformat_minor": 4
}
