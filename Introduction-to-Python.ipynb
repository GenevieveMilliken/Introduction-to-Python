{
 "cells": [
  {
   "cell_type": "markdown",
   "metadata": {},
   "source": [
    "# Introduction to Python\n",
    "## NYU Health Sciences Library\n"
   ]
  },
  {
   "cell_type": "markdown",
   "metadata": {},
   "source": [
    "# Why Python?\n",
    "Python is an incredibly efficient programming language and allows you to do some impressive things with only a few lines of code! Thanks to Python’s syntax, we can write “clean” code that is easier to debug and allows for overall readability. Further, code written in Python is easily extendable and reusable, allowing you and others to build upon existing code. Python is used in a variety of contexts from game design to data analysis. It is also used a lot in academic research, especially in the sciences, and can be used for data collection (e.g., web scraping), data cleaning, data analysis, and visualization.\n"
   ]
  },
  {
   "cell_type": "markdown",
   "metadata": {},
   "source": [
    "## Why Python for Scientific Computing?\n",
    "\n",
    "Since it is relatively easy to use compared to other programming languages, Python has been widely adopted by researchers who don't want to spend a whole lot of time learning computer programming before they can start their actual project. Additionally, over the years an entire ecosystem of helper libraries (or \"packages\") has been developed to make scientific tasks even easier in Python. \n",
    "\n",
    "You may have already heard of some of these libraries, such as [PANDAS](https://pandas.pydata.org/) (which contains functions for data analysis), [SciPy](https://www.scipy.org/) (science and engineering), [NumPy](https://www.numpy.org/) (multi-dimensional data structures and high-level mathematics), [BioPython](https://biopython.org/) (biological computing), etc. There is some overlap between these libraries, and typically you will combine features from several different libraries to accomplish your research tasks.\n"
   ]
  },
  {
   "cell_type": "markdown",
   "metadata": {},
   "source": [
    "## Python Environment\n",
    "\n",
    "If Python is installed on your computer, you can interact with it on the command line, sometimes referred to as the \"terminal\", \"console\", \"Python shell\" or \"REPL\" (Read, Eval, Print and Loop). More often, people use a text editor, such as [Sublime](https://www.sublimetext.com/), or more sophisticated IDEs such as [PyCharm](https://www.jetbrains.com/pycharm/) to write and run code. With a lot of setups available, you have many options to choose from!\n",
    "\n",
    "Today, we are using a browser-based Jupyter Notebook and Anaconda, which allows users to selectively run code cells and add rich text elements (paragraph, equations, figures, notes, links) in Markdown. With code, notes, instructions, and comments all in one place, it serves as a powerful resource and learning tool for you!\n",
    "\n",
    "Try running each of the code blocks below using **`Shift-Enter` (Windows) or `Control-Return`** (Mac). Any text after the # symbol is a comment for humans, and will be ignored by Python. You can also try editing the code blocks and seeing the new results."
   ]
  },
  {
   "cell_type": "code",
   "execution_count": null,
   "metadata": {},
   "outputs": [],
   "source": [
    "3 + 4   # addition"
   ]
  },
  {
   "cell_type": "code",
   "execution_count": null,
   "metadata": {},
   "outputs": [],
   "source": [
    "5 * 2   # multiplication"
   ]
  },
  {
   "cell_type": "code",
   "execution_count": null,
   "metadata": {},
   "outputs": [],
   "source": [
    "5 / 2 # division"
   ]
  },
  {
   "cell_type": "code",
   "execution_count": null,
   "metadata": {
    "scrolled": true
   },
   "outputs": [],
   "source": [
    "5 ** 2  # exponentiation"
   ]
  },
  {
   "cell_type": "code",
   "execution_count": null,
   "metadata": {},
   "outputs": [],
   "source": [
    "True    # boolean: \"True\" and \"False\" are reserved keywords in Python, meaning you can't use them yourself as e.g. variable names"
   ]
  },
  {
   "cell_type": "code",
   "execution_count": null,
   "metadata": {},
   "outputs": [],
   "source": [
    "not True # negating a boolean"
   ]
  },
  {
   "cell_type": "code",
   "execution_count": null,
   "metadata": {},
   "outputs": [],
   "source": [
    "not true # booleans are case-sensitive, so this will throw an error"
   ]
  },
  {
   "cell_type": "code",
   "execution_count": null,
   "metadata": {},
   "outputs": [],
   "source": [
    "#try a simple calculation out and run this cell! \n",
    "\n",
    "365 * 37\n"
   ]
  },
  {
   "cell_type": "markdown",
   "metadata": {},
   "source": [
    "## Python Syntax \n",
    "Python is sometimes loosely referred to as 'executable pseudocode' since it often uses easily recognizable words, which can be used to infer what is happening or what will happen. Take for example, the simple line of code below. What do you think will happen when we run it? \n"
   ]
  },
  {
   "cell_type": "code",
   "execution_count": null,
   "metadata": {},
   "outputs": [],
   "source": [
    "print(\"Hello World\")"
   ]
  },
  {
   "cell_type": "markdown",
   "metadata": {},
   "source": [
    "Our inputs to Python can roughly be categorized as either commands (i.e., requests to do something), or definitions"
   ]
  },
  {
   "cell_type": "code",
   "execution_count": null,
   "metadata": {},
   "outputs": [],
   "source": [
    "# Two commands\n",
    "print(4 + 7)"
   ]
  },
  {
   "cell_type": "code",
   "execution_count": null,
   "metadata": {},
   "outputs": [],
   "source": [
    "# Defining a variable (this produces no output)\n",
    "my_location = \"Health Sciences Library\""
   ]
  },
  {
   "cell_type": "code",
   "execution_count": null,
   "metadata": {},
   "outputs": [],
   "source": [
    "# Commanding Python to print the variable you just defined\n",
    "print(my_location)"
   ]
  },
  {
   "cell_type": "markdown",
   "metadata": {},
   "source": [
    "## What does this lesson cover? \n",
    "\n",
    "* Variables\n",
    "* Basic Data Types\n",
    "* Lists \n",
    "* Dictionaries\n",
    "* Conditional Statements\n",
    "* Loops\n",
    "* Functions and Arguments\n",
    "* Python Libraries"
   ]
  },
  {
   "cell_type": "markdown",
   "metadata": {},
   "source": [
    "# A Note About This Class\n",
    "\n",
    "Programming is a huge topic, and you can spend an entire lifetime learning and improving. So it's impossible for me to teach you everything you need to know in this one class. Therefore, I don't want you to get too bogged down in the details. It's OK if you leave this class without knowing the proper command for reversing a Python list. You may never have to use that command, and if you ever do, there is no shame in Googling it.\n",
    "\n",
    "It's much more important that you leave this class knowing how and where to find help when you need it. In fact, learning to search the internet for help is a very important part of programming. No matter what you're trying to do with Python, someone else has already done it before, and has probably posted about it online to help others. You just need to Google the right words to find it!\n",
    "\n",
    "Basically, the best way to learn Python is to find a problem that interests you, and that you need Python to solve. Once you are working towards a specific goal like this, the problems you face will become much smaller, and you'll know what questions you need to ask to accomplish your goal. For example, instead of your task being \"Learn Python\" (which can take an entire lifetime) your task will be, \"how to get standard deviation of all numbers in a list in Python.\" That is much easier!"
   ]
  },
  {
   "cell_type": "markdown",
   "metadata": {},
   "source": [
    "# Storing Data in Variables\n",
    "A variable is assigned a *value*. Once assigned, the variable holds the information associated with that value. \n",
    "Variables are important in programming languages. In Python, the convention is to use descriptive variables to help make clear what you are trying to do in your code. Using clear variables can help you maintain your code and can help others read and understand your code.\n",
    "\n",
    "In Python, we can assign a value to a variable, using the equals sign ```=```. "
   ]
  },
  {
   "cell_type": "code",
   "execution_count": null,
   "metadata": {},
   "outputs": [],
   "source": [
    "diabetes_test = \"A1C test\"\n",
    "print(diabetes_test)"
   ]
  },
  {
   "cell_type": "markdown",
   "metadata": {},
   "source": [
    "You can think about it as:\n",
    "> \"The variable 'diabetes_tests' *gets* the value \"'A1C test\""
   ]
  },
  {
   "cell_type": "markdown",
   "metadata": {},
   "source": [
    "## Example\n",
    "If we wanted to track the weight of a patient who weighs 60 kilograms, we could by assigning the value 60 to a variable weight_kg:"
   ]
  },
  {
   "cell_type": "code",
   "execution_count": null,
   "metadata": {},
   "outputs": [],
   "source": [
    "weight_kg = 60"
   ]
  },
  {
   "cell_type": "code",
   "execution_count": null,
   "metadata": {},
   "outputs": [],
   "source": [
    "patient_id = \"001\""
   ]
  },
  {
   "cell_type": "code",
   "execution_count": null,
   "metadata": {},
   "outputs": [],
   "source": [
    "weight_lb = 2.2 * weight_kg"
   ]
  },
  {
   "cell_type": "code",
   "execution_count": null,
   "metadata": {},
   "outputs": [],
   "source": [
    "weight_lb = 2.2 * weight_kg\n",
    "print(weight_lb, \"lbs.\")"
   ]
  },
  {
   "cell_type": "code",
   "execution_count": null,
   "metadata": {},
   "outputs": [],
   "source": [
    "patient_id = 'inflam_' + patient_id"
   ]
  },
  {
   "cell_type": "code",
   "execution_count": null,
   "metadata": {},
   "outputs": [],
   "source": [
    "print(patient_id)"
   ]
  },
  {
   "cell_type": "markdown",
   "metadata": {},
   "source": [
    "As we just saw with patient_id, the value assigned to a variable will remain the same until you alter it. The value can be changed or reassigned within the program."
   ]
  },
  {
   "cell_type": "markdown",
   "metadata": {},
   "source": [
    "\n",
    "Why can we do this? Because Python interprets one line at a time! Be careful, once a variable has been changed, it will hold that new value. When in doubt, don't re-use variable names unless you are absolutely sure that you don't need the old value any longer.\n",
    "Rules for naming variables\n",
    "\n",
    "- can only contain letters, numbers, and underscores\n",
    "- can start with an underscore, but not a number\n",
    "- no spaces, but an underscore can be used to separate words or you can use CamelCase\n",
    "- cannot use the names of Python built-in functions or keywords\n",
    "- should be short, but descriptive (glucose_level is better than gl or g_l)\n",
    "- be consistent. If you start with CamelCase or snake_case, try to use it throughout\n"
   ]
  },
  {
   "cell_type": "markdown",
   "metadata": {},
   "source": [
    "# Examples of acceptable variable names\n",
    "\n",
    "```Patient_numbers = \n",
    "_supply_list = \n",
    "experiment_001_lab = \n",
    "glucose_level = ``` \n",
    "\n",
    "# Less helpful variable names\n",
    "\n",
    "```t_1 = \n",
    "gl = \n",
    "_hom_grad = \n",
    "inventlist = \n",
    "x = \n",
    "bknr =```"
   ]
  },
  {
   "cell_type": "markdown",
   "metadata": {},
   "source": [
    "# Data Types\n",
    "You may have noticed that Jupyter Notebooks is highlighting the text values in red, and the integers in green. The colors correspond to the different data types of these values. There are four basic data types in Python (though many more are available).\n",
    "\n",
    "*   string : `\"Hello there\"`\n",
    "*   boolean (true/false) : `True`\n",
    "*   integer : `4`\n",
    "*   decimal (float) : `4.0`\n",
    "\n",
    "You can check the type of any data using the `type()` function:"
   ]
  },
  {
   "cell_type": "code",
   "execution_count": null,
   "metadata": {},
   "outputs": [],
   "source": [
    "print(type(4))\n",
    "print(type(\"Hello\"))\n",
    "print(type(3.14))"
   ]
  },
  {
   "cell_type": "markdown",
   "metadata": {},
   "source": [
    "## Exercise"
   ]
  },
  {
   "cell_type": "code",
   "execution_count": null,
   "metadata": {},
   "outputs": [],
   "source": [
    "# Create a few helpful variable names relevent to your work\n",
    "# Assign them numeric values or text values  \n",
    "# Do a simple calculation and/or concatenate with strings\n",
    "# Check the data type for each variable \n",
    "\n",
    "\n",
    "\n",
    "\n",
    "\n"
   ]
  },
  {
   "cell_type": "markdown",
   "metadata": {},
   "source": [
    "# Lists \n",
    "Lists are mutable ordered containers of other objects, meaning they can be modified and elements can be added and taken away. The elements in the list maintain their order (until modified). In Python, square brackets ([]) indicate a list, and individual elements are seperated by a comma. "
   ]
  },
  {
   "cell_type": "code",
   "execution_count": 40,
   "metadata": {},
   "outputs": [],
   "source": [
    "diabetes_tests = [\"Fasting plasma glucose (FPG) test\", \"A1C test\", \"Random plasma glucos (RPG) test\"]"
   ]
  },
  {
   "cell_type": "code",
   "execution_count": 41,
   "metadata": {
    "scrolled": true
   },
   "outputs": [
    {
     "name": "stdout",
     "output_type": "stream",
     "text": [
      "3\n",
      "Fasting plasma glucose (FPG) test\n",
      "A1C Test\n",
      "['Fasting plasma glucose (FPG) test', 'A1C test']\n",
      "Random plasma glucos (RPG) test\n",
      "['Random plasma glucos (RPG) test', 'A1C test', 'Fasting plasma glucose (FPG) test']\n"
     ]
    }
   ],
   "source": [
    "print(len(diabetes_tests))\n",
    "\n",
    "# Note: Python indexes start at 0, not 1\n",
    "print(diabetes_tests[0])\n",
    "print(diabetes_tests[1].title())\n",
    "\n",
    "#Selecting a range\n",
    "#Note: \"2\" indicates \"to, but not including\"\n",
    "print(diabetes_tests[0:2])\n",
    "\n",
    "#Selecting the last value \n",
    "print(diabetes_tests[-1])\n",
    "\n",
    "#Reversing the list\n",
    "print(diabetes_tests[::-1])"
   ]
  },
  {
   "cell_type": "markdown",
   "metadata": {},
   "source": [
    "## Add to a list\n"
   ]
  },
  {
   "cell_type": "code",
   "execution_count": 42,
   "metadata": {
    "scrolled": true
   },
   "outputs": [
    {
     "name": "stdout",
     "output_type": "stream",
     "text": [
      "['Fasting plasma glucose (FPG) test', 'A1C test', 'Random plasma glucos (RPG) test', 'Glucose challenge test']\n"
     ]
    },
    {
     "data": {
      "text/plain": [
       "4"
      ]
     },
     "execution_count": 42,
     "metadata": {},
     "output_type": "execute_result"
    }
   ],
   "source": [
    "# Adding using \"plus\" and string\n",
    "diabetes_tests = diabetes_tests + [\"Glucose challenge test\"]\n",
    "print(diabetes_tests)\n",
    "len(diabetes_tests)"
   ]
  },
  {
   "cell_type": "code",
   "execution_count": 43,
   "metadata": {},
   "outputs": [
    {
     "data": {
      "text/plain": [
       "5"
      ]
     },
     "execution_count": 43,
     "metadata": {},
     "output_type": "execute_result"
    }
   ],
   "source": [
    "#Adding using the append method\n",
    "diabetes_tests.append(\"Gestational Diabetes\")\n",
    "len(diabetes_tests)"
   ]
  },
  {
   "cell_type": "code",
   "execution_count": 44,
   "metadata": {
    "scrolled": true
   },
   "outputs": [
    {
     "name": "stdout",
     "output_type": "stream",
     "text": [
      "['Fasting plasma glucose (FPG) test', 'A1C test', 'Random plasma glucos (RPG) test', 'Glucose challenge test', 'Gestational Diabetes']\n"
     ]
    }
   ],
   "source": [
    "print(diabetes_tests[0:6])"
   ]
  },
  {
   "cell_type": "code",
   "execution_count": 45,
   "metadata": {},
   "outputs": [
    {
     "name": "stdout",
     "output_type": "stream",
     "text": [
      "['Michelle', 'Fred', 'Genevieve', 'Nicole']\n"
     ]
    }
   ],
   "source": [
    "# Insert at a specific position\n",
    "\n",
    "Data_Services = [\"Fred\", \"Genevieve\", \"Nicole\"] \n",
    "Data_Services.insert(0, \"Michelle\")\n",
    "print(Data_Services)"
   ]
  },
  {
   "cell_type": "markdown",
   "metadata": {},
   "source": [
    "## Remove item by index"
   ]
  },
  {
   "cell_type": "code",
   "execution_count": 46,
   "metadata": {},
   "outputs": [
    {
     "data": {
      "text/plain": [
       "4"
      ]
     },
     "execution_count": 46,
     "metadata": {},
     "output_type": "execute_result"
    }
   ],
   "source": [
    "# Remove using the pop method \n",
    "\n",
    "diabetes_tests.pop(1)\n",
    "len(diabetes_tests)\n",
    "\n"
   ]
  },
  {
   "cell_type": "code",
   "execution_count": 47,
   "metadata": {},
   "outputs": [
    {
     "data": {
      "text/plain": [
       "3"
      ]
     },
     "execution_count": 47,
     "metadata": {},
     "output_type": "execute_result"
    }
   ],
   "source": [
    "# Remove by value\n",
    "# Note: this only removes the first value; to remote all values you will need to use a loop\n",
    "\n",
    "diabetes_tests.remove(\"Gestational Diabetes\")\n",
    "len(diabetes_tests)"
   ]
  },
  {
   "cell_type": "markdown",
   "metadata": {},
   "source": [
    "## Testing if Something is In a List "
   ]
  },
  {
   "cell_type": "code",
   "execution_count": 48,
   "metadata": {},
   "outputs": [
    {
     "name": "stdout",
     "output_type": "stream",
     "text": [
      "Yes, it's in the list!\n"
     ]
    }
   ],
   "source": [
    "if 'Glucose challenge test' in diabetes_tests:\n",
    "    print(\"Yes, it's in the list!\")\n",
    "else:\n",
    "    print(\"Nope, it's not included\")"
   ]
  },
  {
   "cell_type": "markdown",
   "metadata": {},
   "source": [
    "## Exercise"
   ]
  },
  {
   "cell_type": "code",
   "execution_count": null,
   "metadata": {},
   "outputs": [],
   "source": [
    "# Create a list of objects (e.g., names, values, equipment, etc)\n",
    "# Use insert()to add somthing to the beginning of your list\n",
    "# Use insert()to add somthing to the middle of your list\n",
    "# Use append to add something to the end of your list \n",
    "# use pop() to remove an item\n",
    "# check to see if something is in your list \n",
    "\n",
    "\n",
    "\n",
    "\n",
    "\n",
    "\n",
    "\n",
    "\n",
    "\n",
    "\n",
    "\n"
   ]
  },
  {
   "cell_type": "markdown",
   "metadata": {},
   "source": [
    "# Dictionaries"
   ]
  },
  {
   "cell_type": "markdown",
   "metadata": {},
   "source": [
    "While lists are a great and simple way to store data, items can really only be accessed using their numerical index. What if you wanted to look up items using something easier to remember? Like, say, a string of text?\n",
    "\n",
    "Let's create some some data for patient IDs and their names.  "
   ]
  },
  {
   "cell_type": "code",
   "execution_count": 57,
   "metadata": {},
   "outputs": [
    {
     "name": "stdout",
     "output_type": "stream",
     "text": [
      "Xiao Zhan\n"
     ]
    }
   ],
   "source": [
    "# Key value pairs \n",
    "\n",
    "Patient_IDs = {\n",
    "    \"001\": \"Alice Wong\",\n",
    "    \"002\": \"Xiao Zhan\",\n",
    "    \"003\" : \"Frank Smith\",\n",
    "    \"004\": \"George Wallace\",\n",
    "    \"005\" : \"Amy Lake\",\n",
    "    \"006\": \"Anita Berge\",\n",
    "    \"007\": \"George Hamilton\"\n",
    "}\n",
    "\n",
    "# Now we can retrieve a name by using the username instead of a numerical index\n",
    "print(Patient_IDs['002'])"
   ]
  },
  {
   "cell_type": "markdown",
   "metadata": {},
   "source": [
    "Dictionaries store \"keys\" and their corresponding \"values.\" In the example above, we looked up the key \"002\" and got the value \"Xiao Zhan.\" \n",
    "\n",
    "We can actually store anything we want as values in a dictionary, including lists, strings, numbers, or even other dictionaries. Likewise, lists can store dictionaries, other lists, etc. When we want to add an item to a dictionary, we specify the new key we want it to have, similar to how we look items up:"
   ]
  },
  {
   "cell_type": "code",
   "execution_count": null,
   "metadata": {
    "scrolled": true
   },
   "outputs": [],
   "source": [
    "Patient_IDs[\"008\"] = \"Tess Jansen\"\n",
    "\n",
    "print(Patient_IDs)"
   ]
  },
  {
   "cell_type": "markdown",
   "metadata": {},
   "source": [
    "### Using dictionaries as records\n",
    "\n",
    "Dictionaries are often used to store more complex information that would be difficult to look up in a list:"
   ]
  },
  {
   "cell_type": "code",
   "execution_count": 60,
   "metadata": {},
   "outputs": [
    {
     "name": "stdout",
     "output_type": "stream",
     "text": [
      "Alice Wong\n"
     ]
    }
   ],
   "source": [
    "Patient_1 = {\n",
    "    \"name\" : \"Alice Wong\",\n",
    "    \"patient_id\": \"001\",\n",
    "    \"currently_enrolled\": True,\n",
    "    \"location\": \"Brooklyn\",\n",
    "    \"clinic\": \"Family Care\",\n",
    "    \"diagnosis\": [\"gestational diabetes\", \"pre-eclampsia\"]\n",
    "}\n",
    "\n",
    "Patient_2 = {\n",
    "    \"name\" : \"Xiao Zhan\",\n",
    "    \"patient_id\": \"002\",\n",
    "    \"currently_enrolled\": True,\n",
    "    \"location\": \"Brooklyn\",\n",
    "    \"clinic\": \"Park Slope Clinic\",\n",
    "    \"diagnosis\": [\"diabetes mellitus\", \"hypertension\"]\n",
    "}\n",
    "\n",
    "Patients = [Patient_1, Patient_2]\n",
    "\n",
    "print(Patients[0]['name'])\n"
   ]
  },
  {
   "cell_type": "markdown",
   "metadata": {},
   "source": [
    "## Exercise"
   ]
  },
  {
   "cell_type": "code",
   "execution_count": null,
   "metadata": {},
   "outputs": [],
   "source": [
    "# Write a dictonary using key : value pairs \n",
    "# and include a list in your dictonary\n",
    "\n",
    "\n"
   ]
  },
  {
   "cell_type": "markdown",
   "metadata": {},
   "source": [
    "# Conditional Statements"
   ]
  },
  {
   "cell_type": "markdown",
   "metadata": {},
   "source": [
    "Along with defining variables, using conditional statements like if/else is one of the most common things you'll do in programming.  If-statements are a fundamental way of controlling the flow of your program, and it allows you take specific actions based on whether a condition is True or not. We can think about it first using some pseudocode:\n",
    "\n",
    "```\n",
    "if ( it is raining outside ):\n",
    "    grab an umbrella before leaving\n",
    "else:\n",
    "    leave the umbrella at home\n",
    "```\n",
    "\n",
    "Only one of these commands will be executed: the first one where the condition is True. \n",
    "\n",
    "In actual Python code, it looks very similar to the above:"
   ]
  },
  {
   "cell_type": "code",
   "execution_count": null,
   "metadata": {},
   "outputs": [],
   "source": [
    "it_is_raining_outside = False\n",
    "\n",
    "if it_is_raining_outside:\n",
    "    print(\"I will grab my umbrella before leaving.\")\n",
    "else:\n",
    "    print(\"I will NOT grab my umbrella before leaving.\")"
   ]
  },
  {
   "cell_type": "markdown",
   "metadata": {},
   "source": [
    "Code blocks inside an If statement must be indented.\n",
    "\n",
    "We can take multiple conditions into account at the same time using the keywords `and` and `or`:"
   ]
  },
  {
   "cell_type": "code",
   "execution_count": null,
   "metadata": {},
   "outputs": [],
   "source": [
    "it_is_raining_outside = False\n",
    "it_will_rain_later = True\n",
    "\n",
    "if it_is_raining_outside or it_will_rain_later:\n",
    "    print(\"I will grab my umbrella before leaving.\")\n",
    "else:\n",
    "    print(\"I will NOT grab my umbrella before leaving.\")"
   ]
  },
  {
   "cell_type": "markdown",
   "metadata": {},
   "source": [
    "And finally, we can chain multiple if-statements together to handle situations of great complexity, using the magical phrase `elif` (short for \"else if\"). As mentioned, Python will keep going through the conditions until it finds one that resolves to True, and then execute the code in that block:"
   ]
  },
  {
   "cell_type": "code",
   "execution_count": null,
   "metadata": {},
   "outputs": [],
   "source": [
    "it_is_raining_outside = False\n",
    "percentage_chance_it_rains_at_some_point = 24\n",
    "i_REALLY_hate_getting_wet = False\n",
    "i_like_being_prepared = False\n",
    "\n",
    "if it_is_raining_outside or i_like_being_prepared:\n",
    "    print(\"I will grab my umbrella before leaving.\")\n",
    "elif percentage_chance_it_rains_at_some_point > 40 or i_REALLY_hate_getting_wet:\n",
    "    print(\"I will PROBABLY grab my umbrella before leaving\")\n",
    "elif (20 <= percentage_chance_it_rains_at_some_point <= 40) and i_REALLY_hate_getting_wet == False:\n",
    "    print(\"I will PROBABLY NOT grab my umbrella before leaving\")\n",
    "else:\n",
    "    print(\"I will NOT grab my umbrella before leaving.\")"
   ]
  },
  {
   "cell_type": "markdown",
   "metadata": {},
   "source": [
    "## Exercise \n",
    "\n",
    "If Alice is enrolled enrolled in the study, print the phrase \"Yes, she is enrolled!\"\n"
   ]
  },
  {
   "cell_type": "code",
   "execution_count": null,
   "metadata": {},
   "outputs": [],
   "source": [
    "#Write code here! \n",
    "\n",
    "if Patients[0][\"currently_enrolled\"]: \n",
    "    print(\"Yes, she is enrolled!\")\n",
    "    \n",
    "if Patients[1][\"location\"] == \"Brooklyn\":\n",
    "    print(\"Yes, currently lives in Brooklyn!\")"
   ]
  },
  {
   "cell_type": "markdown",
   "metadata": {},
   "source": [
    "**NOTE:** In the above if-statement, the conditional used some new symbols, including the \"double equals\" sign. These are called comparison operators. \n",
    "\n",
    "Since the \"single\" equals sign is already used for variable definitions, we need to use a double equals sign whenever we're comparing whether something \"equals\" another thing. There are many operators available in Python; [see here for more examples](https://www.programiz.com/python-programming/operators)."
   ]
  },
  {
   "cell_type": "markdown",
   "metadata": {},
   "source": [
    "# For Loops"
   ]
  },
  {
   "cell_type": "markdown",
   "metadata": {},
   "source": [
    "Along with defining variables and using if-statements, building loops is one of the most common tasks in programming. If you have a data structure, chances are at some point you are going to want to do something to each element in that data structure."
   ]
  },
  {
   "cell_type": "code",
   "execution_count": 49,
   "metadata": {},
   "outputs": [
    {
     "name": "stdout",
     "output_type": "stream",
     "text": [
      "['Fasting plasma glucose (FPG) test', 'Random plasma glucos (RPG) test', 'Glucose challenge test']\n"
     ]
    }
   ],
   "source": [
    "print(diabetes_tests)"
   ]
  },
  {
   "cell_type": "code",
   "execution_count": 50,
   "metadata": {},
   "outputs": [
    {
     "name": "stdout",
     "output_type": "stream",
     "text": [
      "Fasting plasma glucose (FPG) test\n",
      "Random plasma glucos (RPG) test\n",
      "Glucose challenge test\n"
     ]
    }
   ],
   "source": [
    "## Print each element of a list\n",
    "for tests in diabetes_tests:\n",
    "    print(tests)"
   ]
  },
  {
   "cell_type": "markdown",
   "metadata": {},
   "source": [
    "What's happening in the above example? The line `for tests in diabetes_tests:` defines a **for loop** through every element in `diabetes_tests`.\n",
    "\n",
    "Each element gets assigned to the temporary variable `diabetes_tests`, and then the body of the loop is executed; in this case, the body is only printing the value of that temporary name.\n",
    "\n",
    "Also notice that the line `print(tests)` is indented. This is an important aspect of Python –– the body of any loop, conditional, or function definition always needs to be indented.\n",
    "\n",
    "You can do a lot within the body of a loop. For example, let's set up a new list:"
   ]
  },
  {
   "cell_type": "code",
   "execution_count": 51,
   "metadata": {},
   "outputs": [
    {
     "data": {
      "text/plain": [
       "[0, 1, 2, 3, 4, 5, 6, 7, 8, 9, 10, 11, 12, 13, 14, 15, 16, 17, 18, 19]"
      ]
     },
     "execution_count": 51,
     "metadata": {},
     "output_type": "execute_result"
    }
   ],
   "source": [
    "# The range() function produces a list of numbers within the range you specify\n",
    "# The list() function is another way of creating a list\n",
    "my_numbers = list(range(0,20))\n",
    "\n",
    "my_numbers"
   ]
  },
  {
   "cell_type": "code",
   "execution_count": 52,
   "metadata": {},
   "outputs": [
    {
     "name": "stdout",
     "output_type": "stream",
     "text": [
      "0\n",
      "1\n",
      "2\n",
      "3\n",
      "4\n",
      "Hey, I love 5!\n",
      "6\n",
      "7\n",
      "8\n",
      "9\n",
      "10\n",
      "11\n",
      "12\n",
      "13\n",
      "14\n",
      "15\n",
      "16\n",
      "17\n",
      "18\n",
      "19\n"
     ]
    }
   ],
   "source": [
    "for number in my_numbers:\n",
    "    if number == 5:\n",
    "        print(\"Hey, I love 5!\")\n",
    "    else:\n",
    "        print(number)"
   ]
  },
  {
   "cell_type": "markdown",
   "metadata": {},
   "source": [
    "Not only can we loop through lists, we can loop through dictionaries, too. Looping through dictionaries is slightly different though –– we iterate through it one **key-value** pair at a time:"
   ]
  },
  {
   "cell_type": "code",
   "execution_count": 58,
   "metadata": {
    "scrolled": true
   },
   "outputs": [
    {
     "name": "stdout",
     "output_type": "stream",
     "text": [
      "The person with patient ID 001 is named Alice Wong\n",
      "The person with patient ID 002 is named Xiao Zhan\n",
      "The person with patient ID 003 is named Frank Smith\n",
      "The person with patient ID 004 is named George Wallace\n",
      "The person with patient ID 005 is named Amy Lake\n",
      "The person with patient ID 006 is named Anita Berge\n",
      "The person with patient ID 007 is named George Hamilton\n"
     ]
    }
   ],
   "source": [
    "# Notice that in order to loop through a dictionary's key-value pairs, we have\n",
    "# to append .items() to the name of the dictionary\n",
    "\n",
    "for ids, name in Patient_IDs.items():\n",
    "    print(\"The person with patient ID \" + ids + \" is named \" + name)"
   ]
  },
  {
   "cell_type": "markdown",
   "metadata": {},
   "source": [
    "# Functions and Arguments"
   ]
  },
  {
   "cell_type": "markdown",
   "metadata": {},
   "source": [
    "Finally, the last pillar of programming (for this class at least): functions. Functions are a way to store a whole block of code so that you can re-use it again and again. Each time you use the function, you can pass it different data, but it performs the same operations to that data. Functions make programming more concise and can serve as a great tool for the user writing code. Think of them like a variable, except instead of data, you're storing certain functionality."
   ]
  },
  {
   "cell_type": "markdown",
   "metadata": {},
   "source": [
    "Functions are defined with the following syntax:  "
   ]
  },
  {
   "cell_type": "code",
   "execution_count": 73,
   "metadata": {},
   "outputs": [],
   "source": [
    "def our_function (x):\n",
    "    print(x)"
   ]
  },
  {
   "cell_type": "markdown",
   "metadata": {},
   "source": [
    "`def`   tells Python that you are writing a function definition. This line of code is followed by a colon\n",
    "\n",
    "`our_function`  is what you're going to call the function\n",
    "\n",
    "`x`     within the parenthesis is where you tell Python which parameters this function can accept. there can be many parameters, and you can also define default values"
   ]
  },
  {
   "cell_type": "markdown",
   "metadata": {},
   "source": [
    "Like with for-loops and if-statements, code within the body of the function must be indented. If you forget...Python will let you know!"
   ]
  },
  {
   "cell_type": "code",
   "execution_count": 74,
   "metadata": {},
   "outputs": [],
   "source": [
    "# Suppose we have the following String variables\n",
    "x = \"You just called a function on x\"\n",
    "y = \"You just called a function on y\""
   ]
  },
  {
   "cell_type": "code",
   "execution_count": 75,
   "metadata": {},
   "outputs": [
    {
     "name": "stdout",
     "output_type": "stream",
     "text": [
      "You just called a function on y\n",
      "You just called a function on x\n"
     ]
    }
   ],
   "source": [
    "# We can call our function on each x and y\n",
    "our_function(y)\n",
    "our_function(x)"
   ]
  },
  {
   "cell_type": "markdown",
   "metadata": {},
   "source": [
    "Notice how our_function simply prints the parameter we pass in and then disappears. Alternatively, functions can have a return value, which is something that may be calculated within the function and then becomes available outside of it."
   ]
  },
  {
   "cell_type": "code",
   "execution_count": 76,
   "metadata": {},
   "outputs": [],
   "source": [
    "# Suppose we have a function that adds 5 to a given integer\n",
    "def add_five(x):\n",
    "    x = x + 5  # In this line, we are assigning a new value to x\n",
    "    return x   # Return is what the function will give back"
   ]
  },
  {
   "cell_type": "code",
   "execution_count": 77,
   "metadata": {},
   "outputs": [
    {
     "data": {
      "text/plain": [
       "55"
      ]
     },
     "execution_count": 77,
     "metadata": {},
     "output_type": "execute_result"
    }
   ],
   "source": [
    "# Now let's call addFive on an integer 50\n",
    "add_five(50)"
   ]
  },
  {
   "cell_type": "code",
   "execution_count": 78,
   "metadata": {},
   "outputs": [
    {
     "data": {
      "text/plain": [
       "65"
      ]
     },
     "execution_count": 78,
     "metadata": {},
     "output_type": "execute_result"
    }
   ],
   "source": [
    "# What does this return?\n",
    "10 + add_five(50)"
   ]
  },
  {
   "cell_type": "code",
   "execution_count": 79,
   "metadata": {},
   "outputs": [
    {
     "name": "stdout",
     "output_type": "stream",
     "text": [
      "60\n"
     ]
    }
   ],
   "source": [
    "# the return value of a function can be stored in its own variable for easy access\n",
    "\n",
    "old_number = 55\n",
    "\n",
    "new_number = add_five(old_number)\n",
    "\n",
    "print(new_number)"
   ]
  },
  {
   "cell_type": "markdown",
   "metadata": {},
   "source": [
    "Functions can be nested, and are evaluated from inside to out when implemented."
   ]
  },
  {
   "cell_type": "markdown",
   "metadata": {},
   "source": [
    "There is no rule to how complex a function definition should be, but the goal of using functions is to encapsulate a specific piece of functionality so that you can reuse it later. If your function is getting huge and complex, you could probably further split it into smaller functions. But that's a topic for another day. \n",
    "\n",
    "For one last example: remember our code to determine whether or not we should bring an umbrella when we leave the house? We can encapsulate all that code into one function like so:"
   ]
  },
  {
   "cell_type": "code",
   "execution_count": 80,
   "metadata": {},
   "outputs": [],
   "source": [
    "def bring_umbrella(raining, preparedness, precip_chance, hate_wetness):\n",
    "    if raining or preparedness:\n",
    "        print(\"I will grab my umbrella before leaving.\")\n",
    "    elif precip_chance > 40 or hate_wetness:\n",
    "        print(\"I will PROBABLY grab my umbrella before leaving\")\n",
    "    elif (20 <= precip_chance <= 40) and hate_wetness == False:\n",
    "        print(\"I will PROBABLY NOT grab my umbrella before leaving\")\n",
    "    else:\n",
    "        print(\"I will NOT grab my umbrella before leaving.\")"
   ]
  },
  {
   "cell_type": "markdown",
   "metadata": {},
   "source": [
    "Now, when we went to determine whether to grab an umbrella, instead of writing all that out again we just have to call this function and pass in all the information (parameters) it's expecting."
   ]
  },
  {
   "cell_type": "code",
   "execution_count": 81,
   "metadata": {},
   "outputs": [
    {
     "name": "stdout",
     "output_type": "stream",
     "text": [
      "I will grab my umbrella before leaving.\n"
     ]
    }
   ],
   "source": [
    "bring_umbrella(False, True, 70, True)"
   ]
  },
  {
   "cell_type": "markdown",
   "metadata": {},
   "source": [
    "# Python Libraries"
   ]
  },
  {
   "cell_type": "markdown",
   "metadata": {},
   "source": [
    "### Example 1: Plotting the Linear Regression of a Set of Random Numbers"
   ]
  },
  {
   "cell_type": "markdown",
   "metadata": {},
   "source": [
    "Alright, that was a whirlwind tour of Python! But remember right at the beginning, when we made that nice little plot? I said we'd come back to it, and here we are. Let's step through that a little more closely, because this is much closer to how you'll be using Python in the real world"
   ]
  },
  {
   "cell_type": "code",
   "execution_count": 82,
   "metadata": {},
   "outputs": [],
   "source": [
    "import matplotlib.pyplot as plt\n",
    "from scipy import stats\n",
    "import numpy as np"
   ]
  },
  {
   "cell_type": "markdown",
   "metadata": {},
   "source": [
    "The first thing we do at the top of every script is `import` the various modules that we'll need to accomplish our task. Here we import elements from Matplotlib, SciPy, and NumPy. These 3 packages contain a ton of functionality for science and mathematics, and they are included in the Anaconda environment. Later, we'll see how to install a package that isn't included in your environment.\n",
    "\n",
    "The syntax `import XXX as X` allows you to import a package and load it into a variable of your choosing. So in the example above, the entire `numpy` library has been loaded into the variable `np`. All of the functions in the `numpy` codebase can now be accessed using dot notation like: `np.function_name()`. This is the same idea as when we used `my_students.append(\"Jacob\")` in the examples above."
   ]
  },
  {
   "cell_type": "code",
   "execution_count": 83,
   "metadata": {},
   "outputs": [
    {
     "name": "stdout",
     "output_type": "stream",
     "text": [
      "[0.24580423 0.59642861 0.35879163 0.37891011 0.02445137 0.23830957\n",
      " 0.38793433 0.68054104 0.83934083 0.76073689]\n",
      "[0.61502838 1.01772738 1.35351035 1.32799754 0.23326104 0.89275698\n",
      " 0.689498   1.48300835 2.324673   1.52208752]\n"
     ]
    }
   ],
   "source": [
    "np.random.seed(12345678)\n",
    "x = np.random.random(10)\n",
    "y = 1.6*x + np.random.random(10)\n",
    "print(x)\n",
    "print(y)"
   ]
  },
  {
   "cell_type": "markdown",
   "metadata": {},
   "source": [
    "Inside the NumPy library there is a module called [\"random\"](https://docs.scipy.org/doc/numpy/reference/random/index.html), which provides a random number generator. First we're using the `seed()` method to get the random number generator going (there's a pretty interesting reason why we do this, just ask me if you want to know), then using the `random()` method, with the parameter 10, to generate 10 random numbers and store them as a list in the variable `x`. Then we do a little massaging to create another list of slightly larger numbers for `y`."
   ]
  },
  {
   "cell_type": "code",
   "execution_count": 84,
   "metadata": {},
   "outputs": [],
   "source": [
    "slope, intercept, r_value, p_value, std_err = stats.linregress(x,y)"
   ]
  },
  {
   "cell_type": "markdown",
   "metadata": {},
   "source": [
    "This line gets a little interesting. By looking up the `linregress()` function in the [official documentation](https://docs.scipy.org/doc/scipy/reference/generated/scipy.stats.linregress.html), we know that after it calculates the linear regression, it returns not just one value, like our `add_five()` function from above. It actually returns five separate values, which can each be stored into its own variable. Luckily, the documentation includes an example (which may look familiar...) so you can see how to do that.\n",
    "\n",
    "Now that we have all the information we need for our plot, we can turn to the `matplotlib.pyplot` module, which is contained in our variable `plt`. The documentation includes [a very good beginner tutorial](https://matplotlib.org/3.1.0/tutorials/introductory/pyplot.html), but on top of that they provide [dozens of examples of impressive, high-quality charts](https://matplotlib.org/3.1.0/gallery/index.html), which you are free to copy and experiment with."
   ]
  },
  {
   "cell_type": "code",
   "execution_count": 85,
   "metadata": {},
   "outputs": [
    {
     "data": {
      "image/png": "[encoded data removed]",
      "text/plain": [
       "<Figure size 432x288 with 1 Axes>"
      ]
     },
     "metadata": {
      "needs_background": "light"
     },
     "output_type": "display_data"
    }
   ],
   "source": [
    "plt.plot(x, y, 'o', label='original_data')\n",
    "plt.plot(x, intercept + slope*x, 'r', label='fitted_line')\n",
    "plt.legend()\n",
    "plt.show()"
   ]
  },
  {
   "cell_type": "markdown",
   "metadata": {},
   "source": [
    "### Example 2: Downloading a CSV into a Pandas DataFrame, and Exploring the Data"
   ]
  },
  {
   "cell_type": "markdown",
   "metadata": {},
   "source": [
    "We briefly mentioned the Pandas DataFrame earlier, and now we're going to dive headfirst into it. \n",
    "\n",
    "For future reference, here is [a great, simple introduction to DataFrames](https://www.datacamp.com/community/tutorials/pandas-tutorial-dataframe-python). I also highly recommend [the official \"10 Minutes to Pandas\" guide](https://pandas.pydata.org/pandas-docs/stable/getting_started/10min.html) with some general information and explanations of common procedures. For much more information about common tasks and idioms in Pandas, check out the official [Pandas Cookbook](https://pandas.pydata.org/pandas-docs/stable/user_guide/cookbook.html)."
   ]
  },
  {
   "cell_type": "code",
   "execution_count": 86,
   "metadata": {},
   "outputs": [],
   "source": [
    "import matplotlib.pyplot as plt\n",
    "import numpy as np\n",
    "import pandas as pd"
   ]
  },
  {
   "cell_type": "markdown",
   "metadata": {},
   "source": [
    "As in our previous script, we start by importing the libraries we need. It is customary to import NumPy before Pandas, since many Pandas features are based on NumPy features."
   ]
  },
  {
   "cell_type": "code",
   "execution_count": 87,
   "metadata": {},
   "outputs": [],
   "source": [
    "drv = pd.read_csv('https://raw.githubusercontent.com/fivethirtyeight/data/master/bad-drivers/bad-drivers.csv')"
   ]
  },
  {
   "cell_type": "markdown",
   "metadata": {},
   "source": [
    "Wow! In one line we just connected to the internet, downloaded a CSV file, and stored it as a DataFrame in the variable `drv` (you probably want to pick a short variable name because you'll be referencing it a lot). Without the Pandas library this would take some Googling, probably 6-7 extra lines of code, and we still wouldn't have any of the functionality of a DataFrame available to us. Speaking of which, let's see what some of that functionality is.\n",
    "\n",
    "Often the first thing you want to do after importing data is to take a quick look to see what we have. Pandas makes this incredibly easy with the .head() function:"
   ]
  },
  {
   "cell_type": "code",
   "execution_count": 88,
   "metadata": {},
   "outputs": [
    {
     "data": {
      "text/html": [
       "<div>\n",
       "<style scoped>\n",
       "    .dataframe tbody tr th:only-of-type {\n",
       "        vertical-align: middle;\n",
       "    }\n",
       "\n",
       "    .dataframe tbody tr th {\n",
       "        vertical-align: top;\n",
       "    }\n",
       "\n",
       "    .dataframe thead th {\n",
       "        text-align: right;\n",
       "    }\n",
       "</style>\n",
       "<table border=\"1\" class=\"dataframe\">\n",
       "  <thead>\n",
       "    <tr style=\"text-align: right;\">\n",
       "      <th></th>\n",
       "      <th>State</th>\n",
       "      <th>Number of drivers involved in fatal collisions per billion miles</th>\n",
       "      <th>Percentage Of Drivers Involved In Fatal Collisions Who Were Speeding</th>\n",
       "      <th>Percentage Of Drivers Involved In Fatal Collisions Who Were Alcohol-Impaired</th>\n",
       "      <th>Percentage Of Drivers Involved In Fatal Collisions Who Were Not Distracted</th>\n",
       "      <th>Percentage Of Drivers Involved In Fatal Collisions Who Had Not Been Involved In Any Previous Accidents</th>\n",
       "      <th>Car Insurance Premiums ($)</th>\n",
       "      <th>Losses incurred by insurance companies for collisions per insured driver ($)</th>\n",
       "    </tr>\n",
       "  </thead>\n",
       "  <tbody>\n",
       "    <tr>\n",
       "      <th>0</th>\n",
       "      <td>Alabama</td>\n",
       "      <td>18.8</td>\n",
       "      <td>39</td>\n",
       "      <td>30</td>\n",
       "      <td>96</td>\n",
       "      <td>80</td>\n",
       "      <td>784.55</td>\n",
       "      <td>145.08</td>\n",
       "    </tr>\n",
       "    <tr>\n",
       "      <th>1</th>\n",
       "      <td>Alaska</td>\n",
       "      <td>18.1</td>\n",
       "      <td>41</td>\n",
       "      <td>25</td>\n",
       "      <td>90</td>\n",
       "      <td>94</td>\n",
       "      <td>1053.48</td>\n",
       "      <td>133.93</td>\n",
       "    </tr>\n",
       "    <tr>\n",
       "      <th>2</th>\n",
       "      <td>Arizona</td>\n",
       "      <td>18.6</td>\n",
       "      <td>35</td>\n",
       "      <td>28</td>\n",
       "      <td>84</td>\n",
       "      <td>96</td>\n",
       "      <td>899.47</td>\n",
       "      <td>110.35</td>\n",
       "    </tr>\n",
       "    <tr>\n",
       "      <th>3</th>\n",
       "      <td>Arkansas</td>\n",
       "      <td>22.4</td>\n",
       "      <td>18</td>\n",
       "      <td>26</td>\n",
       "      <td>94</td>\n",
       "      <td>95</td>\n",
       "      <td>827.34</td>\n",
       "      <td>142.39</td>\n",
       "    </tr>\n",
       "    <tr>\n",
       "      <th>4</th>\n",
       "      <td>California</td>\n",
       "      <td>12.0</td>\n",
       "      <td>35</td>\n",
       "      <td>28</td>\n",
       "      <td>91</td>\n",
       "      <td>89</td>\n",
       "      <td>878.41</td>\n",
       "      <td>165.63</td>\n",
       "    </tr>\n",
       "  </tbody>\n",
       "</table>\n",
       "</div>"
      ],
      "text/plain": [
       "        State  \\\n",
       "0     Alabama   \n",
       "1      Alaska   \n",
       "2     Arizona   \n",
       "3    Arkansas   \n",
       "4  California   \n",
       "\n",
       "   Number of drivers involved in fatal collisions per billion miles  \\\n",
       "0                                               18.8                  \n",
       "1                                               18.1                  \n",
       "2                                               18.6                  \n",
       "3                                               22.4                  \n",
       "4                                               12.0                  \n",
       "\n",
       "   Percentage Of Drivers Involved In Fatal Collisions Who Were Speeding  \\\n",
       "0                                                 39                      \n",
       "1                                                 41                      \n",
       "2                                                 35                      \n",
       "3                                                 18                      \n",
       "4                                                 35                      \n",
       "\n",
       "   Percentage Of Drivers Involved In Fatal Collisions Who Were Alcohol-Impaired  \\\n",
       "0                                                 30                              \n",
       "1                                                 25                              \n",
       "2                                                 28                              \n",
       "3                                                 26                              \n",
       "4                                                 28                              \n",
       "\n",
       "   Percentage Of Drivers Involved In Fatal Collisions Who Were Not Distracted  \\\n",
       "0                                                 96                            \n",
       "1                                                 90                            \n",
       "2                                                 84                            \n",
       "3                                                 94                            \n",
       "4                                                 91                            \n",
       "\n",
       "   Percentage Of Drivers Involved In Fatal Collisions Who Had Not Been Involved In Any Previous Accidents  \\\n",
       "0                                                 80                                                        \n",
       "1                                                 94                                                        \n",
       "2                                                 96                                                        \n",
       "3                                                 95                                                        \n",
       "4                                                 89                                                        \n",
       "\n",
       "   Car Insurance Premiums ($)  \\\n",
       "0                      784.55   \n",
       "1                     1053.48   \n",
       "2                      899.47   \n",
       "3                      827.34   \n",
       "4                      878.41   \n",
       "\n",
       "   Losses incurred by insurance companies for collisions per insured driver ($)  \n",
       "0                                             145.08                             \n",
       "1                                             133.93                             \n",
       "2                                             110.35                             \n",
       "3                                             142.39                             \n",
       "4                                             165.63                             "
      ]
     },
     "execution_count": 88,
     "metadata": {},
     "output_type": "execute_result"
    }
   ],
   "source": [
    "drv.head()"
   ]
  },
  {
   "cell_type": "markdown",
   "metadata": {},
   "source": [
    "Right away we can see we have data about driver safety and insurance costs per state. Note how the data starts at row 0 instead of 1, just like when we were using a regular Python list earlier.\n",
    "\n",
    "Since most of this data is numerical, we will probably find it useful to get a quick statistical summary using `.describe()`:"
   ]
  },
  {
   "cell_type": "code",
   "execution_count": 89,
   "metadata": {},
   "outputs": [
    {
     "data": {
      "text/html": [
       "<div>\n",
       "<style scoped>\n",
       "    .dataframe tbody tr th:only-of-type {\n",
       "        vertical-align: middle;\n",
       "    }\n",
       "\n",
       "    .dataframe tbody tr th {\n",
       "        vertical-align: top;\n",
       "    }\n",
       "\n",
       "    .dataframe thead th {\n",
       "        text-align: right;\n",
       "    }\n",
       "</style>\n",
       "<table border=\"1\" class=\"dataframe\">\n",
       "  <thead>\n",
       "    <tr style=\"text-align: right;\">\n",
       "      <th></th>\n",
       "      <th>Number of drivers involved in fatal collisions per billion miles</th>\n",
       "      <th>Percentage Of Drivers Involved In Fatal Collisions Who Were Speeding</th>\n",
       "      <th>Percentage Of Drivers Involved In Fatal Collisions Who Were Alcohol-Impaired</th>\n",
       "      <th>Percentage Of Drivers Involved In Fatal Collisions Who Were Not Distracted</th>\n",
       "      <th>Percentage Of Drivers Involved In Fatal Collisions Who Had Not Been Involved In Any Previous Accidents</th>\n",
       "      <th>Car Insurance Premiums ($)</th>\n",
       "      <th>Losses incurred by insurance companies for collisions per insured driver ($)</th>\n",
       "    </tr>\n",
       "  </thead>\n",
       "  <tbody>\n",
       "    <tr>\n",
       "      <th>count</th>\n",
       "      <td>51.000000</td>\n",
       "      <td>51.000000</td>\n",
       "      <td>51.000000</td>\n",
       "      <td>51.000000</td>\n",
       "      <td>51.00000</td>\n",
       "      <td>51.000000</td>\n",
       "      <td>51.000000</td>\n",
       "    </tr>\n",
       "    <tr>\n",
       "      <th>mean</th>\n",
       "      <td>15.790196</td>\n",
       "      <td>31.725490</td>\n",
       "      <td>30.686275</td>\n",
       "      <td>85.921569</td>\n",
       "      <td>88.72549</td>\n",
       "      <td>886.957647</td>\n",
       "      <td>134.493137</td>\n",
       "    </tr>\n",
       "    <tr>\n",
       "      <th>std</th>\n",
       "      <td>4.122002</td>\n",
       "      <td>9.633438</td>\n",
       "      <td>5.132213</td>\n",
       "      <td>15.158949</td>\n",
       "      <td>6.96011</td>\n",
       "      <td>178.296285</td>\n",
       "      <td>24.835922</td>\n",
       "    </tr>\n",
       "    <tr>\n",
       "      <th>min</th>\n",
       "      <td>5.900000</td>\n",
       "      <td>13.000000</td>\n",
       "      <td>16.000000</td>\n",
       "      <td>10.000000</td>\n",
       "      <td>76.00000</td>\n",
       "      <td>641.960000</td>\n",
       "      <td>82.750000</td>\n",
       "    </tr>\n",
       "    <tr>\n",
       "      <th>25%</th>\n",
       "      <td>12.750000</td>\n",
       "      <td>23.000000</td>\n",
       "      <td>28.000000</td>\n",
       "      <td>83.000000</td>\n",
       "      <td>83.50000</td>\n",
       "      <td>768.430000</td>\n",
       "      <td>114.645000</td>\n",
       "    </tr>\n",
       "    <tr>\n",
       "      <th>50%</th>\n",
       "      <td>15.600000</td>\n",
       "      <td>34.000000</td>\n",
       "      <td>30.000000</td>\n",
       "      <td>88.000000</td>\n",
       "      <td>88.00000</td>\n",
       "      <td>858.970000</td>\n",
       "      <td>136.050000</td>\n",
       "    </tr>\n",
       "    <tr>\n",
       "      <th>75%</th>\n",
       "      <td>18.500000</td>\n",
       "      <td>38.000000</td>\n",
       "      <td>33.000000</td>\n",
       "      <td>95.000000</td>\n",
       "      <td>95.00000</td>\n",
       "      <td>1007.945000</td>\n",
       "      <td>151.870000</td>\n",
       "    </tr>\n",
       "    <tr>\n",
       "      <th>max</th>\n",
       "      <td>23.900000</td>\n",
       "      <td>54.000000</td>\n",
       "      <td>44.000000</td>\n",
       "      <td>100.000000</td>\n",
       "      <td>100.00000</td>\n",
       "      <td>1301.520000</td>\n",
       "      <td>194.780000</td>\n",
       "    </tr>\n",
       "  </tbody>\n",
       "</table>\n",
       "</div>"
      ],
      "text/plain": [
       "       Number of drivers involved in fatal collisions per billion miles  \\\n",
       "count                                          51.000000                  \n",
       "mean                                           15.790196                  \n",
       "std                                             4.122002                  \n",
       "min                                             5.900000                  \n",
       "25%                                            12.750000                  \n",
       "50%                                            15.600000                  \n",
       "75%                                            18.500000                  \n",
       "max                                            23.900000                  \n",
       "\n",
       "       Percentage Of Drivers Involved In Fatal Collisions Who Were Speeding  \\\n",
       "count                                          51.000000                      \n",
       "mean                                           31.725490                      \n",
       "std                                             9.633438                      \n",
       "min                                            13.000000                      \n",
       "25%                                            23.000000                      \n",
       "50%                                            34.000000                      \n",
       "75%                                            38.000000                      \n",
       "max                                            54.000000                      \n",
       "\n",
       "       Percentage Of Drivers Involved In Fatal Collisions Who Were Alcohol-Impaired  \\\n",
       "count                                          51.000000                              \n",
       "mean                                           30.686275                              \n",
       "std                                             5.132213                              \n",
       "min                                            16.000000                              \n",
       "25%                                            28.000000                              \n",
       "50%                                            30.000000                              \n",
       "75%                                            33.000000                              \n",
       "max                                            44.000000                              \n",
       "\n",
       "       Percentage Of Drivers Involved In Fatal Collisions Who Were Not Distracted  \\\n",
       "count                                          51.000000                            \n",
       "mean                                           85.921569                            \n",
       "std                                            15.158949                            \n",
       "min                                            10.000000                            \n",
       "25%                                            83.000000                            \n",
       "50%                                            88.000000                            \n",
       "75%                                            95.000000                            \n",
       "max                                           100.000000                            \n",
       "\n",
       "       Percentage Of Drivers Involved In Fatal Collisions Who Had Not Been Involved In Any Previous Accidents  \\\n",
       "count                                           51.00000                                                        \n",
       "mean                                            88.72549                                                        \n",
       "std                                              6.96011                                                        \n",
       "min                                             76.00000                                                        \n",
       "25%                                             83.50000                                                        \n",
       "50%                                             88.00000                                                        \n",
       "75%                                             95.00000                                                        \n",
       "max                                            100.00000                                                        \n",
       "\n",
       "       Car Insurance Premiums ($)  \\\n",
       "count                   51.000000   \n",
       "mean                   886.957647   \n",
       "std                    178.296285   \n",
       "min                    641.960000   \n",
       "25%                    768.430000   \n",
       "50%                    858.970000   \n",
       "75%                   1007.945000   \n",
       "max                   1301.520000   \n",
       "\n",
       "       Losses incurred by insurance companies for collisions per insured driver ($)  \n",
       "count                                          51.000000                             \n",
       "mean                                          134.493137                             \n",
       "std                                            24.835922                             \n",
       "min                                            82.750000                             \n",
       "25%                                           114.645000                             \n",
       "50%                                           136.050000                             \n",
       "75%                                           151.870000                             \n",
       "max                                           194.780000                             "
      ]
     },
     "execution_count": 89,
     "metadata": {},
     "output_type": "execute_result"
    }
   ],
   "source": [
    "drv.describe()"
   ]
  },
  {
   "cell_type": "markdown",
   "metadata": {},
   "source": [
    "Right away I'm noticing that there's a huge difference between the min and max of insurance rates. I want to know if the states paying the highest rates also show the most reckless driving behaviors.\n",
    "\n",
    "With Pandas (and with Python in general) you can often string methods together in order to accomplish tasks easily. If we want to get the top 10 highest insurance rates, we can sort the data with `sort_values()` and then take just the first 10 with the `head()` function we used earlier."
   ]
  },
  {
   "cell_type": "code",
   "execution_count": 90,
   "metadata": {},
   "outputs": [
    {
     "data": {
      "text/html": [
       "<div>\n",
       "<style scoped>\n",
       "    .dataframe tbody tr th:only-of-type {\n",
       "        vertical-align: middle;\n",
       "    }\n",
       "\n",
       "    .dataframe tbody tr th {\n",
       "        vertical-align: top;\n",
       "    }\n",
       "\n",
       "    .dataframe thead th {\n",
       "        text-align: right;\n",
       "    }\n",
       "</style>\n",
       "<table border=\"1\" class=\"dataframe\">\n",
       "  <thead>\n",
       "    <tr style=\"text-align: right;\">\n",
       "      <th></th>\n",
       "      <th>State</th>\n",
       "      <th>Number of drivers involved in fatal collisions per billion miles</th>\n",
       "      <th>Percentage Of Drivers Involved In Fatal Collisions Who Were Speeding</th>\n",
       "      <th>Percentage Of Drivers Involved In Fatal Collisions Who Were Alcohol-Impaired</th>\n",
       "      <th>Percentage Of Drivers Involved In Fatal Collisions Who Were Not Distracted</th>\n",
       "      <th>Percentage Of Drivers Involved In Fatal Collisions Who Had Not Been Involved In Any Previous Accidents</th>\n",
       "      <th>Car Insurance Premiums ($)</th>\n",
       "      <th>Losses incurred by insurance companies for collisions per insured driver ($)</th>\n",
       "    </tr>\n",
       "  </thead>\n",
       "  <tbody>\n",
       "    <tr>\n",
       "      <th>30</th>\n",
       "      <td>New Jersey</td>\n",
       "      <td>11.2</td>\n",
       "      <td>16</td>\n",
       "      <td>28</td>\n",
       "      <td>86</td>\n",
       "      <td>78</td>\n",
       "      <td>1301.52</td>\n",
       "      <td>159.85</td>\n",
       "    </tr>\n",
       "    <tr>\n",
       "      <th>18</th>\n",
       "      <td>Louisiana</td>\n",
       "      <td>20.5</td>\n",
       "      <td>35</td>\n",
       "      <td>33</td>\n",
       "      <td>73</td>\n",
       "      <td>98</td>\n",
       "      <td>1281.55</td>\n",
       "      <td>194.78</td>\n",
       "    </tr>\n",
       "    <tr>\n",
       "      <th>8</th>\n",
       "      <td>District of Columbia</td>\n",
       "      <td>5.9</td>\n",
       "      <td>34</td>\n",
       "      <td>27</td>\n",
       "      <td>100</td>\n",
       "      <td>100</td>\n",
       "      <td>1273.89</td>\n",
       "      <td>136.05</td>\n",
       "    </tr>\n",
       "    <tr>\n",
       "      <th>32</th>\n",
       "      <td>New York</td>\n",
       "      <td>12.3</td>\n",
       "      <td>32</td>\n",
       "      <td>29</td>\n",
       "      <td>88</td>\n",
       "      <td>80</td>\n",
       "      <td>1234.31</td>\n",
       "      <td>150.01</td>\n",
       "    </tr>\n",
       "    <tr>\n",
       "      <th>9</th>\n",
       "      <td>Florida</td>\n",
       "      <td>17.9</td>\n",
       "      <td>21</td>\n",
       "      <td>29</td>\n",
       "      <td>92</td>\n",
       "      <td>94</td>\n",
       "      <td>1160.13</td>\n",
       "      <td>144.18</td>\n",
       "    </tr>\n",
       "    <tr>\n",
       "      <th>39</th>\n",
       "      <td>Rhode Island</td>\n",
       "      <td>11.1</td>\n",
       "      <td>34</td>\n",
       "      <td>38</td>\n",
       "      <td>92</td>\n",
       "      <td>79</td>\n",
       "      <td>1148.99</td>\n",
       "      <td>148.58</td>\n",
       "    </tr>\n",
       "    <tr>\n",
       "      <th>7</th>\n",
       "      <td>Delaware</td>\n",
       "      <td>16.2</td>\n",
       "      <td>38</td>\n",
       "      <td>30</td>\n",
       "      <td>87</td>\n",
       "      <td>99</td>\n",
       "      <td>1137.87</td>\n",
       "      <td>151.48</td>\n",
       "    </tr>\n",
       "    <tr>\n",
       "      <th>22</th>\n",
       "      <td>Michigan</td>\n",
       "      <td>14.1</td>\n",
       "      <td>24</td>\n",
       "      <td>28</td>\n",
       "      <td>95</td>\n",
       "      <td>77</td>\n",
       "      <td>1110.61</td>\n",
       "      <td>152.26</td>\n",
       "    </tr>\n",
       "    <tr>\n",
       "      <th>6</th>\n",
       "      <td>Connecticut</td>\n",
       "      <td>10.8</td>\n",
       "      <td>46</td>\n",
       "      <td>36</td>\n",
       "      <td>87</td>\n",
       "      <td>82</td>\n",
       "      <td>1068.73</td>\n",
       "      <td>167.02</td>\n",
       "    </tr>\n",
       "    <tr>\n",
       "      <th>1</th>\n",
       "      <td>Alaska</td>\n",
       "      <td>18.1</td>\n",
       "      <td>41</td>\n",
       "      <td>25</td>\n",
       "      <td>90</td>\n",
       "      <td>94</td>\n",
       "      <td>1053.48</td>\n",
       "      <td>133.93</td>\n",
       "    </tr>\n",
       "  </tbody>\n",
       "</table>\n",
       "</div>"
      ],
      "text/plain": [
       "                   State  \\\n",
       "30            New Jersey   \n",
       "18             Louisiana   \n",
       "8   District of Columbia   \n",
       "32              New York   \n",
       "9                Florida   \n",
       "39          Rhode Island   \n",
       "7               Delaware   \n",
       "22              Michigan   \n",
       "6            Connecticut   \n",
       "1                 Alaska   \n",
       "\n",
       "    Number of drivers involved in fatal collisions per billion miles  \\\n",
       "30                                               11.2                  \n",
       "18                                               20.5                  \n",
       "8                                                 5.9                  \n",
       "32                                               12.3                  \n",
       "9                                                17.9                  \n",
       "39                                               11.1                  \n",
       "7                                                16.2                  \n",
       "22                                               14.1                  \n",
       "6                                                10.8                  \n",
       "1                                                18.1                  \n",
       "\n",
       "    Percentage Of Drivers Involved In Fatal Collisions Who Were Speeding  \\\n",
       "30                                                 16                      \n",
       "18                                                 35                      \n",
       "8                                                  34                      \n",
       "32                                                 32                      \n",
       "9                                                  21                      \n",
       "39                                                 34                      \n",
       "7                                                  38                      \n",
       "22                                                 24                      \n",
       "6                                                  46                      \n",
       "1                                                  41                      \n",
       "\n",
       "    Percentage Of Drivers Involved In Fatal Collisions Who Were Alcohol-Impaired  \\\n",
       "30                                                 28                              \n",
       "18                                                 33                              \n",
       "8                                                  27                              \n",
       "32                                                 29                              \n",
       "9                                                  29                              \n",
       "39                                                 38                              \n",
       "7                                                  30                              \n",
       "22                                                 28                              \n",
       "6                                                  36                              \n",
       "1                                                  25                              \n",
       "\n",
       "    Percentage Of Drivers Involved In Fatal Collisions Who Were Not Distracted  \\\n",
       "30                                                 86                            \n",
       "18                                                 73                            \n",
       "8                                                 100                            \n",
       "32                                                 88                            \n",
       "9                                                  92                            \n",
       "39                                                 92                            \n",
       "7                                                  87                            \n",
       "22                                                 95                            \n",
       "6                                                  87                            \n",
       "1                                                  90                            \n",
       "\n",
       "    Percentage Of Drivers Involved In Fatal Collisions Who Had Not Been Involved In Any Previous Accidents  \\\n",
       "30                                                 78                                                        \n",
       "18                                                 98                                                        \n",
       "8                                                 100                                                        \n",
       "32                                                 80                                                        \n",
       "9                                                  94                                                        \n",
       "39                                                 79                                                        \n",
       "7                                                  99                                                        \n",
       "22                                                 77                                                        \n",
       "6                                                  82                                                        \n",
       "1                                                  94                                                        \n",
       "\n",
       "    Car Insurance Premiums ($)  \\\n",
       "30                     1301.52   \n",
       "18                     1281.55   \n",
       "8                      1273.89   \n",
       "32                     1234.31   \n",
       "9                      1160.13   \n",
       "39                     1148.99   \n",
       "7                      1137.87   \n",
       "22                     1110.61   \n",
       "6                      1068.73   \n",
       "1                      1053.48   \n",
       "\n",
       "    Losses incurred by insurance companies for collisions per insured driver ($)  \n",
       "30                                             159.85                             \n",
       "18                                             194.78                             \n",
       "8                                              136.05                             \n",
       "32                                             150.01                             \n",
       "9                                              144.18                             \n",
       "39                                             148.58                             \n",
       "7                                              151.48                             \n",
       "22                                             152.26                             \n",
       "6                                              167.02                             \n",
       "1                                              133.93                             "
      ]
     },
     "execution_count": 90,
     "metadata": {},
     "output_type": "execute_result"
    }
   ],
   "source": [
    "drv.sort_values(by=['Car Insurance Premiums ($)'], ascending=False).head(10)"
   ]
  },
  {
   "cell_type": "markdown",
   "metadata": {},
   "source": [
    "Hm, it actually looks like states with the most expensive insurance actually have relatively safe drivers. We'll have to do some more digging.\n",
    "\n",
    "One thing I can tell though is that dealing with these long column names is going to get annoying. Luckily we can change all the names at once by providing a list of the new names and storing it in `drv.columns`:"
   ]
  },
  {
   "cell_type": "code",
   "execution_count": 91,
   "metadata": {},
   "outputs": [
    {
     "data": {
      "text/html": [
       "<div>\n",
       "<style scoped>\n",
       "    .dataframe tbody tr th:only-of-type {\n",
       "        vertical-align: middle;\n",
       "    }\n",
       "\n",
       "    .dataframe tbody tr th {\n",
       "        vertical-align: top;\n",
       "    }\n",
       "\n",
       "    .dataframe thead th {\n",
       "        text-align: right;\n",
       "    }\n",
       "</style>\n",
       "<table border=\"1\" class=\"dataframe\">\n",
       "  <thead>\n",
       "    <tr style=\"text-align: right;\">\n",
       "      <th></th>\n",
       "      <th>state</th>\n",
       "      <th>fatal_accidents</th>\n",
       "      <th>drivers_speeding</th>\n",
       "      <th>drivers_impaired</th>\n",
       "      <th>drivers_not_distracted</th>\n",
       "      <th>drivers_first_accident</th>\n",
       "      <th>ins_cost</th>\n",
       "      <th>ins_losses_per_driver</th>\n",
       "    </tr>\n",
       "  </thead>\n",
       "  <tbody>\n",
       "    <tr>\n",
       "      <th>0</th>\n",
       "      <td>Alabama</td>\n",
       "      <td>18.8</td>\n",
       "      <td>39</td>\n",
       "      <td>30</td>\n",
       "      <td>96</td>\n",
       "      <td>80</td>\n",
       "      <td>784.55</td>\n",
       "      <td>145.08</td>\n",
       "    </tr>\n",
       "    <tr>\n",
       "      <th>1</th>\n",
       "      <td>Alaska</td>\n",
       "      <td>18.1</td>\n",
       "      <td>41</td>\n",
       "      <td>25</td>\n",
       "      <td>90</td>\n",
       "      <td>94</td>\n",
       "      <td>1053.48</td>\n",
       "      <td>133.93</td>\n",
       "    </tr>\n",
       "    <tr>\n",
       "      <th>2</th>\n",
       "      <td>Arizona</td>\n",
       "      <td>18.6</td>\n",
       "      <td>35</td>\n",
       "      <td>28</td>\n",
       "      <td>84</td>\n",
       "      <td>96</td>\n",
       "      <td>899.47</td>\n",
       "      <td>110.35</td>\n",
       "    </tr>\n",
       "    <tr>\n",
       "      <th>3</th>\n",
       "      <td>Arkansas</td>\n",
       "      <td>22.4</td>\n",
       "      <td>18</td>\n",
       "      <td>26</td>\n",
       "      <td>94</td>\n",
       "      <td>95</td>\n",
       "      <td>827.34</td>\n",
       "      <td>142.39</td>\n",
       "    </tr>\n",
       "    <tr>\n",
       "      <th>4</th>\n",
       "      <td>California</td>\n",
       "      <td>12.0</td>\n",
       "      <td>35</td>\n",
       "      <td>28</td>\n",
       "      <td>91</td>\n",
       "      <td>89</td>\n",
       "      <td>878.41</td>\n",
       "      <td>165.63</td>\n",
       "    </tr>\n",
       "  </tbody>\n",
       "</table>\n",
       "</div>"
      ],
      "text/plain": [
       "        state  fatal_accidents  drivers_speeding  drivers_impaired  \\\n",
       "0     Alabama             18.8                39                30   \n",
       "1      Alaska             18.1                41                25   \n",
       "2     Arizona             18.6                35                28   \n",
       "3    Arkansas             22.4                18                26   \n",
       "4  California             12.0                35                28   \n",
       "\n",
       "   drivers_not_distracted  drivers_first_accident  ins_cost  \\\n",
       "0                      96                      80    784.55   \n",
       "1                      90                      94   1053.48   \n",
       "2                      84                      96    899.47   \n",
       "3                      94                      95    827.34   \n",
       "4                      91                      89    878.41   \n",
       "\n",
       "   ins_losses_per_driver  \n",
       "0                 145.08  \n",
       "1                 133.93  \n",
       "2                 110.35  \n",
       "3                 142.39  \n",
       "4                 165.63  "
      ]
     },
     "execution_count": 91,
     "metadata": {},
     "output_type": "execute_result"
    }
   ],
   "source": [
    "drv.columns = ['state', 'fatal_accidents', 'drivers_speeding', 'drivers_impaired', 'drivers_not_distracted', 'drivers_first_accident', 'ins_cost', 'ins_losses_per_driver']\n",
    "drv.head()"
   ]
  },
  {
   "cell_type": "markdown",
   "metadata": {},
   "source": [
    "That's better. \n",
    "\n",
    "Now we can perform more complex queries of the data using the `.loc` method. It's so powerful it basically turns the DataFrame into a SQL database. [Here is a quick introduction to some common patterns](https://stackoverflow.com/questions/17071871/select-rows-from-a-dataframe-based-on-values-in-a-column-in-pandas?rq=1). You'll probably be using it a lot.\n",
    "\n",
    "I'm curious if there are any states where insurance is cheap despite having a lot of accidents. Put another way, let's find out if any states have above average fatal accidents, but insurance costs in the bottom 25%. Using the info from when we ran `describe()`:"
   ]
  },
  {
   "cell_type": "code",
   "execution_count": 92,
   "metadata": {},
   "outputs": [
    {
     "data": {
      "text/html": [
       "<div>\n",
       "<style scoped>\n",
       "    .dataframe tbody tr th:only-of-type {\n",
       "        vertical-align: middle;\n",
       "    }\n",
       "\n",
       "    .dataframe tbody tr th {\n",
       "        vertical-align: top;\n",
       "    }\n",
       "\n",
       "    .dataframe thead th {\n",
       "        text-align: right;\n",
       "    }\n",
       "</style>\n",
       "<table border=\"1\" class=\"dataframe\">\n",
       "  <thead>\n",
       "    <tr style=\"text-align: right;\">\n",
       "      <th></th>\n",
       "      <th>state</th>\n",
       "      <th>fatal_accidents</th>\n",
       "      <th>drivers_speeding</th>\n",
       "      <th>drivers_impaired</th>\n",
       "      <th>drivers_not_distracted</th>\n",
       "      <th>drivers_first_accident</th>\n",
       "      <th>ins_cost</th>\n",
       "      <th>ins_losses_per_driver</th>\n",
       "    </tr>\n",
       "  </thead>\n",
       "  <tbody>\n",
       "    <tr>\n",
       "      <th>33</th>\n",
       "      <td>North Carolina</td>\n",
       "      <td>16.8</td>\n",
       "      <td>39</td>\n",
       "      <td>31</td>\n",
       "      <td>94</td>\n",
       "      <td>81</td>\n",
       "      <td>708.24</td>\n",
       "      <td>127.82</td>\n",
       "    </tr>\n",
       "    <tr>\n",
       "      <th>34</th>\n",
       "      <td>North Dakota</td>\n",
       "      <td>23.9</td>\n",
       "      <td>23</td>\n",
       "      <td>42</td>\n",
       "      <td>99</td>\n",
       "      <td>86</td>\n",
       "      <td>688.75</td>\n",
       "      <td>109.72</td>\n",
       "    </tr>\n",
       "    <tr>\n",
       "      <th>41</th>\n",
       "      <td>South Dakota</td>\n",
       "      <td>19.4</td>\n",
       "      <td>31</td>\n",
       "      <td>33</td>\n",
       "      <td>98</td>\n",
       "      <td>86</td>\n",
       "      <td>669.31</td>\n",
       "      <td>96.87</td>\n",
       "    </tr>\n",
       "    <tr>\n",
       "      <th>42</th>\n",
       "      <td>Tennessee</td>\n",
       "      <td>19.5</td>\n",
       "      <td>21</td>\n",
       "      <td>29</td>\n",
       "      <td>82</td>\n",
       "      <td>81</td>\n",
       "      <td>767.91</td>\n",
       "      <td>155.57</td>\n",
       "    </tr>\n",
       "  </tbody>\n",
       "</table>\n",
       "</div>"
      ],
      "text/plain": [
       "             state  fatal_accidents  drivers_speeding  drivers_impaired  \\\n",
       "33  North Carolina             16.8                39                31   \n",
       "34    North Dakota             23.9                23                42   \n",
       "41    South Dakota             19.4                31                33   \n",
       "42       Tennessee             19.5                21                29   \n",
       "\n",
       "    drivers_not_distracted  drivers_first_accident  ins_cost  \\\n",
       "33                      94                      81    708.24   \n",
       "34                      99                      86    688.75   \n",
       "41                      98                      86    669.31   \n",
       "42                      82                      81    767.91   \n",
       "\n",
       "    ins_losses_per_driver  \n",
       "33                 127.82  \n",
       "34                 109.72  \n",
       "41                  96.87  \n",
       "42                 155.57  "
      ]
     },
     "execution_count": 92,
     "metadata": {},
     "output_type": "execute_result"
    }
   ],
   "source": [
    "# NOTE: We use parentheses to group the conditions because Python respects the order of operations (e.g. PEMDAS)\n",
    "\n",
    "drv.loc[(drv['ins_cost'] <= 768) & (drv['fatal_accidents'] >= 15.79)]"
   ]
  },
  {
   "cell_type": "markdown",
   "metadata": {},
   "source": [
    "That's interesting -- I remember from `describe()` that 23.9 was the max number of fatal car accidents of any state. And yet they seem to have the second-lowest insurance premiums. Let's quickly sort the whole table to make sure, using `sort_values()`:"
   ]
  },
  {
   "cell_type": "code",
   "execution_count": 93,
   "metadata": {},
   "outputs": [
    {
     "data": {
      "text/html": [
       "<div>\n",
       "<style scoped>\n",
       "    .dataframe tbody tr th:only-of-type {\n",
       "        vertical-align: middle;\n",
       "    }\n",
       "\n",
       "    .dataframe tbody tr th {\n",
       "        vertical-align: top;\n",
       "    }\n",
       "\n",
       "    .dataframe thead th {\n",
       "        text-align: right;\n",
       "    }\n",
       "</style>\n",
       "<table border=\"1\" class=\"dataframe\">\n",
       "  <thead>\n",
       "    <tr style=\"text-align: right;\">\n",
       "      <th></th>\n",
       "      <th>state</th>\n",
       "      <th>fatal_accidents</th>\n",
       "      <th>drivers_speeding</th>\n",
       "      <th>drivers_impaired</th>\n",
       "      <th>drivers_not_distracted</th>\n",
       "      <th>drivers_first_accident</th>\n",
       "      <th>ins_cost</th>\n",
       "      <th>ins_losses_per_driver</th>\n",
       "    </tr>\n",
       "  </thead>\n",
       "  <tbody>\n",
       "    <tr>\n",
       "      <th>40</th>\n",
       "      <td>South Carolina</td>\n",
       "      <td>23.9</td>\n",
       "      <td>38</td>\n",
       "      <td>41</td>\n",
       "      <td>96</td>\n",
       "      <td>81</td>\n",
       "      <td>858.97</td>\n",
       "      <td>116.29</td>\n",
       "    </tr>\n",
       "    <tr>\n",
       "      <th>34</th>\n",
       "      <td>North Dakota</td>\n",
       "      <td>23.9</td>\n",
       "      <td>23</td>\n",
       "      <td>42</td>\n",
       "      <td>99</td>\n",
       "      <td>86</td>\n",
       "      <td>688.75</td>\n",
       "      <td>109.72</td>\n",
       "    </tr>\n",
       "    <tr>\n",
       "      <th>48</th>\n",
       "      <td>West Virginia</td>\n",
       "      <td>23.8</td>\n",
       "      <td>34</td>\n",
       "      <td>28</td>\n",
       "      <td>97</td>\n",
       "      <td>87</td>\n",
       "      <td>992.61</td>\n",
       "      <td>152.56</td>\n",
       "    </tr>\n",
       "    <tr>\n",
       "      <th>3</th>\n",
       "      <td>Arkansas</td>\n",
       "      <td>22.4</td>\n",
       "      <td>18</td>\n",
       "      <td>26</td>\n",
       "      <td>94</td>\n",
       "      <td>95</td>\n",
       "      <td>827.34</td>\n",
       "      <td>142.39</td>\n",
       "    </tr>\n",
       "    <tr>\n",
       "      <th>17</th>\n",
       "      <td>Kentucky</td>\n",
       "      <td>21.4</td>\n",
       "      <td>19</td>\n",
       "      <td>23</td>\n",
       "      <td>78</td>\n",
       "      <td>76</td>\n",
       "      <td>872.51</td>\n",
       "      <td>137.13</td>\n",
       "    </tr>\n",
       "  </tbody>\n",
       "</table>\n",
       "</div>"
      ],
      "text/plain": [
       "             state  fatal_accidents  drivers_speeding  drivers_impaired  \\\n",
       "40  South Carolina             23.9                38                41   \n",
       "34    North Dakota             23.9                23                42   \n",
       "48   West Virginia             23.8                34                28   \n",
       "3         Arkansas             22.4                18                26   \n",
       "17        Kentucky             21.4                19                23   \n",
       "\n",
       "    drivers_not_distracted  drivers_first_accident  ins_cost  \\\n",
       "40                      96                      81    858.97   \n",
       "34                      99                      86    688.75   \n",
       "48                      97                      87    992.61   \n",
       "3                       94                      95    827.34   \n",
       "17                      78                      76    872.51   \n",
       "\n",
       "    ins_losses_per_driver  \n",
       "40                 116.29  \n",
       "34                 109.72  \n",
       "48                 152.56  \n",
       "3                  142.39  \n",
       "17                 137.13  "
      ]
     },
     "execution_count": 93,
     "metadata": {},
     "output_type": "execute_result"
    }
   ],
   "source": [
    "drv.sort_values(by='fatal_accidents', ascending=False).head(5)"
   ]
  },
  {
   "cell_type": "markdown",
   "metadata": {},
   "source": [
    "Yep, it's right at the top. And a lot of these accidents happened while the driver was impaired. But despite this, the insurance company losses per driver don't seem that high. I wonder if that's why the rates stay low. \n",
    "\n",
    "Now I'm curious what the relationship between insurance losses and insurance rates is. I suspect that states that have high rates of reckless driving will have higher losses per driver and charge higher rates to make up for it. I wish we had another column that listed what the loss per driver is as a percentage of the rate charged.\n",
    "\n",
    "Luckily we can do this. Now, if this were a normal Python list/dictionary, we would use a For-loop to iterate over every row, calculate the percentage, and add it to the end of the list. But after looking around the internet, I quickly found that doing any kind of a loop over a Pandas DataFrame is not recommended. Instead, we can use the [`apply()` function](http://jonathansoma.com/lede/foundations/classes/pandas%20columns%20and%20functions/apply-a-function-to-every-row-in-a-pandas-dataframe/).\n",
    "\n",
    "First we will define a simple function that returns the percentage, and then we pass that function as a parameter into the `apply()` function. Our second parameter to `apply()` is `axis=1` which tells Pandas we want this to be applied on a row-by-row basis (the default is `axis=0` or column-by-column). I've never used `apply()` before, so let's just run it real quick to make sure it works right:"
   ]
  },
  {
   "cell_type": "code",
   "execution_count": 94,
   "metadata": {},
   "outputs": [
    {
     "data": {
      "text/plain": [
       "0     18.492129\n",
       "1     12.713103\n",
       "2     12.268336\n",
       "3     17.210578\n",
       "4     18.855660\n",
       "5     16.745661\n",
       "6     15.627895\n",
       "7     13.312593\n",
       "8     10.679886\n",
       "9     12.427918\n",
       "10    15.638176\n",
       "11    14.041199\n",
       "12    12.890211\n",
       "13    17.326394\n",
       "14    15.330912\n",
       "15    17.636274\n",
       "16    17.143955\n",
       "17    15.716725\n",
       "18    15.198783\n",
       "19    14.590258\n",
       "20    18.373729\n",
       "21    13.413573\n",
       "22    13.709583\n",
       "23    17.158187\n",
       "24    17.383687\n",
       "25    18.277407\n",
       "26    10.432364\n",
       "27    15.679795\n",
       "28    13.468690\n",
       "29    16.102285\n",
       "30    12.281794\n",
       "31    13.881704\n",
       "32    12.153349\n",
       "33    18.047555\n",
       "34    15.930309\n",
       "35    19.136342\n",
       "36    20.290184\n",
       "37    12.999714\n",
       "38    16.982527\n",
       "39    12.931357\n",
       "40    13.538308\n",
       "41    14.473114\n",
       "42    20.258885\n",
       "43    15.608858\n",
       "44    13.526403\n",
       "45    15.304384\n",
       "46    19.990897\n",
       "47    12.541150\n",
       "48    15.369581\n",
       "49    15.906073\n",
       "50    15.425841\n",
       "dtype: float64"
      ]
     },
     "execution_count": 94,
     "metadata": {},
     "output_type": "execute_result"
    }
   ],
   "source": [
    "def ins_percent(row):\n",
    "    return ( row['ins_losses_per_driver'] / row['ins_cost'] ) * 100 \n",
    "\n",
    "drv.apply(ins_percent, axis=1)"
   ]
  },
  {
   "cell_type": "markdown",
   "metadata": {},
   "source": [
    "Some spot-checking tells me these numbers are OK, so now it's time to actually save this data into a new column. Again, the syntax is similar to when we dealt with regular dictionaries before. We just specify the new column name in brackets:"
   ]
  },
  {
   "cell_type": "code",
   "execution_count": 95,
   "metadata": {},
   "outputs": [
    {
     "data": {
      "text/html": [
       "<div>\n",
       "<style scoped>\n",
       "    .dataframe tbody tr th:only-of-type {\n",
       "        vertical-align: middle;\n",
       "    }\n",
       "\n",
       "    .dataframe tbody tr th {\n",
       "        vertical-align: top;\n",
       "    }\n",
       "\n",
       "    .dataframe thead th {\n",
       "        text-align: right;\n",
       "    }\n",
       "</style>\n",
       "<table border=\"1\" class=\"dataframe\">\n",
       "  <thead>\n",
       "    <tr style=\"text-align: right;\">\n",
       "      <th></th>\n",
       "      <th>state</th>\n",
       "      <th>fatal_accidents</th>\n",
       "      <th>drivers_speeding</th>\n",
       "      <th>drivers_impaired</th>\n",
       "      <th>drivers_not_distracted</th>\n",
       "      <th>drivers_first_accident</th>\n",
       "      <th>ins_cost</th>\n",
       "      <th>ins_losses_per_driver</th>\n",
       "      <th>ins_loss_percentage</th>\n",
       "    </tr>\n",
       "  </thead>\n",
       "  <tbody>\n",
       "    <tr>\n",
       "      <th>0</th>\n",
       "      <td>Alabama</td>\n",
       "      <td>18.8</td>\n",
       "      <td>39</td>\n",
       "      <td>30</td>\n",
       "      <td>96</td>\n",
       "      <td>80</td>\n",
       "      <td>784.55</td>\n",
       "      <td>145.08</td>\n",
       "      <td>18.492129</td>\n",
       "    </tr>\n",
       "    <tr>\n",
       "      <th>1</th>\n",
       "      <td>Alaska</td>\n",
       "      <td>18.1</td>\n",
       "      <td>41</td>\n",
       "      <td>25</td>\n",
       "      <td>90</td>\n",
       "      <td>94</td>\n",
       "      <td>1053.48</td>\n",
       "      <td>133.93</td>\n",
       "      <td>12.713103</td>\n",
       "    </tr>\n",
       "    <tr>\n",
       "      <th>2</th>\n",
       "      <td>Arizona</td>\n",
       "      <td>18.6</td>\n",
       "      <td>35</td>\n",
       "      <td>28</td>\n",
       "      <td>84</td>\n",
       "      <td>96</td>\n",
       "      <td>899.47</td>\n",
       "      <td>110.35</td>\n",
       "      <td>12.268336</td>\n",
       "    </tr>\n",
       "    <tr>\n",
       "      <th>3</th>\n",
       "      <td>Arkansas</td>\n",
       "      <td>22.4</td>\n",
       "      <td>18</td>\n",
       "      <td>26</td>\n",
       "      <td>94</td>\n",
       "      <td>95</td>\n",
       "      <td>827.34</td>\n",
       "      <td>142.39</td>\n",
       "      <td>17.210578</td>\n",
       "    </tr>\n",
       "    <tr>\n",
       "      <th>4</th>\n",
       "      <td>California</td>\n",
       "      <td>12.0</td>\n",
       "      <td>35</td>\n",
       "      <td>28</td>\n",
       "      <td>91</td>\n",
       "      <td>89</td>\n",
       "      <td>878.41</td>\n",
       "      <td>165.63</td>\n",
       "      <td>18.855660</td>\n",
       "    </tr>\n",
       "  </tbody>\n",
       "</table>\n",
       "</div>"
      ],
      "text/plain": [
       "        state  fatal_accidents  drivers_speeding  drivers_impaired  \\\n",
       "0     Alabama             18.8                39                30   \n",
       "1      Alaska             18.1                41                25   \n",
       "2     Arizona             18.6                35                28   \n",
       "3    Arkansas             22.4                18                26   \n",
       "4  California             12.0                35                28   \n",
       "\n",
       "   drivers_not_distracted  drivers_first_accident  ins_cost  \\\n",
       "0                      96                      80    784.55   \n",
       "1                      90                      94   1053.48   \n",
       "2                      84                      96    899.47   \n",
       "3                      94                      95    827.34   \n",
       "4                      91                      89    878.41   \n",
       "\n",
       "   ins_losses_per_driver  ins_loss_percentage  \n",
       "0                 145.08            18.492129  \n",
       "1                 133.93            12.713103  \n",
       "2                 110.35            12.268336  \n",
       "3                 142.39            17.210578  \n",
       "4                 165.63            18.855660  "
      ]
     },
     "execution_count": 95,
     "metadata": {},
     "output_type": "execute_result"
    }
   ],
   "source": [
    "drv['ins_loss_percentage'] = drv.apply(ins_percent, axis=1)\n",
    "drv.head(5)"
   ]
  },
  {
   "cell_type": "markdown",
   "metadata": {},
   "source": [
    "Alright! That was easy. So which states have the highest insurance company losses as a percentage of insurance rates?"
   ]
  },
  {
   "cell_type": "code",
   "execution_count": 96,
   "metadata": {},
   "outputs": [
    {
     "data": {
      "text/html": [
       "<div>\n",
       "<style scoped>\n",
       "    .dataframe tbody tr th:only-of-type {\n",
       "        vertical-align: middle;\n",
       "    }\n",
       "\n",
       "    .dataframe tbody tr th {\n",
       "        vertical-align: top;\n",
       "    }\n",
       "\n",
       "    .dataframe thead th {\n",
       "        text-align: right;\n",
       "    }\n",
       "</style>\n",
       "<table border=\"1\" class=\"dataframe\">\n",
       "  <thead>\n",
       "    <tr style=\"text-align: right;\">\n",
       "      <th></th>\n",
       "      <th>state</th>\n",
       "      <th>fatal_accidents</th>\n",
       "      <th>drivers_speeding</th>\n",
       "      <th>drivers_impaired</th>\n",
       "      <th>drivers_not_distracted</th>\n",
       "      <th>drivers_first_accident</th>\n",
       "      <th>ins_cost</th>\n",
       "      <th>ins_losses_per_driver</th>\n",
       "      <th>ins_loss_percentage</th>\n",
       "    </tr>\n",
       "  </thead>\n",
       "  <tbody>\n",
       "    <tr>\n",
       "      <th>36</th>\n",
       "      <td>Oklahoma</td>\n",
       "      <td>19.9</td>\n",
       "      <td>32</td>\n",
       "      <td>29</td>\n",
       "      <td>92</td>\n",
       "      <td>94</td>\n",
       "      <td>881.51</td>\n",
       "      <td>178.86</td>\n",
       "      <td>20.290184</td>\n",
       "    </tr>\n",
       "    <tr>\n",
       "      <th>42</th>\n",
       "      <td>Tennessee</td>\n",
       "      <td>19.5</td>\n",
       "      <td>21</td>\n",
       "      <td>29</td>\n",
       "      <td>82</td>\n",
       "      <td>81</td>\n",
       "      <td>767.91</td>\n",
       "      <td>155.57</td>\n",
       "      <td>20.258885</td>\n",
       "    </tr>\n",
       "    <tr>\n",
       "      <th>46</th>\n",
       "      <td>Virginia</td>\n",
       "      <td>12.7</td>\n",
       "      <td>19</td>\n",
       "      <td>27</td>\n",
       "      <td>87</td>\n",
       "      <td>88</td>\n",
       "      <td>768.95</td>\n",
       "      <td>153.72</td>\n",
       "      <td>19.990897</td>\n",
       "    </tr>\n",
       "    <tr>\n",
       "      <th>35</th>\n",
       "      <td>Ohio</td>\n",
       "      <td>14.1</td>\n",
       "      <td>28</td>\n",
       "      <td>34</td>\n",
       "      <td>99</td>\n",
       "      <td>82</td>\n",
       "      <td>697.73</td>\n",
       "      <td>133.52</td>\n",
       "      <td>19.136342</td>\n",
       "    </tr>\n",
       "    <tr>\n",
       "      <th>4</th>\n",
       "      <td>California</td>\n",
       "      <td>12.0</td>\n",
       "      <td>35</td>\n",
       "      <td>28</td>\n",
       "      <td>91</td>\n",
       "      <td>89</td>\n",
       "      <td>878.41</td>\n",
       "      <td>165.63</td>\n",
       "      <td>18.855660</td>\n",
       "    </tr>\n",
       "    <tr>\n",
       "      <th>0</th>\n",
       "      <td>Alabama</td>\n",
       "      <td>18.8</td>\n",
       "      <td>39</td>\n",
       "      <td>30</td>\n",
       "      <td>96</td>\n",
       "      <td>80</td>\n",
       "      <td>784.55</td>\n",
       "      <td>145.08</td>\n",
       "      <td>18.492129</td>\n",
       "    </tr>\n",
       "    <tr>\n",
       "      <th>20</th>\n",
       "      <td>Maryland</td>\n",
       "      <td>12.5</td>\n",
       "      <td>34</td>\n",
       "      <td>32</td>\n",
       "      <td>71</td>\n",
       "      <td>99</td>\n",
       "      <td>1048.78</td>\n",
       "      <td>192.70</td>\n",
       "      <td>18.373729</td>\n",
       "    </tr>\n",
       "    <tr>\n",
       "      <th>25</th>\n",
       "      <td>Missouri</td>\n",
       "      <td>16.1</td>\n",
       "      <td>43</td>\n",
       "      <td>34</td>\n",
       "      <td>92</td>\n",
       "      <td>84</td>\n",
       "      <td>790.32</td>\n",
       "      <td>144.45</td>\n",
       "      <td>18.277407</td>\n",
       "    </tr>\n",
       "    <tr>\n",
       "      <th>33</th>\n",
       "      <td>North Carolina</td>\n",
       "      <td>16.8</td>\n",
       "      <td>39</td>\n",
       "      <td>31</td>\n",
       "      <td>94</td>\n",
       "      <td>81</td>\n",
       "      <td>708.24</td>\n",
       "      <td>127.82</td>\n",
       "      <td>18.047555</td>\n",
       "    </tr>\n",
       "    <tr>\n",
       "      <th>15</th>\n",
       "      <td>Iowa</td>\n",
       "      <td>15.7</td>\n",
       "      <td>17</td>\n",
       "      <td>25</td>\n",
       "      <td>97</td>\n",
       "      <td>87</td>\n",
       "      <td>649.06</td>\n",
       "      <td>114.47</td>\n",
       "      <td>17.636274</td>\n",
       "    </tr>\n",
       "  </tbody>\n",
       "</table>\n",
       "</div>"
      ],
      "text/plain": [
       "             state  fatal_accidents  drivers_speeding  drivers_impaired  \\\n",
       "36        Oklahoma             19.9                32                29   \n",
       "42       Tennessee             19.5                21                29   \n",
       "46        Virginia             12.7                19                27   \n",
       "35            Ohio             14.1                28                34   \n",
       "4       California             12.0                35                28   \n",
       "0          Alabama             18.8                39                30   \n",
       "20        Maryland             12.5                34                32   \n",
       "25        Missouri             16.1                43                34   \n",
       "33  North Carolina             16.8                39                31   \n",
       "15            Iowa             15.7                17                25   \n",
       "\n",
       "    drivers_not_distracted  drivers_first_accident  ins_cost  \\\n",
       "36                      92                      94    881.51   \n",
       "42                      82                      81    767.91   \n",
       "46                      87                      88    768.95   \n",
       "35                      99                      82    697.73   \n",
       "4                       91                      89    878.41   \n",
       "0                       96                      80    784.55   \n",
       "20                      71                      99   1048.78   \n",
       "25                      92                      84    790.32   \n",
       "33                      94                      81    708.24   \n",
       "15                      97                      87    649.06   \n",
       "\n",
       "    ins_losses_per_driver  ins_loss_percentage  \n",
       "36                 178.86            20.290184  \n",
       "42                 155.57            20.258885  \n",
       "46                 153.72            19.990897  \n",
       "35                 133.52            19.136342  \n",
       "4                  165.63            18.855660  \n",
       "0                  145.08            18.492129  \n",
       "20                 192.70            18.373729  \n",
       "25                 144.45            18.277407  \n",
       "33                 127.82            18.047555  \n",
       "15                 114.47            17.636274  "
      ]
     },
     "execution_count": 96,
     "metadata": {},
     "output_type": "execute_result"
    }
   ],
   "source": [
    "drv.sort_values(by=\"ins_loss_percentage\", ascending=False).head(10)"
   ]
  },
  {
   "cell_type": "markdown",
   "metadata": {},
   "source": [
    "Hm. Weird. The states where insurance companies are paying out a lot per driver are states where fatal accidents, drunk driving, speeding, etc. are actually relatively low, as are insurance rates. We can easily run some scatterplots with matplotlib to see if we can find any patterns."
   ]
  },
  {
   "cell_type": "code",
   "execution_count": 97,
   "metadata": {},
   "outputs": [
    {
     "data": {
      "image/png": "[encoded data removed]",
      "text/plain": [
       "<Figure size 432x288 with 1 Axes>"
      ]
     },
     "metadata": {
      "needs_background": "light"
     },
     "output_type": "display_data"
    }
   ],
   "source": [
    "# fatal accidents versus insurance payouts per driver\n",
    "\n",
    "plt.scatter(drv['fatal_accidents'], drv['ins_losses_per_driver'])\n",
    "plt.show()"
   ]
  },
  {
   "cell_type": "code",
   "execution_count": 98,
   "metadata": {},
   "outputs": [
    {
     "data": {
      "image/png": "[encoded data removed]",
      "text/plain": [
       "<Figure size 432x288 with 1 Axes>"
      ]
     },
     "metadata": {
      "needs_background": "light"
     },
     "output_type": "display_data"
    }
   ],
   "source": [
    "# drunk drivers versus insurance loss percentage\n",
    "\n",
    "plt.scatter(drv['drivers_impaired'], drv['ins_loss_percentage'])\n",
    "plt.show()"
   ]
  },
  {
   "cell_type": "markdown",
   "metadata": {},
   "source": [
    "Alright, I'm not seeing anything here. Out of curiosity let's look at the states where drivers are getting the worst deals on insurance (i.e. they pay the most for insurance relative to how much the insurance companies pay out):"
   ]
  },
  {
   "cell_type": "code",
   "execution_count": 99,
   "metadata": {},
   "outputs": [
    {
     "data": {
      "text/html": [
       "<div>\n",
       "<style scoped>\n",
       "    .dataframe tbody tr th:only-of-type {\n",
       "        vertical-align: middle;\n",
       "    }\n",
       "\n",
       "    .dataframe tbody tr th {\n",
       "        vertical-align: top;\n",
       "    }\n",
       "\n",
       "    .dataframe thead th {\n",
       "        text-align: right;\n",
       "    }\n",
       "</style>\n",
       "<table border=\"1\" class=\"dataframe\">\n",
       "  <thead>\n",
       "    <tr style=\"text-align: right;\">\n",
       "      <th></th>\n",
       "      <th>state</th>\n",
       "      <th>fatal_accidents</th>\n",
       "      <th>drivers_speeding</th>\n",
       "      <th>drivers_impaired</th>\n",
       "      <th>drivers_not_distracted</th>\n",
       "      <th>drivers_first_accident</th>\n",
       "      <th>ins_cost</th>\n",
       "      <th>ins_losses_per_driver</th>\n",
       "      <th>ins_loss_percentage</th>\n",
       "    </tr>\n",
       "  </thead>\n",
       "  <tbody>\n",
       "    <tr>\n",
       "      <th>26</th>\n",
       "      <td>Montana</td>\n",
       "      <td>21.4</td>\n",
       "      <td>39</td>\n",
       "      <td>44</td>\n",
       "      <td>84</td>\n",
       "      <td>85</td>\n",
       "      <td>816.21</td>\n",
       "      <td>85.15</td>\n",
       "      <td>10.432364</td>\n",
       "    </tr>\n",
       "    <tr>\n",
       "      <th>8</th>\n",
       "      <td>District of Columbia</td>\n",
       "      <td>5.9</td>\n",
       "      <td>34</td>\n",
       "      <td>27</td>\n",
       "      <td>100</td>\n",
       "      <td>100</td>\n",
       "      <td>1273.89</td>\n",
       "      <td>136.05</td>\n",
       "      <td>10.679886</td>\n",
       "    </tr>\n",
       "    <tr>\n",
       "      <th>32</th>\n",
       "      <td>New York</td>\n",
       "      <td>12.3</td>\n",
       "      <td>32</td>\n",
       "      <td>29</td>\n",
       "      <td>88</td>\n",
       "      <td>80</td>\n",
       "      <td>1234.31</td>\n",
       "      <td>150.01</td>\n",
       "      <td>12.153349</td>\n",
       "    </tr>\n",
       "    <tr>\n",
       "      <th>2</th>\n",
       "      <td>Arizona</td>\n",
       "      <td>18.6</td>\n",
       "      <td>35</td>\n",
       "      <td>28</td>\n",
       "      <td>84</td>\n",
       "      <td>96</td>\n",
       "      <td>899.47</td>\n",
       "      <td>110.35</td>\n",
       "      <td>12.268336</td>\n",
       "    </tr>\n",
       "    <tr>\n",
       "      <th>30</th>\n",
       "      <td>New Jersey</td>\n",
       "      <td>11.2</td>\n",
       "      <td>16</td>\n",
       "      <td>28</td>\n",
       "      <td>86</td>\n",
       "      <td>78</td>\n",
       "      <td>1301.52</td>\n",
       "      <td>159.85</td>\n",
       "      <td>12.281794</td>\n",
       "    </tr>\n",
       "    <tr>\n",
       "      <th>9</th>\n",
       "      <td>Florida</td>\n",
       "      <td>17.9</td>\n",
       "      <td>21</td>\n",
       "      <td>29</td>\n",
       "      <td>92</td>\n",
       "      <td>94</td>\n",
       "      <td>1160.13</td>\n",
       "      <td>144.18</td>\n",
       "      <td>12.427918</td>\n",
       "    </tr>\n",
       "    <tr>\n",
       "      <th>47</th>\n",
       "      <td>Washington</td>\n",
       "      <td>10.6</td>\n",
       "      <td>42</td>\n",
       "      <td>33</td>\n",
       "      <td>82</td>\n",
       "      <td>86</td>\n",
       "      <td>890.03</td>\n",
       "      <td>111.62</td>\n",
       "      <td>12.541150</td>\n",
       "    </tr>\n",
       "    <tr>\n",
       "      <th>1</th>\n",
       "      <td>Alaska</td>\n",
       "      <td>18.1</td>\n",
       "      <td>41</td>\n",
       "      <td>25</td>\n",
       "      <td>90</td>\n",
       "      <td>94</td>\n",
       "      <td>1053.48</td>\n",
       "      <td>133.93</td>\n",
       "      <td>12.713103</td>\n",
       "    </tr>\n",
       "    <tr>\n",
       "      <th>12</th>\n",
       "      <td>Idaho</td>\n",
       "      <td>15.3</td>\n",
       "      <td>36</td>\n",
       "      <td>29</td>\n",
       "      <td>85</td>\n",
       "      <td>98</td>\n",
       "      <td>641.96</td>\n",
       "      <td>82.75</td>\n",
       "      <td>12.890211</td>\n",
       "    </tr>\n",
       "    <tr>\n",
       "      <th>39</th>\n",
       "      <td>Rhode Island</td>\n",
       "      <td>11.1</td>\n",
       "      <td>34</td>\n",
       "      <td>38</td>\n",
       "      <td>92</td>\n",
       "      <td>79</td>\n",
       "      <td>1148.99</td>\n",
       "      <td>148.58</td>\n",
       "      <td>12.931357</td>\n",
       "    </tr>\n",
       "  </tbody>\n",
       "</table>\n",
       "</div>"
      ],
      "text/plain": [
       "                   state  fatal_accidents  drivers_speeding  drivers_impaired  \\\n",
       "26               Montana             21.4                39                44   \n",
       "8   District of Columbia              5.9                34                27   \n",
       "32              New York             12.3                32                29   \n",
       "2                Arizona             18.6                35                28   \n",
       "30            New Jersey             11.2                16                28   \n",
       "9                Florida             17.9                21                29   \n",
       "47            Washington             10.6                42                33   \n",
       "1                 Alaska             18.1                41                25   \n",
       "12                 Idaho             15.3                36                29   \n",
       "39          Rhode Island             11.1                34                38   \n",
       "\n",
       "    drivers_not_distracted  drivers_first_accident  ins_cost  \\\n",
       "26                      84                      85    816.21   \n",
       "8                      100                     100   1273.89   \n",
       "32                      88                      80   1234.31   \n",
       "2                       84                      96    899.47   \n",
       "30                      86                      78   1301.52   \n",
       "9                       92                      94   1160.13   \n",
       "47                      82                      86    890.03   \n",
       "1                       90                      94   1053.48   \n",
       "12                      85                      98    641.96   \n",
       "39                      92                      79   1148.99   \n",
       "\n",
       "    ins_losses_per_driver  ins_loss_percentage  \n",
       "26                  85.15            10.432364  \n",
       "8                  136.05            10.679886  \n",
       "32                 150.01            12.153349  \n",
       "2                  110.35            12.268336  \n",
       "30                 159.85            12.281794  \n",
       "9                  144.18            12.427918  \n",
       "47                 111.62            12.541150  \n",
       "1                  133.93            12.713103  \n",
       "12                  82.75            12.890211  \n",
       "39                 148.58            12.931357  "
      ]
     },
     "execution_count": 99,
     "metadata": {},
     "output_type": "execute_result"
    }
   ],
   "source": [
    "drv.sort_values(by=\"ins_loss_percentage\", ascending=True).head(10)"
   ]
  },
  {
   "cell_type": "markdown",
   "metadata": {},
   "source": [
    "Now this is interesting. These states have pretty low rates of fatal accidents and reckless behaviors, but they are getting the worst deals on insurance. One thing most of them have in common though is a high cost of living and higher incomes. Could that be the main determinant of insurance rates? Do insurance companies just charge as much as they can get away with?\n",
    "\n",
    "Luckily, I found a simple CSV file with median income data per state. We can merge this data into our existing dataset very easily."
   ]
  },
  {
   "cell_type": "code",
   "execution_count": 100,
   "metadata": {},
   "outputs": [
    {
     "data": {
      "text/html": [
       "<div>\n",
       "<style scoped>\n",
       "    .dataframe tbody tr th:only-of-type {\n",
       "        vertical-align: middle;\n",
       "    }\n",
       "\n",
       "    .dataframe tbody tr th {\n",
       "        vertical-align: top;\n",
       "    }\n",
       "\n",
       "    .dataframe thead th {\n",
       "        text-align: right;\n",
       "    }\n",
       "</style>\n",
       "<table border=\"1\" class=\"dataframe\">\n",
       "  <thead>\n",
       "    <tr style=\"text-align: right;\">\n",
       "      <th></th>\n",
       "      <th>State</th>\n",
       "      <th>Median income in current U.S. dollars</th>\n",
       "    </tr>\n",
       "  </thead>\n",
       "  <tbody>\n",
       "    <tr>\n",
       "      <th>0</th>\n",
       "      <td>Delaware</td>\n",
       "      <td>83382.0</td>\n",
       "    </tr>\n",
       "    <tr>\n",
       "      <th>1</th>\n",
       "      <td>Maryland</td>\n",
       "      <td>81084.0</td>\n",
       "    </tr>\n",
       "    <tr>\n",
       "      <th>2</th>\n",
       "      <td>Washington</td>\n",
       "      <td>75418.0</td>\n",
       "    </tr>\n",
       "    <tr>\n",
       "      <th>3</th>\n",
       "      <td>New Hampshire</td>\n",
       "      <td>74801.0</td>\n",
       "    </tr>\n",
       "    <tr>\n",
       "      <th>4</th>\n",
       "      <td>Colorado</td>\n",
       "      <td>74172.0</td>\n",
       "    </tr>\n",
       "  </tbody>\n",
       "</table>\n",
       "</div>"
      ],
      "text/plain": [
       "           State  Median income in current U.S. dollars\n",
       "0       Delaware                                83382.0\n",
       "1       Maryland                                81084.0\n",
       "2     Washington                                75418.0\n",
       "3  New Hampshire                                74801.0\n",
       "4       Colorado                                74172.0"
      ]
     },
     "execution_count": 100,
     "metadata": {},
     "output_type": "execute_result"
    }
   ],
   "source": [
    "# First, save it into a new Pandas DataFrame\n",
    "income = pd.read_csv('https://hsl.med.nyu.edu/sites/hsl.med.nyu.edu/files/median_income.csv')\n",
    "income.head()"
   ]
  },
  {
   "cell_type": "markdown",
   "metadata": {},
   "source": [
    "We can see that we have a column of state names that matches our state names in the first dataset, which should make the merge easy. There are several ways to combine DataFrames in Pandas, such as `.concat()`, `.merge()`, or `.join()`. [A few merging strategies are discussed here](https://www.datacamp.com/community/tutorials/joining-dataframes-pandas). Since we already have a matching column, and we don't have to do any manipulation of the data on the fly, I think `.merge()` is the best (easiest) option here."
   ]
  },
  {
   "cell_type": "code",
   "execution_count": 101,
   "metadata": {},
   "outputs": [
    {
     "ename": "KeyError",
     "evalue": "'state'",
     "output_type": "error",
     "traceback": [
      "\u001b[0;31m---------------------------------------------------------------------------\u001b[0m",
      "\u001b[0;31mKeyError\u001b[0m                                  Traceback (most recent call last)",
      "\u001b[0;32m<ipython-input-101-f15acec05388>\u001b[0m in \u001b[0;36m<module>\u001b[0;34m\u001b[0m\n\u001b[0;32m----> 1\u001b[0;31m \u001b[0mdrv\u001b[0m \u001b[0;34m=\u001b[0m \u001b[0mpd\u001b[0m\u001b[0;34m.\u001b[0m\u001b[0mmerge\u001b[0m\u001b[0;34m(\u001b[0m\u001b[0mdrv\u001b[0m\u001b[0;34m,\u001b[0m \u001b[0mincome\u001b[0m\u001b[0;34m,\u001b[0m \u001b[0mon\u001b[0m\u001b[0;34m=\u001b[0m\u001b[0;34m\"state\"\u001b[0m\u001b[0;34m)\u001b[0m\u001b[0;34m\u001b[0m\u001b[0;34m\u001b[0m\u001b[0m\n\u001b[0m\u001b[1;32m      2\u001b[0m \u001b[0mdrv\u001b[0m\u001b[0;34m.\u001b[0m\u001b[0mhead\u001b[0m\u001b[0;34m(\u001b[0m\u001b[0;34m)\u001b[0m\u001b[0;34m\u001b[0m\u001b[0;34m\u001b[0m\u001b[0m\n",
      "\u001b[0;32m~/opt/anaconda3/lib/python3.8/site-packages/pandas/core/reshape/merge.py\u001b[0m in \u001b[0;36mmerge\u001b[0;34m(left, right, how, on, left_on, right_on, left_index, right_index, sort, suffixes, copy, indicator, validate)\u001b[0m\n\u001b[1;32m     72\u001b[0m     \u001b[0mvalidate\u001b[0m\u001b[0;34m=\u001b[0m\u001b[0;32mNone\u001b[0m\u001b[0;34m,\u001b[0m\u001b[0;34m\u001b[0m\u001b[0;34m\u001b[0m\u001b[0m\n\u001b[1;32m     73\u001b[0m ) -> \"DataFrame\":\n\u001b[0;32m---> 74\u001b[0;31m     op = _MergeOperation(\n\u001b[0m\u001b[1;32m     75\u001b[0m         \u001b[0mleft\u001b[0m\u001b[0;34m,\u001b[0m\u001b[0;34m\u001b[0m\u001b[0;34m\u001b[0m\u001b[0m\n\u001b[1;32m     76\u001b[0m         \u001b[0mright\u001b[0m\u001b[0;34m,\u001b[0m\u001b[0;34m\u001b[0m\u001b[0;34m\u001b[0m\u001b[0m\n",
      "\u001b[0;32m~/opt/anaconda3/lib/python3.8/site-packages/pandas/core/reshape/merge.py\u001b[0m in \u001b[0;36m__init__\u001b[0;34m(self, left, right, how, on, left_on, right_on, axis, left_index, right_index, sort, suffixes, copy, indicator, validate)\u001b[0m\n\u001b[1;32m    666\u001b[0m             \u001b[0mself\u001b[0m\u001b[0;34m.\u001b[0m\u001b[0mright_join_keys\u001b[0m\u001b[0;34m,\u001b[0m\u001b[0;34m\u001b[0m\u001b[0;34m\u001b[0m\u001b[0m\n\u001b[1;32m    667\u001b[0m             \u001b[0mself\u001b[0m\u001b[0;34m.\u001b[0m\u001b[0mjoin_names\u001b[0m\u001b[0;34m,\u001b[0m\u001b[0;34m\u001b[0m\u001b[0;34m\u001b[0m\u001b[0m\n\u001b[0;32m--> 668\u001b[0;31m         ) = self._get_merge_keys()\n\u001b[0m\u001b[1;32m    669\u001b[0m \u001b[0;34m\u001b[0m\u001b[0m\n\u001b[1;32m    670\u001b[0m         \u001b[0;31m# validate the merge keys dtypes. We may need to coerce\u001b[0m\u001b[0;34m\u001b[0m\u001b[0;34m\u001b[0m\u001b[0;34m\u001b[0m\u001b[0m\n",
      "\u001b[0;32m~/opt/anaconda3/lib/python3.8/site-packages/pandas/core/reshape/merge.py\u001b[0m in \u001b[0;36m_get_merge_keys\u001b[0;34m(self)\u001b[0m\n\u001b[1;32m   1031\u001b[0m                     \u001b[0;32mif\u001b[0m \u001b[0;32mnot\u001b[0m \u001b[0mis_rkey\u001b[0m\u001b[0;34m(\u001b[0m\u001b[0mrk\u001b[0m\u001b[0;34m)\u001b[0m\u001b[0;34m:\u001b[0m\u001b[0;34m\u001b[0m\u001b[0;34m\u001b[0m\u001b[0m\n\u001b[1;32m   1032\u001b[0m                         \u001b[0;32mif\u001b[0m \u001b[0mrk\u001b[0m \u001b[0;32mis\u001b[0m \u001b[0;32mnot\u001b[0m \u001b[0;32mNone\u001b[0m\u001b[0;34m:\u001b[0m\u001b[0;34m\u001b[0m\u001b[0;34m\u001b[0m\u001b[0m\n\u001b[0;32m-> 1033\u001b[0;31m                             \u001b[0mright_keys\u001b[0m\u001b[0;34m.\u001b[0m\u001b[0mappend\u001b[0m\u001b[0;34m(\u001b[0m\u001b[0mright\u001b[0m\u001b[0;34m.\u001b[0m\u001b[0m_get_label_or_level_values\u001b[0m\u001b[0;34m(\u001b[0m\u001b[0mrk\u001b[0m\u001b[0;34m)\u001b[0m\u001b[0;34m)\u001b[0m\u001b[0;34m\u001b[0m\u001b[0;34m\u001b[0m\u001b[0m\n\u001b[0m\u001b[1;32m   1034\u001b[0m                         \u001b[0;32melse\u001b[0m\u001b[0;34m:\u001b[0m\u001b[0;34m\u001b[0m\u001b[0;34m\u001b[0m\u001b[0m\n\u001b[1;32m   1035\u001b[0m                             \u001b[0;31m# work-around for merge_asof(right_index=True)\u001b[0m\u001b[0;34m\u001b[0m\u001b[0;34m\u001b[0m\u001b[0;34m\u001b[0m\u001b[0m\n",
      "\u001b[0;32m~/opt/anaconda3/lib/python3.8/site-packages/pandas/core/generic.py\u001b[0m in \u001b[0;36m_get_label_or_level_values\u001b[0;34m(self, key, axis)\u001b[0m\n\u001b[1;32m   1682\u001b[0m             \u001b[0mvalues\u001b[0m \u001b[0;34m=\u001b[0m \u001b[0mself\u001b[0m\u001b[0;34m.\u001b[0m\u001b[0maxes\u001b[0m\u001b[0;34m[\u001b[0m\u001b[0maxis\u001b[0m\u001b[0;34m]\u001b[0m\u001b[0;34m.\u001b[0m\u001b[0mget_level_values\u001b[0m\u001b[0;34m(\u001b[0m\u001b[0mkey\u001b[0m\u001b[0;34m)\u001b[0m\u001b[0;34m.\u001b[0m\u001b[0m_values\u001b[0m\u001b[0;34m\u001b[0m\u001b[0;34m\u001b[0m\u001b[0m\n\u001b[1;32m   1683\u001b[0m         \u001b[0;32melse\u001b[0m\u001b[0;34m:\u001b[0m\u001b[0;34m\u001b[0m\u001b[0;34m\u001b[0m\u001b[0m\n\u001b[0;32m-> 1684\u001b[0;31m             \u001b[0;32mraise\u001b[0m \u001b[0mKeyError\u001b[0m\u001b[0;34m(\u001b[0m\u001b[0mkey\u001b[0m\u001b[0;34m)\u001b[0m\u001b[0;34m\u001b[0m\u001b[0;34m\u001b[0m\u001b[0m\n\u001b[0m\u001b[1;32m   1685\u001b[0m \u001b[0;34m\u001b[0m\u001b[0m\n\u001b[1;32m   1686\u001b[0m         \u001b[0;31m# Check for duplicates\u001b[0m\u001b[0;34m\u001b[0m\u001b[0;34m\u001b[0m\u001b[0;34m\u001b[0m\u001b[0m\n",
      "\u001b[0;31mKeyError\u001b[0m: 'state'"
     ]
    }
   ],
   "source": [
    "drv = pd.merge(drv, income, on=\"state\")\n",
    "drv.head()"
   ]
  },
  {
   "cell_type": "markdown",
   "metadata": {},
   "source": [
    "OOPS! Another error. \n",
    "\n",
    "If I were googling this I would probably search something like [\"pandas merge KeyError.\"](https://www.google.com/search?client=firefox-b-1-d&ei=6WpAXYCkMce5ggefrqBo&q=pandas+merge+KeyError&oq=pandas+merge+KeyError&gs_l=psy-ab.3..35i39j0i20i263j0i22i30l2.238177.239344..239491...0.0..0.85.622.8......0....1..gws-wiz.......0i71j0.fup_UCjcZ-Q&ved=0ahUKEwjAvPj6gt3jAhXHnOAKHR8XCA0Q4dUDCAo&uact=5). But luckily, this one is fairly straightforward. Can anyone see it?"
   ]
  },
  {
   "cell_type": "code",
   "execution_count": 102,
   "metadata": {},
   "outputs": [
    {
     "data": {
      "text/html": [
       "<div>\n",
       "<style scoped>\n",
       "    .dataframe tbody tr th:only-of-type {\n",
       "        vertical-align: middle;\n",
       "    }\n",
       "\n",
       "    .dataframe tbody tr th {\n",
       "        vertical-align: top;\n",
       "    }\n",
       "\n",
       "    .dataframe thead th {\n",
       "        text-align: right;\n",
       "    }\n",
       "</style>\n",
       "<table border=\"1\" class=\"dataframe\">\n",
       "  <thead>\n",
       "    <tr style=\"text-align: right;\">\n",
       "      <th></th>\n",
       "      <th>state</th>\n",
       "      <th>median_income</th>\n",
       "    </tr>\n",
       "  </thead>\n",
       "  <tbody>\n",
       "    <tr>\n",
       "      <th>0</th>\n",
       "      <td>Delaware</td>\n",
       "      <td>83382.0</td>\n",
       "    </tr>\n",
       "    <tr>\n",
       "      <th>1</th>\n",
       "      <td>Maryland</td>\n",
       "      <td>81084.0</td>\n",
       "    </tr>\n",
       "    <tr>\n",
       "      <th>2</th>\n",
       "      <td>Washington</td>\n",
       "      <td>75418.0</td>\n",
       "    </tr>\n",
       "    <tr>\n",
       "      <th>3</th>\n",
       "      <td>New Hampshire</td>\n",
       "      <td>74801.0</td>\n",
       "    </tr>\n",
       "    <tr>\n",
       "      <th>4</th>\n",
       "      <td>Colorado</td>\n",
       "      <td>74172.0</td>\n",
       "    </tr>\n",
       "  </tbody>\n",
       "</table>\n",
       "</div>"
      ],
      "text/plain": [
       "           state  median_income\n",
       "0       Delaware        83382.0\n",
       "1       Maryland        81084.0\n",
       "2     Washington        75418.0\n",
       "3  New Hampshire        74801.0\n",
       "4       Colorado        74172.0"
      ]
     },
     "execution_count": 102,
     "metadata": {},
     "output_type": "execute_result"
    }
   ],
   "source": [
    "income.columns = ['state', 'median_income']\n",
    "income.head()"
   ]
  },
  {
   "cell_type": "code",
   "execution_count": 103,
   "metadata": {},
   "outputs": [
    {
     "data": {
      "text/html": [
       "<div>\n",
       "<style scoped>\n",
       "    .dataframe tbody tr th:only-of-type {\n",
       "        vertical-align: middle;\n",
       "    }\n",
       "\n",
       "    .dataframe tbody tr th {\n",
       "        vertical-align: top;\n",
       "    }\n",
       "\n",
       "    .dataframe thead th {\n",
       "        text-align: right;\n",
       "    }\n",
       "</style>\n",
       "<table border=\"1\" class=\"dataframe\">\n",
       "  <thead>\n",
       "    <tr style=\"text-align: right;\">\n",
       "      <th></th>\n",
       "      <th>state</th>\n",
       "      <th>fatal_accidents</th>\n",
       "      <th>drivers_speeding</th>\n",
       "      <th>drivers_impaired</th>\n",
       "      <th>drivers_not_distracted</th>\n",
       "      <th>drivers_first_accident</th>\n",
       "      <th>ins_cost</th>\n",
       "      <th>ins_losses_per_driver</th>\n",
       "      <th>ins_loss_percentage</th>\n",
       "      <th>median_income</th>\n",
       "    </tr>\n",
       "  </thead>\n",
       "  <tbody>\n",
       "    <tr>\n",
       "      <th>0</th>\n",
       "      <td>Alabama</td>\n",
       "      <td>18.8</td>\n",
       "      <td>39</td>\n",
       "      <td>30</td>\n",
       "      <td>96</td>\n",
       "      <td>80</td>\n",
       "      <td>784.55</td>\n",
       "      <td>145.08</td>\n",
       "      <td>18.492129</td>\n",
       "      <td>51113.0</td>\n",
       "    </tr>\n",
       "    <tr>\n",
       "      <th>1</th>\n",
       "      <td>Alaska</td>\n",
       "      <td>18.1</td>\n",
       "      <td>41</td>\n",
       "      <td>25</td>\n",
       "      <td>90</td>\n",
       "      <td>94</td>\n",
       "      <td>1053.48</td>\n",
       "      <td>133.93</td>\n",
       "      <td>12.713103</td>\n",
       "      <td>72231.0</td>\n",
       "    </tr>\n",
       "    <tr>\n",
       "      <th>2</th>\n",
       "      <td>Arizona</td>\n",
       "      <td>18.6</td>\n",
       "      <td>35</td>\n",
       "      <td>28</td>\n",
       "      <td>84</td>\n",
       "      <td>96</td>\n",
       "      <td>899.47</td>\n",
       "      <td>110.35</td>\n",
       "      <td>12.268336</td>\n",
       "      <td>61125.0</td>\n",
       "    </tr>\n",
       "    <tr>\n",
       "      <th>3</th>\n",
       "      <td>Arkansas</td>\n",
       "      <td>22.4</td>\n",
       "      <td>18</td>\n",
       "      <td>26</td>\n",
       "      <td>94</td>\n",
       "      <td>95</td>\n",
       "      <td>827.34</td>\n",
       "      <td>142.39</td>\n",
       "      <td>17.210578</td>\n",
       "      <td>48829.0</td>\n",
       "    </tr>\n",
       "    <tr>\n",
       "      <th>4</th>\n",
       "      <td>California</td>\n",
       "      <td>12.0</td>\n",
       "      <td>35</td>\n",
       "      <td>28</td>\n",
       "      <td>91</td>\n",
       "      <td>89</td>\n",
       "      <td>878.41</td>\n",
       "      <td>165.63</td>\n",
       "      <td>18.855660</td>\n",
       "      <td>69759.0</td>\n",
       "    </tr>\n",
       "    <tr>\n",
       "      <th>5</th>\n",
       "      <td>Colorado</td>\n",
       "      <td>13.6</td>\n",
       "      <td>37</td>\n",
       "      <td>28</td>\n",
       "      <td>79</td>\n",
       "      <td>95</td>\n",
       "      <td>835.50</td>\n",
       "      <td>139.91</td>\n",
       "      <td>16.745661</td>\n",
       "      <td>74172.0</td>\n",
       "    </tr>\n",
       "    <tr>\n",
       "      <th>6</th>\n",
       "      <td>Connecticut</td>\n",
       "      <td>10.8</td>\n",
       "      <td>46</td>\n",
       "      <td>36</td>\n",
       "      <td>87</td>\n",
       "      <td>82</td>\n",
       "      <td>1068.73</td>\n",
       "      <td>167.02</td>\n",
       "      <td>15.627895</td>\n",
       "      <td>72780.0</td>\n",
       "    </tr>\n",
       "    <tr>\n",
       "      <th>7</th>\n",
       "      <td>Delaware</td>\n",
       "      <td>16.2</td>\n",
       "      <td>38</td>\n",
       "      <td>30</td>\n",
       "      <td>87</td>\n",
       "      <td>99</td>\n",
       "      <td>1137.87</td>\n",
       "      <td>151.48</td>\n",
       "      <td>13.312593</td>\n",
       "      <td>83382.0</td>\n",
       "    </tr>\n",
       "    <tr>\n",
       "      <th>8</th>\n",
       "      <td>District of Columbia</td>\n",
       "      <td>5.9</td>\n",
       "      <td>34</td>\n",
       "      <td>27</td>\n",
       "      <td>100</td>\n",
       "      <td>100</td>\n",
       "      <td>1273.89</td>\n",
       "      <td>136.05</td>\n",
       "      <td>10.679886</td>\n",
       "      <td>62318.0</td>\n",
       "    </tr>\n",
       "    <tr>\n",
       "      <th>9</th>\n",
       "      <td>Florida</td>\n",
       "      <td>17.9</td>\n",
       "      <td>21</td>\n",
       "      <td>29</td>\n",
       "      <td>92</td>\n",
       "      <td>94</td>\n",
       "      <td>1160.13</td>\n",
       "      <td>144.18</td>\n",
       "      <td>12.427918</td>\n",
       "      <td>53681.0</td>\n",
       "    </tr>\n",
       "  </tbody>\n",
       "</table>\n",
       "</div>"
      ],
      "text/plain": [
       "                  state  fatal_accidents  drivers_speeding  drivers_impaired  \\\n",
       "0               Alabama             18.8                39                30   \n",
       "1                Alaska             18.1                41                25   \n",
       "2               Arizona             18.6                35                28   \n",
       "3              Arkansas             22.4                18                26   \n",
       "4            California             12.0                35                28   \n",
       "5              Colorado             13.6                37                28   \n",
       "6           Connecticut             10.8                46                36   \n",
       "7              Delaware             16.2                38                30   \n",
       "8  District of Columbia              5.9                34                27   \n",
       "9               Florida             17.9                21                29   \n",
       "\n",
       "   drivers_not_distracted  drivers_first_accident  ins_cost  \\\n",
       "0                      96                      80    784.55   \n",
       "1                      90                      94   1053.48   \n",
       "2                      84                      96    899.47   \n",
       "3                      94                      95    827.34   \n",
       "4                      91                      89    878.41   \n",
       "5                      79                      95    835.50   \n",
       "6                      87                      82   1068.73   \n",
       "7                      87                      99   1137.87   \n",
       "8                     100                     100   1273.89   \n",
       "9                      92                      94   1160.13   \n",
       "\n",
       "   ins_losses_per_driver  ins_loss_percentage  median_income  \n",
       "0                 145.08            18.492129        51113.0  \n",
       "1                 133.93            12.713103        72231.0  \n",
       "2                 110.35            12.268336        61125.0  \n",
       "3                 142.39            17.210578        48829.0  \n",
       "4                 165.63            18.855660        69759.0  \n",
       "5                 139.91            16.745661        74172.0  \n",
       "6                 167.02            15.627895        72780.0  \n",
       "7                 151.48            13.312593        83382.0  \n",
       "8                 136.05            10.679886        62318.0  \n",
       "9                 144.18            12.427918        53681.0  "
      ]
     },
     "execution_count": 103,
     "metadata": {},
     "output_type": "execute_result"
    }
   ],
   "source": [
    "drv = pd.merge(drv, income, on=\"state\")\n",
    "drv.head(10)"
   ]
  },
  {
   "cell_type": "markdown",
   "metadata": {},
   "source": [
    "# Exercises\n",
    "\n",
    "1. Now that we have median income data per state, can you find any interesting new correlations?\n",
    "2. Looking at the Matplotlib plot gallery, can you identify any plots that may help illustrate these relationships (or the fact that there aren't any meaningful correlations)?\n",
    "\n"
   ]
  },
  {
   "cell_type": "code",
   "execution_count": null,
   "metadata": {},
   "outputs": [],
   "source": []
  },
  {
   "cell_type": "markdown",
   "metadata": {},
   "source": [
    "# Parting Thoughts\n",
    "\n",
    "\n",
    "It's important to be able to read official documentation, but it's often not enough to help you understand how to accomplish your goal. For solutions to real-world problems, **look for Stack Overflow questions, tutorials from blogs and/or coding schools, and especially \"cookbooks.\"**\n",
    "\n",
    "And again: the best way to learn Python is to **find your problem first**, then use Python as the solution. Starting with a goal will help focus your efforts.\n",
    "\n",
    "### Important science and math libraries\n",
    "- https://pandas.pydata.org/\n",
    "- https://www.scipy.org/\n",
    "- https://www.numpy.org/\n",
    "- https://biopython.org/\n",
    "- https://bokeh.pydata.org/en/latest/ (very nice visualizations)\n",
    "- https://www.tensorflow.org/ (machine learning)\n",
    "\n",
    "### Python Operators\n",
    "- https://www.programiz.com/python-programming/operators\n",
    "\n",
    "### Lists\n",
    "- https://stackoverflow.com/a/509295\n",
    "- https://realpython.com/python-lists-tuples/\n",
    "- https://docs.python.org/3/tutorial/datastructures.html\n",
    "\n",
    "### Dictionaries\n",
    "- https://realpython.com/python-dicts/\n",
    "\n",
    "### Specialized Scientific Data Structures\n",
    "- https://docs.scipy.org/doc/numpy/reference/arrays.ndarray.html\n",
    "- https://biopython.org/wiki/Seq\n",
    "- https://www.datacamp.com/community/tutorials/pandas-tutorial-dataframe-python\n",
    "\n",
    "### Loops\n",
    "- https://www.learnpython.org/en/Loops\n",
    "- https://www.datacamp.com/community/tutorials/for-loops-in-python\n",
    "- https://realpython.com/python-while-loop/\n",
    "\n",
    "### Functions\n",
    "- https://www.datacamp.com/community/tutorials/functions-python-tutorial\n",
    "- https://realpython.com/python-main-function/ (useful when you're writing a standalone script)\n",
    "\n",
    "### MatplotLib Tutorial and Gallery\n",
    "- https://matplotlib.org/3.1.0/tutorials/introductory/pyplot.html\n",
    "- https://matplotlib.org/3.1.0/gallery/index.html\n",
    "\n",
    "### Pandas\n",
    "- https://pandas.pydata.org/pandas-docs/stable/getting_started/10min.html\n",
    "- https://pandas.pydata.org/pandas-docs/stable/user_guide/cookbook.html\n",
    "- https://www.datacamp.com/community/tutorials/pandas-tutorial-dataframe-python\n",
    "- https://stackoverflow.com/questions/17071871/select-rows-from-a-dataframe-based-on-values-in-a-column-in-pandas?rq=1\n",
    "- https://www.datacamp.com/community/tutorials/joining-dataframes-pandas\n",
    "\n",
    "### More Resources and Online Courses\n",
    "- https://www.datacamp.com\n",
    "- https://realpython.com/\n",
    "- https://docs.python-guide.org/intro/learning/\n",
    "- https://www.coursera.org/learn/python\n",
    "- https://www.codecademy.com/learn/learn-python-3\n",
    "\n",
    "### Easily-Downloadable Datasets to Play With\n",
    "Note: when downloading datasets from GitHub, be sure to click on the \"raw\" button near the top to get the unformatted data, which is the only kind Python can accept. This URL (which usually starts with https://raw.githubusercontent.com) can be used directly in the Pandas `read_csv()` function\n",
    "- https://github.com/fivethirtyeight/data\n",
    "- https://github.com/mwaskom/seaborn-data"
   ]
  }
 ],
 "metadata": {
  "kernelspec": {
   "display_name": "Python 3",
   "language": "python",
   "name": "python3"
  },
  "language_info": {
   "codemirror_mode": {
    "name": "ipython",
    "version": 3
   },
   "file_extension": ".py",
   "mimetype": "text/x-python",
   "name": "python",
   "nbconvert_exporter": "python",
   "pygments_lexer": "ipython3",
   "version": "3.8.8"
  }
 },
 "nbformat": 4,
 "nbformat_minor": 4
}
