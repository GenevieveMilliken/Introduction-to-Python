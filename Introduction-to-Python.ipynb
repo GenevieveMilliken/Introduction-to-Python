{
 "cells": [
  {
   "cell_type": "markdown",
   "metadata": {},
   "source": [
    "# Introduction to Python\n",
    "## NYU Health Sciences Library\n"
   ]
  },
  {
   "cell_type": "markdown",
   "metadata": {},
   "source": [
    "# Why Python?\n",
    "Python is an incredibly efficient programming language and allows you to do some impressive things with only a few lines of code! Thanks to Python’s syntax, we can write “clean” code that is easier to debug and allows for overall readability. Further, code written in Python is easily extendable and reusable, allowing you and others to build upon existing code. Python is used in a variety of contexts from game design to data analysis. It is also used a lot in academic research, especially in the sciences, and can be used for data collection (e.g., web scraping), data cleaning, data analysis, and visualization.\n"
   ]
  },
  {
   "cell_type": "markdown",
   "metadata": {},
   "source": [
    "## Why Python for Scientific Computing?\n",
    "\n",
    "Since it is relatively easy to use compared to other programming languages, Python has been widely adopted by researchers who don't want to spend a whole lot of time learning computer programming before they can start their actual project. Additionally, over the years an entire ecosystem of helper libraries (or \"packages\") has been developed to make scientific tasks even easier in Python. \n",
    "\n",
    "You may have already heard of some of these libraries, such as [PANDAS](https://pandas.pydata.org/) (which contains functions for data analysis), [SciPy](https://www.scipy.org/) (science and engineering), [NumPy](https://www.numpy.org/) (multi-dimensional data structures and high-level mathematics), [BioPython](https://biopython.org/) (biological computing), etc. There is some overlap between these libraries, and typically you will combine features from several different libraries to accomplish your research tasks.\n"
   ]
  },
  {
   "cell_type": "markdown",
   "metadata": {},
   "source": [
    "## Python Environment\n",
    "\n",
    "If Python is installed on your computer, you can interact with it on the command line, sometimes referred to as the \"terminal\", \"console\", \"Python shell\" or \"REPL\" (Read, Eval, Print and Loop). More often, people use a text editor, such as [Sublime](https://www.sublimetext.com/), or more sophisticated IDEs such as [PyCharm](https://www.jetbrains.com/pycharm/) to write and run code. With a lot of setups available, you have many options to choose from!\n",
    "\n",
    "Today, we are using a browser-based Jupyter Notebook and Anaconda, which allows users to selectively run code cells and add rich text elements (paragraph, equations, figures, notes, links) in Markdown. With code, notes, instructions, and comments all in one place, it serves as a powerful resource and learning tool for you!\n",
    "\n",
    "Try running each of the code blocks below using **`Shift-Enter` (Windows) or `Control-Return`** (Mac). Any text after the # symbol is a comment for humans, and will be ignored by Python. You can also try editing the code blocks and seeing the new results."
   ]
  },
  {
   "cell_type": "code",
   "execution_count": null,
   "metadata": {},
   "outputs": [],
   "source": [
    "3 + 4   # addition"
   ]
  },
  {
   "cell_type": "code",
   "execution_count": null,
   "metadata": {},
   "outputs": [],
   "source": [
    "5 * 2   # multiplication"
   ]
  },
  {
   "cell_type": "code",
   "execution_count": null,
   "metadata": {},
   "outputs": [],
   "source": [
    "5 / 2 # division"
   ]
  },
  {
   "cell_type": "code",
   "execution_count": null,
   "metadata": {
    "scrolled": true
   },
   "outputs": [],
   "source": [
    "5 ** 2  # exponentiation"
   ]
  },
  {
   "cell_type": "code",
   "execution_count": null,
   "metadata": {},
   "outputs": [],
   "source": [
    "True    # boolean: \"True\" and \"False\" are reserved keywords in Python, meaning you can't use them yourself as e.g. variable names"
   ]
  },
  {
   "cell_type": "code",
   "execution_count": null,
   "metadata": {},
   "outputs": [],
   "source": [
    "not True # negating a boolean"
   ]
  },
  {
   "cell_type": "code",
   "execution_count": null,
   "metadata": {},
   "outputs": [],
   "source": [
    "not true # booleans are case-sensitive, so this will throw an error"
   ]
  },
  {
   "cell_type": "code",
   "execution_count": null,
   "metadata": {},
   "outputs": [],
   "source": [
    "#try a simple calculation out and run this cell! \n",
    "\n",
    "\n"
   ]
  },
  {
   "cell_type": "markdown",
   "metadata": {},
   "source": [
    "## Python Syntax \n",
    "Python is sometimes loosely referred to as 'executable pseudocode' since it often uses easily recognizable words, which can be used to infer what is happening or what will happen. Take for example, the simple line of code below. What do you think will happen when we run it? \n"
   ]
  },
  {
   "cell_type": "code",
   "execution_count": null,
   "metadata": {},
   "outputs": [],
   "source": [
    "print(\"Hello World\")"
   ]
  },
  {
   "cell_type": "markdown",
   "metadata": {},
   "source": [
    "Our inputs to Python can roughly be categorized as either commands (i.e., requests to do something), or definitions"
   ]
  },
  {
   "cell_type": "code",
   "execution_count": null,
   "metadata": {},
   "outputs": [],
   "source": [
    "# Two commands\n",
    "print(4 + 7)"
   ]
  },
  {
   "cell_type": "code",
   "execution_count": null,
   "metadata": {},
   "outputs": [],
   "source": [
    "# Defining a variable (this produces no output)\n",
    "my_location = \"Health Sciences Library\""
   ]
  },
  {
   "cell_type": "code",
   "execution_count": null,
   "metadata": {},
   "outputs": [],
   "source": [
    "# Commanding Python to print the variable you just defined\n",
    "print(my_location)"
   ]
  },
  {
   "cell_type": "markdown",
   "metadata": {},
   "source": [
    "## What does this lesson cover? \n",
    "\n",
    "* Variables\n",
    "* Basic Data Types\n",
    "* Lists \n",
    "* Dictionaries\n",
    "* Conditional Statements\n",
    "* Loops\n",
    "* Functions and Arguments\n",
    "* Python Libraries"
   ]
  },
  {
   "cell_type": "markdown",
   "metadata": {},
   "source": [
    "# A Note About This Class\n",
    "\n",
    "Programming is a huge topic, and you can spend an entire lifetime learning and improving. So it's impossible for me to teach you everything you need to know in this one class. Therefore, I don't want you to get too bogged down in the details. It's OK if you leave this class without knowing the proper command for reversing a Python list. You may never have to use that command, and if you ever do, there is no shame in Googling it.\n",
    "\n",
    "It's much more important that you leave this class knowing how and where to find help when you need it. In fact, learning to search the internet for help is a very important part of programming. No matter what you're trying to do with Python, someone else has already done it before, and has probably posted about it online to help others. You just need to Google the right words to find it!\n",
    "\n",
    "Basically, the best way to learn Python is to find a problem that interests you, and that you need Python to solve. Once you are working towards a specific goal like this, the problems you face will become much smaller, and you'll know what questions you need to ask to accomplish your goal. For example, instead of your task being \"Learn Python\" (which can take an entire lifetime) your task will be, \"how to get standard deviation of all numbers in a list in Python.\" That is much easier!"
   ]
  },
  {
   "cell_type": "markdown",
   "metadata": {},
   "source": [
    "# Storing Data in Variables\n",
    "A variable is assigned a *value*. Once assigned, the variable holds the information associated with that value. \n",
    "Variables are important in programming languages. In Python, the convention is to use descriptive variables to help make clear what you are trying to do in your code. Using clear variables can help you maintain your code and can help others read and understand your code.\n",
    "\n",
    "In Python, we can assign a value to a variable, using the equals sign ```=```. "
   ]
  },
  {
   "cell_type": "code",
   "execution_count": null,
   "metadata": {},
   "outputs": [],
   "source": [
    "diabetes_test = \"A1C test\"\n",
    "print(diabetes_test)"
   ]
  },
  {
   "cell_type": "markdown",
   "metadata": {},
   "source": [
    "You can think about it as:\n",
    "> \"The variable 'diabetes_tests' *gets* the value \"'A1C test\""
   ]
  },
  {
   "cell_type": "markdown",
   "metadata": {},
   "source": [
    "## Example\n",
    "If we wanted to track the weight of a patient who weighs 60 kilograms, we could by assigning the value 60 to a variable weight_kg:"
   ]
  },
  {
   "cell_type": "code",
   "execution_count": null,
   "metadata": {},
   "outputs": [],
   "source": [
    "weight_kg = 60"
   ]
  },
  {
   "cell_type": "code",
   "execution_count": null,
   "metadata": {},
   "outputs": [],
   "source": [
    "patient_id = \"001\""
   ]
  },
  {
   "cell_type": "code",
   "execution_count": null,
   "metadata": {},
   "outputs": [],
   "source": [
    "weight_lb = 2.2 * weight_kg"
   ]
  },
  {
   "cell_type": "code",
   "execution_count": null,
   "metadata": {},
   "outputs": [],
   "source": [
    "weight_lb = 2.2 * weight_kg\n",
    "print(weight_lb, \"lbs.\")"
   ]
  },
  {
   "cell_type": "code",
   "execution_count": null,
   "metadata": {},
   "outputs": [],
   "source": [
    "patient_id = 'inflam_' + patient_id"
   ]
  },
  {
   "cell_type": "code",
   "execution_count": null,
   "metadata": {},
   "outputs": [],
   "source": [
    "print(patient_id)"
   ]
  },
  {
   "cell_type": "markdown",
   "metadata": {},
   "source": [
    "As we just saw with patient_id, the value assigned to a variable will remain the same until you alter it. The value can be changed or reassigned within the program."
   ]
  },
  {
   "cell_type": "markdown",
   "metadata": {},
   "source": [
    "\n",
    "Why can we do this? Because Python interprets one line at a time! Be careful, once a variable has been changed, it will hold that new value. When in doubt, don't re-use variable names unless you are absolutely sure that you don't need the old value any longer.\n",
    "Rules for naming variables\n",
    "\n",
    "- can only contain letters, numbers, and underscores\n",
    "- can start with an underscore, but not a number\n",
    "- no spaces, but an underscore can be used to separate words or you can use CamelCase\n",
    "- cannot use the names of Python built-in functions or keywords\n",
    "- should be short, but descriptive (glucose_level is better than gl or g_l)\n",
    "- be consistent. If you start with CamelCase or snake_case, try to use it throughout\n"
   ]
  },
  {
   "cell_type": "markdown",
   "metadata": {},
   "source": [
    "# Examples of acceptable variable names\n",
    "\n",
    "```Patient_numbers = \n",
    "_supply_list = \n",
    "experiment_001_lab = \n",
    "glucose_level = ``` \n",
    "\n",
    "# Less helpful variable names\n",
    "\n",
    "```t_1 = \n",
    "gl = \n",
    "_hom_grad = \n",
    "inventlist = \n",
    "x = \n",
    "bknr =```"
   ]
  },
  {
   "cell_type": "markdown",
   "metadata": {},
   "source": [
    "# Data Types\n",
    "You may have noticed that Jupyter Notebooks is highlighting the text values in red, and the integers in green. The colors correspond to the different data types of these values. There are four basic data types in Python (though many more are available).\n",
    "\n",
    "*   string : `\"Hello there\"`\n",
    "*   boolean (true/false) : `True`\n",
    "*   integer : `4`\n",
    "*   decimal (float) : `4.0`\n",
    "\n",
    "You can check the type of any data using the `type()` function:"
   ]
  },
  {
   "cell_type": "code",
   "execution_count": null,
   "metadata": {},
   "outputs": [],
   "source": [
    "print(type(4))\n",
    "print(type(\"Hello\"))\n",
    "print(type(3.14))"
   ]
  },
  {
   "cell_type": "markdown",
   "metadata": {},
   "source": [
    "## Exercise"
   ]
  },
  {
   "cell_type": "code",
   "execution_count": null,
   "metadata": {},
   "outputs": [],
   "source": [
    "# Create a few helpful variable names relevent to your work\n",
    "# Assign them numeric values or text values  \n",
    "# Do a simple calculation and/or concatenate with strings\n",
    "# Check the data type for each variable \n",
    "\n",
    "\n",
    "\n",
    "\n",
    "\n"
   ]
  },
  {
   "cell_type": "markdown",
   "metadata": {},
   "source": [
    "# Lists \n",
    "Lists are mutable ordered containers of other objects, meaning they can be modified and elements can be added and taken away. The elements in the list maintain their order (until modified). In Python, square brackets ([]) indicate a list, and individual elements are seperated by a comma. "
   ]
  },
  {
   "cell_type": "code",
   "execution_count": null,
   "metadata": {},
   "outputs": [],
   "source": [
    "diabetes_tests = [\"Fasting plasma glucose (FPG) test\", \"A1C test\", \"Random plasma glucos (RPG) test\"]"
   ]
  },
  {
   "cell_type": "code",
   "execution_count": null,
   "metadata": {
    "scrolled": true
   },
   "outputs": [],
   "source": [
    "print(len(diabetes_tests))\n",
    "\n",
    "# Note: Python indexes start at 0, not 1\n",
    "print(diabetes_tests[0])\n",
    "print(diabetes_tests[1].title())\n",
    "\n",
    "#Selecting a range\n",
    "#Note: \"2\" indicates \"to, but not including\"\n",
    "print(diabetes_tests[0:2])\n",
    "\n",
    "#Selecting the last value \n",
    "print(diabetes_tests[-1])\n",
    "\n",
    "#Reversing the list\n",
    "print(diabetes_tests[::-1])"
   ]
  },
  {
   "cell_type": "markdown",
   "metadata": {},
   "source": [
    "## Add to a list\n"
   ]
  },
  {
   "cell_type": "code",
   "execution_count": null,
   "metadata": {
    "scrolled": true
   },
   "outputs": [],
   "source": [
    "# Adding using \"plus\" and string\n",
    "diabetes_tests = diabetes_tests + [\"Glucose challenge test\"]\n",
    "print(diabetes_tests)\n",
    "len(diabetes_tests)"
   ]
  },
  {
   "cell_type": "code",
   "execution_count": null,
   "metadata": {},
   "outputs": [],
   "source": [
    "#Adding using the append method\n",
    "diabetes_tests.append(\"Gestational Diabetes\")\n",
    "len(diabetes_tests)"
   ]
  },
  {
   "cell_type": "code",
   "execution_count": null,
   "metadata": {
    "scrolled": true
   },
   "outputs": [],
   "source": [
    "print(diabetes_tests[0:6])"
   ]
  },
  {
   "cell_type": "code",
   "execution_count": null,
   "metadata": {},
   "outputs": [],
   "source": [
    "# Insert at a specific position\n",
    "\n",
    "Data_Services = [\"Fred\", \"Genevieve\", \"Nicole\"] \n",
    "Data_Services.insert(0, \"Michelle\")\n",
    "print(Data_Services)"
   ]
  },
  {
   "cell_type": "markdown",
   "metadata": {},
   "source": [
    "## Remove item by index"
   ]
  },
  {
   "cell_type": "code",
   "execution_count": null,
   "metadata": {},
   "outputs": [],
   "source": [
    "# Remove using the pop method \n",
    "\n",
    "diabetes_tests.pop(1)\n",
    "len(diabetes_tests)\n",
    "\n"
   ]
  },
  {
   "cell_type": "code",
   "execution_count": null,
   "metadata": {},
   "outputs": [],
   "source": [
    "# Remove by value\n",
    "# Note: this only removes the first value; to remove all values you will need to use a loop\n",
    "\n",
    "diabetes_tests.remove(\"Gestational Diabetes\")\n",
    "len(diabetes_tests)"
   ]
  },
  {
   "cell_type": "markdown",
   "metadata": {},
   "source": [
    "## Testing if Something is In a List "
   ]
  },
  {
   "cell_type": "code",
   "execution_count": null,
   "metadata": {},
   "outputs": [],
   "source": [
    "if 'Glucose challenge test' in diabetes_tests:\n",
    "    print(\"Yes, it's in the list!\")\n",
    "else:\n",
    "    print(\"Nope, it's not included\")"
   ]
  },
  {
   "cell_type": "markdown",
   "metadata": {},
   "source": [
    "## Exercise"
   ]
  },
  {
   "cell_type": "code",
   "execution_count": null,
   "metadata": {},
   "outputs": [],
   "source": [
    "# Create a list of objects (e.g., names, values, equipment, etc)\n",
    "# Use insert()to add somthing to the beginning of your list\n",
    "# Use insert()to add somthing to the middle of your list\n",
    "# Use append to add something to the end of your list \n",
    "# use pop() to remove an item\n",
    "# check to see if something is in your list \n",
    "\n",
    "\n",
    "\n",
    "\n",
    "\n",
    "\n",
    "\n",
    "\n",
    "\n",
    "\n",
    "\n"
   ]
  },
  {
   "cell_type": "markdown",
   "metadata": {},
   "source": [
    "# Dictionaries"
   ]
  },
  {
   "cell_type": "markdown",
   "metadata": {},
   "source": [
    "While lists are a great and simple way to store data, items can really only be accessed using their numerical index. What if you wanted to look up items using something easier to remember? Like, say, a string of text?\n",
    "\n",
    "Let's create some some data for patient IDs and their names.  "
   ]
  },
  {
   "cell_type": "code",
   "execution_count": null,
   "metadata": {},
   "outputs": [],
   "source": [
    "# Key value pairs \n",
    "\n",
    "Patient_IDs = {\n",
    "    \"001\": \"Alice Wong\",\n",
    "    \"002\": \"Xiao Zhan\",\n",
    "    \"003\" : \"Frank Smith\",\n",
    "    \"004\": \"George Wallace\",\n",
    "    \"005\" : \"Amy Lake\",\n",
    "    \"006\": \"Anita Berge\",\n",
    "    \"007\": \"George Hamilton\"\n",
    "}\n",
    "\n",
    "# Now we can retrieve a name by using the username instead of a numerical index\n",
    "print(Patient_IDs['002'])"
   ]
  },
  {
   "cell_type": "markdown",
   "metadata": {},
   "source": [
    "Dictionaries store \"keys\" and their corresponding \"values.\" In the example above, we looked up the key \"002\" and got the value \"Xiao Zhan.\" \n",
    "\n",
    "We can actually store anything we want as values in a dictionary, including lists, strings, numbers, or even other dictionaries. Likewise, lists can store dictionaries, other lists, etc. When we want to add an item to a dictionary, we specify the new key we want it to have, similar to how we look items up:"
   ]
  },
  {
   "cell_type": "code",
   "execution_count": null,
   "metadata": {
    "scrolled": true
   },
   "outputs": [],
   "source": [
    "Patient_IDs[\"008\"] = \"Tess Jansen\"\n",
    "\n",
    "print(Patient_IDs)"
   ]
  },
  {
   "cell_type": "markdown",
   "metadata": {},
   "source": [
    "### Using dictionaries as records\n",
    "\n",
    "Dictionaries are often used to store more complex information that would be difficult to look up in a list:"
   ]
  },
  {
   "cell_type": "code",
   "execution_count": null,
   "metadata": {},
   "outputs": [],
   "source": [
    "Patient_1 = {\n",
    "    \"name\" : \"Alice Wong\",\n",
    "    \"patient_id\": \"001\",\n",
    "    \"currently_enrolled\": True,\n",
    "    \"location\": \"Brooklyn\",\n",
    "    \"clinic\": \"Family Care\",\n",
    "    \"diagnosis\": [\"gestational diabetes\", \"pre-eclampsia\"]\n",
    "}\n",
    "\n",
    "Patient_2 = {\n",
    "    \"name\" : \"Xiao Zhan\",\n",
    "    \"patient_id\": \"002\",\n",
    "    \"currently_enrolled\": True,\n",
    "    \"location\": \"Brooklyn\",\n",
    "    \"clinic\": \"Park Slope Clinic\",\n",
    "    \"diagnosis\": [\"diabetes mellitus\", \"hypertension\"]\n",
    "}\n",
    "\n",
    "Patients = [Patient_1, Patient_2]\n",
    "\n",
    "print(Patients[0]['name'])\n"
   ]
  },
  {
   "cell_type": "markdown",
   "metadata": {},
   "source": [
    "## Exercise"
   ]
  },
  {
   "cell_type": "code",
   "execution_count": null,
   "metadata": {},
   "outputs": [],
   "source": [
    "# Write a dictonary using key : value pairs \n",
    "# and include a list in your dictonary\n",
    "\n",
    "\n",
    "\n",
    "\n",
    "\n"
   ]
  },
  {
   "cell_type": "markdown",
   "metadata": {},
   "source": [
    "# Conditional Statements"
   ]
  },
  {
   "cell_type": "markdown",
   "metadata": {},
   "source": [
    "Along with defining variables, using conditional statements like if/else is one of the most common things you'll do in programming.  If-statements are a fundamental way of controlling the flow of your program, and it allows you take specific actions based on whether a condition is True or not. We can think about it first using some pseudocode:\n",
    "\n",
    "```\n",
    "if ( it is raining outside ):\n",
    "    grab an umbrella before leaving\n",
    "else:\n",
    "    leave the umbrella at home\n",
    "```\n",
    "\n",
    "Only one of these commands will be executed: the first one where the condition is True. \n",
    "\n",
    "In actual Python code, it looks very similar to the above:"
   ]
  },
  {
   "cell_type": "code",
   "execution_count": null,
   "metadata": {},
   "outputs": [],
   "source": [
    "it_is_raining_outside = False\n",
    "\n",
    "if it_is_raining_outside:\n",
    "    print(\"I will grab my umbrella before leaving.\")\n",
    "else:\n",
    "    print(\"I will NOT grab my umbrella before leaving.\")"
   ]
  },
  {
   "cell_type": "markdown",
   "metadata": {},
   "source": [
    "Code blocks inside an If statement must be indented.\n",
    "\n",
    "We can take multiple conditions into account at the same time using the keywords `and` and `or`:"
   ]
  },
  {
   "cell_type": "code",
   "execution_count": null,
   "metadata": {},
   "outputs": [],
   "source": [
    "it_is_raining_outside = False\n",
    "it_will_rain_later = True\n",
    "\n",
    "if it_is_raining_outside or it_will_rain_later:\n",
    "    print(\"I will grab my umbrella before leaving.\")\n",
    "else:\n",
    "    print(\"I will NOT grab my umbrella before leaving.\")"
   ]
  },
  {
   "cell_type": "markdown",
   "metadata": {},
   "source": [
    "And finally, we can chain multiple if-statements together to handle situations of great complexity, using the magical phrase `elif` (short for \"else if\"). As mentioned, Python will keep going through the conditions until it finds one that resolves to True, and then execute the code in that block:"
   ]
  },
  {
   "cell_type": "code",
   "execution_count": null,
   "metadata": {},
   "outputs": [],
   "source": [
    "it_is_raining_outside = False\n",
    "percentage_chance_it_rains_at_some_point = 24\n",
    "i_REALLY_hate_getting_wet = False\n",
    "i_like_being_prepared = False\n",
    "\n",
    "if it_is_raining_outside or i_like_being_prepared:\n",
    "    print(\"I will grab my umbrella before leaving.\")\n",
    "elif percentage_chance_it_rains_at_some_point > 40 or i_REALLY_hate_getting_wet:\n",
    "    print(\"I will PROBABLY grab my umbrella before leaving\")\n",
    "elif (20 <= percentage_chance_it_rains_at_some_point <= 40) and i_REALLY_hate_getting_wet == False:\n",
    "    print(\"I will PROBABLY NOT grab my umbrella before leaving\")\n",
    "else:\n",
    "    print(\"I will NOT grab my umbrella before leaving.\")"
   ]
  },
  {
   "cell_type": "markdown",
   "metadata": {},
   "source": [
    "## Exercise \n",
    "\n",
    "If Alice is enrolled enrolled in the study, print the phrase \"Yes, she is enrolled!\"\n"
   ]
  },
  {
   "cell_type": "code",
   "execution_count": null,
   "metadata": {},
   "outputs": [],
   "source": [
    "#Write code here! \n",
    "\n",
    "if Patients[0][\"currently_enrolled\"]: \n",
    "    print(\"Yes, she is enrolled!\")\n",
    "    \n",
    "if Patients[1][\"location\"] == \"Brooklyn\":\n",
    "    print(\"Yes, currently lives in Brooklyn!\")"
   ]
  },
  {
   "cell_type": "markdown",
   "metadata": {},
   "source": [
    "**NOTE:** In the above if-statement, the conditional used some new symbols, including the \"double equals\" sign. These are called comparison operators. \n",
    "\n",
    "Since the \"single\" equals sign is already used for variable definitions, we need to use a double equals sign whenever we're comparing whether something \"equals\" another thing. There are many operators available in Python; [see here for more examples](https://www.programiz.com/python-programming/operators)."
   ]
  },
  {
   "cell_type": "markdown",
   "metadata": {},
   "source": [
    "# For Loops"
   ]
  },
  {
   "cell_type": "markdown",
   "metadata": {},
   "source": [
    "Along with defining variables and using if-statements, building loops is one of the most common tasks in programming. If you have a data structure, chances are at some point you are going to want to do something to each element in that data structure."
   ]
  },
  {
   "cell_type": "code",
   "execution_count": null,
   "metadata": {},
   "outputs": [],
   "source": [
    "print(diabetes_tests)"
   ]
  },
  {
   "cell_type": "code",
   "execution_count": null,
   "metadata": {},
   "outputs": [],
   "source": [
    "## Print each element of a list\n",
    "for tests in diabetes_tests:\n",
    "    print(tests)"
   ]
  },
  {
   "cell_type": "markdown",
   "metadata": {},
   "source": [
    "What's happening in the above example? The line `for tests in diabetes_tests:` defines a **for loop** through every element in `diabetes_tests`.\n",
    "\n",
    "Each element gets assigned to the temporary variable `diabetes_tests`, and then the body of the loop is executed; in this case, the body is only printing the value of that temporary name.\n",
    "\n",
    "Also notice that the line `print(tests)` is indented. This is an important aspect of Python –– the body of any loop, conditional, or function definition always needs to be indented.\n",
    "\n",
    "You can do a lot within the body of a loop. For example, let's set up a new list:"
   ]
  },
  {
   "cell_type": "code",
   "execution_count": null,
   "metadata": {},
   "outputs": [],
   "source": [
    "# The range() function produces a list of numbers within the range you specify\n",
    "# The list() function is another way of creating a list\n",
    "my_numbers = list(range(0,20))\n",
    "\n",
    "my_numbers"
   ]
  },
  {
   "cell_type": "code",
   "execution_count": null,
   "metadata": {},
   "outputs": [],
   "source": [
    "for number in my_numbers:\n",
    "    if number == 5:\n",
    "        print(\"Hey, I love 5!\")\n",
    "    else:\n",
    "        print(number)"
   ]
  },
  {
   "cell_type": "markdown",
   "metadata": {},
   "source": [
    "Not only can we loop through lists, we can loop through dictionaries, too. Looping through dictionaries is slightly different though –– we iterate through it one **key-value** pair at a time:"
   ]
  },
  {
   "cell_type": "code",
   "execution_count": null,
   "metadata": {
    "scrolled": true
   },
   "outputs": [],
   "source": [
    "# Notice that in order to loop through a dictionary's key-value pairs, we have\n",
    "# to append .items() to the name of the dictionary\n",
    "\n",
    "for ids, name in Patient_IDs.items():\n",
    "    print(\"The person with patient ID \" + ids + \" is named \" + name)"
   ]
  },
  {
   "cell_type": "markdown",
   "metadata": {},
   "source": [
    "# Functions and Arguments"
   ]
  },
  {
   "cell_type": "markdown",
   "metadata": {},
   "source": [
    "Finally, the last pillar of programming (for this class at least): functions. Functions are a way to store a whole block of code so that you can re-use it again and again. Each time you use the function, you can pass it different data, but it performs the same operations to that data. Functions make programming more concise and can serve as a great tool for the user writing code. Think of them like a variable, except instead of data, you're storing certain functionality."
   ]
  },
  {
   "cell_type": "markdown",
   "metadata": {},
   "source": [
    "Functions are defined with the following syntax:  "
   ]
  },
  {
   "cell_type": "code",
   "execution_count": null,
   "metadata": {},
   "outputs": [],
   "source": [
    "def our_function (x):\n",
    "    print(x)"
   ]
  },
  {
   "cell_type": "markdown",
   "metadata": {},
   "source": [
    "`def`   tells Python that you are writing a function definition. This line of code is followed by a colon\n",
    "\n",
    "`our_function`  is what you're going to call the function\n",
    "\n",
    "`x`     within the parenthesis is where you tell Python which parameters this function can accept. there can be many parameters, and you can also define default values"
   ]
  },
  {
   "cell_type": "markdown",
   "metadata": {},
   "source": [
    "Like with for-loops and if-statements, code within the body of the function must be indented. If you forget...Python will let you know!"
   ]
  },
  {
   "cell_type": "code",
   "execution_count": null,
   "metadata": {},
   "outputs": [],
   "source": [
    "# Suppose we have the following String variables\n",
    "x = \"You just called a function on x\"\n",
    "y = \"You just called a function on y\""
   ]
  },
  {
   "cell_type": "code",
   "execution_count": null,
   "metadata": {},
   "outputs": [],
   "source": [
    "# We can call our function on each x and y\n",
    "our_function(y)\n",
    "our_function(x)"
   ]
  },
  {
   "cell_type": "markdown",
   "metadata": {},
   "source": [
    "Notice how our_function simply prints the parameter we pass in and then disappears. Alternatively, functions can have a return value, which is something that may be calculated within the function and then becomes available outside of it."
   ]
  },
  {
   "cell_type": "code",
   "execution_count": null,
   "metadata": {},
   "outputs": [],
   "source": [
    "# Suppose we have a function that adds 5 to a given integer\n",
    "def add_five(x):\n",
    "    x = x + 5  # In this line, we are assigning a new value to x\n",
    "    return x   # Return is what the function will give back"
   ]
  },
  {
   "cell_type": "code",
   "execution_count": null,
   "metadata": {},
   "outputs": [],
   "source": [
    "# Now let's call addFive on an integer 50\n",
    "add_five(50)"
   ]
  },
  {
   "cell_type": "code",
   "execution_count": null,
   "metadata": {},
   "outputs": [],
   "source": [
    "# What does this return?\n",
    "10 + add_five(50)"
   ]
  },
  {
   "cell_type": "code",
   "execution_count": null,
   "metadata": {},
   "outputs": [],
   "source": [
    "# the return value of a function can be stored in its own variable for easy access\n",
    "\n",
    "old_number = 55\n",
    "\n",
    "new_number = add_five(old_number)\n",
    "\n",
    "print(new_number)"
   ]
  },
  {
   "cell_type": "markdown",
   "metadata": {},
   "source": [
    "Functions can be nested, and are evaluated from inside to out when implemented."
   ]
  },
  {
   "cell_type": "markdown",
   "metadata": {},
   "source": [
    "There is no rule to how complex a function definition should be, but the goal of using functions is to encapsulate a specific piece of functionality so that you can reuse it later. If your function is getting huge and complex, you could probably further split it into smaller functions. But that's a topic for another day. \n",
    "\n",
    "For one last example: remember our code to determine whether or not we should bring an umbrella when we leave the house? We can encapsulate all that code into one function like so:"
   ]
  },
  {
   "cell_type": "code",
   "execution_count": null,
   "metadata": {},
   "outputs": [],
   "source": [
    "def bring_umbrella(raining, preparedness, precip_chance, hate_wetness):\n",
    "    if raining or preparedness:\n",
    "        print(\"I will grab my umbrella before leaving.\")\n",
    "    elif precip_chance > 40 or hate_wetness:\n",
    "        print(\"I will PROBABLY grab my umbrella before leaving\")\n",
    "    elif (20 <= precip_chance <= 40) and hate_wetness == False:\n",
    "        print(\"I will PROBABLY NOT grab my umbrella before leaving\")\n",
    "    else:\n",
    "        print(\"I will NOT grab my umbrella before leaving.\")"
   ]
  },
  {
   "cell_type": "markdown",
   "metadata": {},
   "source": [
    "Now, when we went to determine whether to grab an umbrella, instead of writing all that out again we just have to call this function and pass in all the information (parameters) it's expecting."
   ]
  },
  {
   "cell_type": "code",
   "execution_count": null,
   "metadata": {},
   "outputs": [],
   "source": [
    "bring_umbrella(False, True, 70, True)"
   ]
  },
  {
   "cell_type": "markdown",
   "metadata": {},
   "source": [
    "# Python Libraries"
   ]
  },
  {
   "cell_type": "markdown",
   "metadata": {},
   "source": [
    "### Example 1: Plotting the Linear Regression of a Set of Random Numbers"
   ]
  },
  {
   "cell_type": "markdown",
   "metadata": {},
   "source": [
    "Alright, that was a whirlwind tour of Python! But remember right at the beginning, when I mentioned Python Libraries? I said we'd come back to it, and here we are. Let's look a little more closely, because this is much closer to how you'll be using Python in the real world. "
   ]
  },
  {
   "cell_type": "code",
   "execution_count": null,
   "metadata": {},
   "outputs": [],
   "source": [
    "import matplotlib.pyplot as plt\n",
    "from scipy import stats\n",
    "import numpy as np"
   ]
  },
  {
   "cell_type": "markdown",
   "metadata": {},
   "source": [
    "The first thing we do at the top of every script is `import` the various modules that we'll need to accomplish our task. Here we import elements from Matplotlib, SciPy, and NumPy. These 3 packages contain a ton of functionality for science and mathematics, and they are included in the Anaconda environment. \n",
    "\n",
    "The syntax `import XXX as X` allows you to import a package and load it into a variable of your choosing. So in the example above, the entire `numpy` library has been loaded into the variable `np`. All of the functions in the `numpy` codebase can now be accessed using dot notation like: `np.function_name()`. "
   ]
  },
  {
   "cell_type": "code",
   "execution_count": null,
   "metadata": {},
   "outputs": [],
   "source": [
    "np.random.seed(12345678)\n",
    "x = np.random.random(10)\n",
    "y = 1.6*x + np.random.random(10)\n",
    "print(x)\n",
    "print(y)"
   ]
  },
  {
   "cell_type": "markdown",
   "metadata": {},
   "source": [
    "Inside the NumPy library there is a module called [\"random\"](https://docs.scipy.org/doc/numpy/reference/random/index.html), which provides a random number generator. First we're using the `seed()` method to get the random number generator going, then using the `random()` method, with the parameter 10, to generate 10 random numbers and store them as a list in the variable `x`. Then we do a little massaging to create another list of slightly larger numbers for `y`."
   ]
  },
  {
   "cell_type": "code",
   "execution_count": null,
   "metadata": {},
   "outputs": [],
   "source": [
    "slope, intercept, r_value, p_value, std_err = stats.linregress(x,y)"
   ]
  },
  {
   "cell_type": "markdown",
   "metadata": {},
   "source": [
    "This line gets a little interesting. By looking up the `linregress()` function in the [official documentation](https://docs.scipy.org/doc/scipy/reference/generated/scipy.stats.linregress.html), we know that after it calculates the linear regression, it returns not just one value, like our `add_five()` function from above. It actually returns five separate values, which can each be stored into its own variable. Luckily, the documentation includes an example (which may look familiar...) so you can see how to do that.\n",
    "\n",
    "Now that we have all the information we need for our plot, we can turn to the `matplotlib.pyplot` module, which is contained in our variable `plt`. The documentation includes [a very good beginner tutorial](https://matplotlib.org/3.1.0/tutorials/introductory/pyplot.html), but on top of that they provide [dozens of examples of impressive, high-quality charts](https://matplotlib.org/3.1.0/gallery/index.html), which you are free to copy and experiment with."
   ]
  },
  {
   "cell_type": "code",
   "execution_count": null,
   "metadata": {},
   "outputs": [],
   "source": [
    "plt.plot(x, y, 'o', label='original_data')\n",
    "plt.plot(x, intercept + slope*x, 'r', label='fitted_line')\n",
    "plt.legend()\n",
    "plt.show()"
   ]
  },
  {
   "cell_type": "markdown",
   "metadata": {},
   "source": [
    "### Example 2: Downloading a CSV into a Pandas DataFrame, and Exploring the Data"
   ]
  },
  {
   "cell_type": "markdown",
   "metadata": {},
   "source": [
    "We briefly mentioned the Pandas DataFrame earlier, and now we're going to dive headfirst into it. \n",
    "\n",
    "For future reference, here is [a great, simple introduction to DataFrames](https://www.datacamp.com/community/tutorials/pandas-tutorial-dataframe-python). I also highly recommend [the official \"10 Minutes to Pandas\" guide](https://pandas.pydata.org/pandas-docs/stable/getting_started/10min.html) with some general information and explanations of common procedures. For much more information about common tasks and idioms in Pandas, check out the official [Pandas Cookbook](https://pandas.pydata.org/pandas-docs/stable/user_guide/cookbook.html)."
   ]
  },
  {
   "cell_type": "code",
   "execution_count": null,
   "metadata": {},
   "outputs": [],
   "source": [
    "import matplotlib.pyplot as plt\n",
    "import numpy as np\n",
    "import pandas as pd"
   ]
  },
  {
   "cell_type": "markdown",
   "metadata": {},
   "source": [
    "As in our previous script, we start by importing the libraries we need. It is customary to import NumPy before Pandas, since many Pandas features are based on NumPy features."
   ]
  },
  {
   "cell_type": "code",
   "execution_count": null,
   "metadata": {},
   "outputs": [],
   "source": [
    "drv = pd.read_csv('https://raw.githubusercontent.com/fivethirtyeight/data/master/bad-drivers/bad-drivers.csv')"
   ]
  },
  {
   "cell_type": "markdown",
   "metadata": {},
   "source": [
    "Wow! In one line we just connected to the internet, downloaded a CSV file, and stored it as a DataFrame in the variable `drv` (you probably want to pick a short variable name because you'll be referencing it a lot). Without the Pandas library this would take some Googling, probably 6-7 extra lines of code, and we still wouldn't have any of the functionality of a DataFrame available to us. Speaking of which, let's see what some of that functionality is.\n",
    "\n",
    "Often the first thing you want to do after importing data is to take a quick look to see what we have. Pandas makes this incredibly easy with the .head() function:"
   ]
  },
  {
   "cell_type": "code",
   "execution_count": null,
   "metadata": {},
   "outputs": [],
   "source": [
    "drv.head()"
   ]
  },
  {
   "cell_type": "markdown",
   "metadata": {},
   "source": [
    "Right away we can see we have data about driver safety and insurance costs per state. Note how the data starts at row 0 instead of 1, just like when we were using a regular Python list earlier.\n",
    "\n",
    "Since most of this data is numerical, we will probably find it useful to get a quick statistical summary using `.describe()`:"
   ]
  },
  {
   "cell_type": "code",
   "execution_count": null,
   "metadata": {},
   "outputs": [],
   "source": [
    "drv.describe()"
   ]
  },
  {
   "cell_type": "markdown",
   "metadata": {},
   "source": [
    "Right away I'm noticing that there's a huge difference between the min and max of insurance rates. I want to know if the states paying the highest rates also show the most reckless driving behaviors.\n",
    "\n",
    "With Pandas (and with Python in general) you can often string methods together in order to accomplish tasks easily. If we want to get the top 10 highest insurance rates, we can sort the data with `sort_values()` and then take just the first 10 with the `head()` function we used earlier."
   ]
  },
  {
   "cell_type": "code",
   "execution_count": null,
   "metadata": {},
   "outputs": [],
   "source": [
    "drv.sort_values(by=['Car Insurance Premiums ($)'], ascending=False).head(10)"
   ]
  },
  {
   "cell_type": "markdown",
   "metadata": {},
   "source": [
    "Hm, it actually looks like states with the most expensive insurance actually have relatively safe drivers. We'll have to do some more digging.\n",
    "\n",
    "One thing I can tell though is that dealing with these long column names is going to get annoying. Luckily we can change all the names at once by providing a list of the new names and storing it in `drv.columns`:"
   ]
  },
  {
   "cell_type": "code",
   "execution_count": null,
   "metadata": {},
   "outputs": [],
   "source": [
    "drv.columns = ['state', 'fatal_accidents', 'drivers_speeding', 'drivers_impaired', 'drivers_not_distracted', 'drivers_first_accident', 'ins_cost', 'ins_losses_per_driver']\n",
    "drv.head()"
   ]
  },
  {
   "cell_type": "markdown",
   "metadata": {},
   "source": [
    "That's better. \n",
    "\n",
    "Now we can perform more complex queries of the data using the `.loc` method. It's so powerful it basically turns the DataFrame into a SQL database. [Here is a quick introduction to some common patterns](https://stackoverflow.com/questions/17071871/select-rows-from-a-dataframe-based-on-values-in-a-column-in-pandas?rq=1). You'll probably be using it a lot.\n",
    "\n",
    "I'm curious if there are any states where insurance is cheap despite having a lot of accidents. Put another way, let's find out if any states have above average fatal accidents, but insurance costs in the bottom 25%. Using the info from when we ran `describe()`:"
   ]
  },
  {
   "cell_type": "code",
   "execution_count": null,
   "metadata": {},
   "outputs": [],
   "source": [
    "# NOTE: We use parentheses to group the conditions because Python respects the order of operations (e.g. PEMDAS)\n",
    "\n",
    "drv.loc[(drv['ins_cost'] <= 768) & (drv['fatal_accidents'] >= 15.79)]"
   ]
  },
  {
   "cell_type": "markdown",
   "metadata": {},
   "source": [
    "That's interesting -- I remember from `describe()` that 23.9 was the max number of fatal car accidents of any state. And yet they seem to have the second-lowest insurance premiums. Let's quickly sort the whole table to make sure, using `sort_values()`:"
   ]
  },
  {
   "cell_type": "code",
   "execution_count": null,
   "metadata": {},
   "outputs": [],
   "source": [
    "drv.sort_values(by='fatal_accidents', ascending=False).head(5)"
   ]
  },
  {
   "cell_type": "markdown",
   "metadata": {},
   "source": [
    "Yep, it's right at the top. And a lot of these accidents happened while the driver was impaired. But despite this, the insurance company losses per driver don't seem that high. I wonder if that's why the rates stay low. \n",
    "\n",
    "Now I'm curious what the relationship between insurance losses and insurance rates is. I suspect that states that have high rates of reckless driving will have higher losses per driver and charge higher rates to make up for it. I wish we had another column that listed what the loss per driver is as a percentage of the rate charged.\n",
    "\n",
    "Luckily we can do this. Now, if this were a normal Python list/dictionary, we would use a For-loop to iterate over every row, calculate the percentage, and add it to the end of the list. But after looking around the internet, I quickly found that doing any kind of a loop over a Pandas DataFrame is not recommended. Instead, we can use the [`apply()` function](http://jonathansoma.com/lede/foundations/classes/pandas%20columns%20and%20functions/apply-a-function-to-every-row-in-a-pandas-dataframe/).\n",
    "\n",
    "First we will define a simple function that returns the percentage, and then we pass that function as a parameter into the `apply()` function. Our second parameter to `apply()` is `axis=1` which tells Pandas we want this to be applied on a row-by-row basis (the default is `axis=0` or column-by-column). I've never used `apply()` before, so let's just run it real quick to make sure it works right:"
   ]
  },
  {
   "cell_type": "code",
   "execution_count": null,
   "metadata": {},
   "outputs": [],
   "source": [
    "def ins_percent(row):\n",
    "    return ( row['ins_losses_per_driver'] / row['ins_cost'] ) * 100 \n",
    "\n",
    "drv.apply(ins_percent, axis=1)"
   ]
  },
  {
   "cell_type": "markdown",
   "metadata": {},
   "source": [
    "Some spot-checking tells me these numbers are OK, so now it's time to actually save this data into a new column. Again, the syntax is similar to when we dealt with regular dictionaries before. We just specify the new column name in brackets:"
   ]
  },
  {
   "cell_type": "code",
   "execution_count": null,
   "metadata": {},
   "outputs": [],
   "source": [
    "drv['ins_loss_percentage'] = drv.apply(ins_percent, axis=1)\n",
    "drv.head(5)"
   ]
  },
  {
   "cell_type": "markdown",
   "metadata": {},
   "source": [
    "Alright! That was easy. So which states have the highest insurance company losses as a percentage of insurance rates?"
   ]
  },
  {
   "cell_type": "code",
   "execution_count": null,
   "metadata": {},
   "outputs": [],
   "source": [
    "drv.sort_values(by=\"ins_loss_percentage\", ascending=False).head(10)"
   ]
  },
  {
   "cell_type": "markdown",
   "metadata": {},
   "source": [
    "Hm. Weird. The states where insurance companies are paying out a lot per driver are states where fatal accidents, drunk driving, speeding, etc. are actually relatively low, as are insurance rates. We can easily run some scatterplots with matplotlib to see if we can find any patterns."
   ]
  },
  {
   "cell_type": "code",
   "execution_count": null,
   "metadata": {},
   "outputs": [],
   "source": [
    "# fatal accidents versus insurance payouts per driver\n",
    "\n",
    "plt.scatter(drv['fatal_accidents'], drv['ins_losses_per_driver'])\n",
    "plt.show()"
   ]
  },
  {
   "cell_type": "code",
   "execution_count": null,
   "metadata": {},
   "outputs": [],
   "source": [
    "# drunk drivers versus insurance loss percentage\n",
    "\n",
    "plt.scatter(drv['drivers_impaired'], drv['ins_loss_percentage'])\n",
    "plt.show()"
   ]
  },
  {
   "cell_type": "markdown",
   "metadata": {},
   "source": [
    "Alright, I'm not seeing anything here. Out of curiosity let's look at the states where drivers are getting the worst deals on insurance (i.e. they pay the most for insurance relative to how much the insurance companies pay out):"
   ]
  },
  {
   "cell_type": "code",
   "execution_count": null,
   "metadata": {},
   "outputs": [],
   "source": [
    "drv.sort_values(by=\"ins_loss_percentage\", ascending=True).head(10)"
   ]
  },
  {
   "cell_type": "markdown",
   "metadata": {},
   "source": [
    "Now this is interesting. These states have pretty low rates of fatal accidents and reckless behaviors, but they are getting the worst deals on insurance. One thing most of them have in common though is a high cost of living and higher incomes. Could that be the main determinant of insurance rates? Do insurance companies just charge as much as they can get away with?\n"
   ]
  },
  {
   "cell_type": "markdown",
   "metadata": {},
   "source": [
    "# Parting Thoughts\n",
    "\n",
    "\n",
    "It's important to be able to read official documentation, but it's often not enough to help you understand how to accomplish your goal. For solutions to real-world problems, **look for Stack Overflow questions, tutorials from blogs and/or coding schools, and especially \"cookbooks.\"**\n",
    "\n",
    "And again: the best way to learn Python is to **find your problem first**, then use Python as the solution. Starting with a goal will help focus your efforts.\n",
    "\n",
    "### Important science and math libraries\n",
    "- https://pandas.pydata.org/\n",
    "- https://www.scipy.org/\n",
    "- https://www.numpy.org/\n",
    "- https://biopython.org/\n",
    "- https://bokeh.pydata.org/en/latest/ (very nice visualizations)\n",
    "- https://www.tensorflow.org/ (machine learning)\n",
    "\n",
    "### Python Operators\n",
    "- https://www.programiz.com/python-programming/operators\n",
    "\n",
    "### Lists\n",
    "- https://stackoverflow.com/a/509295\n",
    "- https://realpython.com/python-lists-tuples/\n",
    "- https://docs.python.org/3/tutorial/datastructures.html\n",
    "\n",
    "### Dictionaries\n",
    "- https://realpython.com/python-dicts/\n",
    "\n",
    "### Specialized Scientific Data Structures\n",
    "- https://docs.scipy.org/doc/numpy/reference/arrays.ndarray.html\n",
    "- https://biopython.org/wiki/Seq\n",
    "- https://www.datacamp.com/community/tutorials/pandas-tutorial-dataframe-python\n",
    "\n",
    "### Loops\n",
    "- https://www.learnpython.org/en/Loops\n",
    "- https://www.datacamp.com/community/tutorials/for-loops-in-python\n",
    "- https://realpython.com/python-while-loop/\n",
    "\n",
    "### Functions\n",
    "- https://www.datacamp.com/community/tutorials/functions-python-tutorial\n",
    "- https://realpython.com/python-main-function/ (useful when you're writing a standalone script)\n",
    "\n",
    "### MatplotLib Tutorial and Gallery\n",
    "- https://matplotlib.org/3.1.0/tutorials/introductory/pyplot.html\n",
    "- https://matplotlib.org/3.1.0/gallery/index.html\n",
    "\n",
    "### Pandas\n",
    "- https://pandas.pydata.org/pandas-docs/stable/getting_started/10min.html\n",
    "- https://pandas.pydata.org/pandas-docs/stable/user_guide/cookbook.html\n",
    "- https://www.datacamp.com/community/tutorials/pandas-tutorial-dataframe-python\n",
    "- https://stackoverflow.com/questions/17071871/select-rows-from-a-dataframe-based-on-values-in-a-column-in-pandas?rq=1\n",
    "- https://www.datacamp.com/community/tutorials/joining-dataframes-pandas\n",
    "\n",
    "### More Resources and Online Courses\n",
    "- https://www.datacamp.com\n",
    "- https://realpython.com/\n",
    "- https://docs.python-guide.org/intro/learning/\n",
    "- https://www.coursera.org/learn/python\n",
    "- https://www.codecademy.com/learn/learn-python-3\n",
    "\n",
    "### Easily-Downloadable Datasets to Play With\n",
    "Note: when downloading datasets from GitHub, be sure to click on the \"raw\" button near the top to get the unformatted data, which is the only kind Python can accept. This URL (which usually starts with https://raw.githubusercontent.com) can be used directly in the Pandas `read_csv()` function\n",
    "- https://github.com/fivethirtyeight/data\n",
    "- https://github.com/mwaskom/seaborn-data"
   ]
  }
 ],
 "metadata": {
  "kernelspec": {
   "display_name": "Python 3",
   "language": "python",
   "name": "python3"
  },
  "language_info": {
   "codemirror_mode": {
    "name": "ipython",
    "version": 3
   },
   "file_extension": ".py",
   "mimetype": "text/x-python",
   "name": "python",
   "nbconvert_exporter": "python",
   "pygments_lexer": "ipython3",
   "version": "3.8.8"
  }
 },
 "nbformat": 4,
 "nbformat_minor": 4
}
